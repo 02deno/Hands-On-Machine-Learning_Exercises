{
  "nbformat": 4,
  "nbformat_minor": 0,
  "metadata": {
    "colab": {
      "provenance": [],
      "toc_visible": true
    },
    "kernelspec": {
      "name": "python3",
      "display_name": "Python 3"
    },
    "language_info": {
      "name": "python"
    }
  },
  "cells": [
    {
      "cell_type": "markdown",
      "source": [
        "Links :\n",
        "\n",
        "\n",
        "*   https://machinelearningknowledge.ai/knn-classifier-in-sklearn-using-gridsearchcv-with-example/ \n",
        "*   https://www.kaggle.com/code/maharshipandya/mnist-using-knn-97\n",
        "* \n",
        "\n"
      ],
      "metadata": {
        "id": "HBc03UhDL1RI"
      }
    },
    {
      "cell_type": "markdown",
      "source": [
        "# Chapter 3, Q1\n",
        "Try to build a classifier for the MNIST dataset that achieves over 97% accuracy\n",
        "on the test set. Hint: the KNeighborsClassifier works quite well for this task;\n",
        "you just need to find good hyperparameter values (try a grid search on the\n",
        "weights and n_neighbors hyperparameters).\n"
      ],
      "metadata": {
        "id": "3ty6e48HPLhr"
      }
    },
    {
      "cell_type": "markdown",
      "source": [
        "## Imports"
      ],
      "metadata": {
        "id": "rJeDZCXO5lTo"
      }
    },
    {
      "cell_type": "code",
      "source": [
        "from tensorflow import keras\n",
        "import tensorflow as tf\n",
        "from matplotlib import pyplot as plt                        \n",
        "import numpy as np\n",
        "import pandas as pd\n",
        "import os\n",
        "from sklearn.neighbors import KNeighborsClassifier\n",
        "from sklearn.model_selection import cross_val_predict\n",
        "from sklearn.model_selection import cross_val_score\n",
        "from sklearn.metrics import confusion_matrix, ConfusionMatrixDisplay\n",
        "from sklearn.model_selection import GridSearchCV\n",
        "from sklearn.metrics import accuracy_score\n",
        "import sys"
      ],
      "metadata": {
        "id": "FBGCtdJePWoz"
      },
      "execution_count": null,
      "outputs": []
    },
    {
      "cell_type": "markdown",
      "source": [
        "## Load the Data"
      ],
      "metadata": {
        "id": "ixMwNv1_5n4T"
      }
    },
    {
      "cell_type": "code",
      "source": [
        "(X_train, y_train), (X_test, y_test) = keras.datasets.mnist.load_data()"
      ],
      "metadata": {
        "id": "2jBmIYGYiQAz"
      },
      "execution_count": null,
      "outputs": []
    },
    {
      "cell_type": "markdown",
      "source": [
        "## Take a quick look at the data"
      ],
      "metadata": {
        "id": "xMArjNEL5pKR"
      }
    },
    {
      "cell_type": "code",
      "source": [
        "X_train"
      ],
      "metadata": {
        "colab": {
          "base_uri": "https://localhost:8080/"
        },
        "id": "MeBV4_L2iUp4",
        "outputId": "87cc084b-93ea-40e6-b071-0e10a0f022f8"
      },
      "execution_count": null,
      "outputs": [
        {
          "output_type": "execute_result",
          "data": {
            "text/plain": [
              "array([[[0, 0, 0, ..., 0, 0, 0],\n",
              "        [0, 0, 0, ..., 0, 0, 0],\n",
              "        [0, 0, 0, ..., 0, 0, 0],\n",
              "        ...,\n",
              "        [0, 0, 0, ..., 0, 0, 0],\n",
              "        [0, 0, 0, ..., 0, 0, 0],\n",
              "        [0, 0, 0, ..., 0, 0, 0]],\n",
              "\n",
              "       [[0, 0, 0, ..., 0, 0, 0],\n",
              "        [0, 0, 0, ..., 0, 0, 0],\n",
              "        [0, 0, 0, ..., 0, 0, 0],\n",
              "        ...,\n",
              "        [0, 0, 0, ..., 0, 0, 0],\n",
              "        [0, 0, 0, ..., 0, 0, 0],\n",
              "        [0, 0, 0, ..., 0, 0, 0]],\n",
              "\n",
              "       [[0, 0, 0, ..., 0, 0, 0],\n",
              "        [0, 0, 0, ..., 0, 0, 0],\n",
              "        [0, 0, 0, ..., 0, 0, 0],\n",
              "        ...,\n",
              "        [0, 0, 0, ..., 0, 0, 0],\n",
              "        [0, 0, 0, ..., 0, 0, 0],\n",
              "        [0, 0, 0, ..., 0, 0, 0]],\n",
              "\n",
              "       ...,\n",
              "\n",
              "       [[0, 0, 0, ..., 0, 0, 0],\n",
              "        [0, 0, 0, ..., 0, 0, 0],\n",
              "        [0, 0, 0, ..., 0, 0, 0],\n",
              "        ...,\n",
              "        [0, 0, 0, ..., 0, 0, 0],\n",
              "        [0, 0, 0, ..., 0, 0, 0],\n",
              "        [0, 0, 0, ..., 0, 0, 0]],\n",
              "\n",
              "       [[0, 0, 0, ..., 0, 0, 0],\n",
              "        [0, 0, 0, ..., 0, 0, 0],\n",
              "        [0, 0, 0, ..., 0, 0, 0],\n",
              "        ...,\n",
              "        [0, 0, 0, ..., 0, 0, 0],\n",
              "        [0, 0, 0, ..., 0, 0, 0],\n",
              "        [0, 0, 0, ..., 0, 0, 0]],\n",
              "\n",
              "       [[0, 0, 0, ..., 0, 0, 0],\n",
              "        [0, 0, 0, ..., 0, 0, 0],\n",
              "        [0, 0, 0, ..., 0, 0, 0],\n",
              "        ...,\n",
              "        [0, 0, 0, ..., 0, 0, 0],\n",
              "        [0, 0, 0, ..., 0, 0, 0],\n",
              "        [0, 0, 0, ..., 0, 0, 0]]], dtype=uint8)"
            ]
          },
          "metadata": {},
          "execution_count": 4
        }
      ]
    },
    {
      "cell_type": "code",
      "source": [
        "y_train"
      ],
      "metadata": {
        "colab": {
          "base_uri": "https://localhost:8080/"
        },
        "id": "yssRPc2UiP-V",
        "outputId": "3c064989-fe9e-4d0b-814c-c0a711f18c1f"
      },
      "execution_count": null,
      "outputs": [
        {
          "output_type": "execute_result",
          "data": {
            "text/plain": [
              "array([5, 0, 4, ..., 5, 6, 8], dtype=uint8)"
            ]
          },
          "metadata": {},
          "execution_count": 5
        }
      ]
    },
    {
      "cell_type": "code",
      "source": [
        "print('Shape of X_train: ', X_train.shape) # 6000 images, 28*28 pixel\n",
        "print('Shape of y_train: ', y_train.shape)\n",
        "print('Shape of X_test: ', X_test.shape) # 1000 images, 28*28 pixel\n",
        "print('Shape of y_test: ', y_test.shape)"
      ],
      "metadata": {
        "colab": {
          "base_uri": "https://localhost:8080/"
        },
        "id": "ijmGan5siP7R",
        "outputId": "3ebb5380-269d-4f7d-c2a6-4008f124c660"
      },
      "execution_count": null,
      "outputs": [
        {
          "output_type": "stream",
          "name": "stdout",
          "text": [
            "Shape of X_train:  (60000, 28, 28)\n",
            "Shape of y_train:  (60000,)\n",
            "Shape of X_test:  (10000, 28, 28)\n",
            "Shape of y_test:  (10000,)\n"
          ]
        }
      ]
    },
    {
      "cell_type": "code",
      "source": [
        "for i in range(20):\n",
        "  plt.subplot(4,5,i+1)\n",
        "  plt.imshow(X_train[i],cmap='gray_r')\n",
        "  plt.title(\"Digit : {}\".format(y_train[i]))\n",
        "  plt.subplots_adjust(hspace=0.5)\n",
        "  plt.axis('off')"
      ],
      "metadata": {
        "colab": {
          "base_uri": "https://localhost:8080/",
          "height": 428
        },
        "id": "vYU5SUJoiPzd",
        "outputId": "0526b860-7d48-44dc-c915-9ada5a6b5037"
      },
      "execution_count": null,
      "outputs": [
        {
          "output_type": "display_data",
          "data": {
            "text/plain": [
              "<Figure size 640x480 with 20 Axes>"
            ],
            "image/png": "[encoded data removed]"
          },
          "metadata": {}
        }
      ]
    },
    {
      "cell_type": "code",
      "source": [
        "plt.hist(X_train[0].reshape(784),facecolor='orange')\n",
        "plt.title('Pixel vs its intensity',fontsize=16)\n",
        "plt.ylabel('PIXEL')\n",
        "plt.xlabel('Intensity')"
      ],
      "metadata": {
        "colab": {
          "base_uri": "https://localhost:8080/",
          "height": 491
        },
        "id": "aYaVupcYiPp8",
        "outputId": "a7492979-431d-4ef8-ae3d-09b6fb625b74"
      },
      "execution_count": null,
      "outputs": [
        {
          "output_type": "execute_result",
          "data": {
            "text/plain": [
              "Text(0.5, 0, 'Intensity')"
            ]
          },
          "metadata": {},
          "execution_count": 8
        },
        {
          "output_type": "display_data",
          "data": {
            "text/plain": [
              "<Figure size 640x480 with 1 Axes>"
            ],
            "image/png": "[encoded data removed]"
          },
          "metadata": {}
        }
      ]
    },
    {
      "cell_type": "code",
      "source": [
        "pd.DataFrame(y_train).value_counts().plot.bar()"
      ],
      "metadata": {
        "colab": {
          "base_uri": "https://localhost:8080/",
          "height": 478
        },
        "id": "e48p0odOigJG",
        "outputId": "acd467df-78f4-4b42-9f61-2d968f16972d"
      },
      "execution_count": null,
      "outputs": [
        {
          "output_type": "execute_result",
          "data": {
            "text/plain": [
              "<Axes: xlabel='0'>"
            ]
          },
          "metadata": {},
          "execution_count": 9
        },
        {
          "output_type": "display_data",
          "data": {
            "text/plain": [
              "<Figure size 640x480 with 1 Axes>"
            ],
            "image/png": "[encoded data removed]"
          },
          "metadata": {}
        }
      ]
    },
    {
      "cell_type": "markdown",
      "source": [
        "## Preprocessing"
      ],
      "metadata": {
        "id": "EUgD1gzs53Db"
      }
    },
    {
      "cell_type": "code",
      "source": [
        "# Normalizing and splitting the train data into a validation set and traing set\n",
        "X_valid, X_train = X_train[:5000].astype('float32') / 255, X_train[5000:].astype('float32') / 255\n",
        "y_valid, y_train = y_train[:5000], y_train[5000:]\n",
        "X_test = X_test.astype('float32') / 255"
      ],
      "metadata": {
        "id": "r1cXjEuaigHI"
      },
      "execution_count": null,
      "outputs": []
    },
    {
      "cell_type": "code",
      "source": [
        "X_valid.shape"
      ],
      "metadata": {
        "colab": {
          "base_uri": "https://localhost:8080/"
        },
        "id": "avQPfGgVif-6",
        "outputId": "9e87d650-0c10-4d72-a48b-97a672295534"
      },
      "execution_count": null,
      "outputs": [
        {
          "output_type": "execute_result",
          "data": {
            "text/plain": [
              "(5000, 28, 28)"
            ]
          },
          "metadata": {},
          "execution_count": 11
        }
      ]
    },
    {
      "cell_type": "code",
      "source": [
        "X_train.shape"
      ],
      "metadata": {
        "colab": {
          "base_uri": "https://localhost:8080/"
        },
        "id": "lVDj6hYXigDl",
        "outputId": "9815d271-bc47-4c6c-e1c0-ea6867d1ab59"
      },
      "execution_count": null,
      "outputs": [
        {
          "output_type": "execute_result",
          "data": {
            "text/plain": [
              "(55000, 28, 28)"
            ]
          },
          "metadata": {},
          "execution_count": 12
        }
      ]
    },
    {
      "cell_type": "code",
      "source": [
        "y_train.shape"
      ],
      "metadata": {
        "colab": {
          "base_uri": "https://localhost:8080/"
        },
        "id": "rtzDBip655qW",
        "outputId": "71cbefa4-cd7d-49c7-d3a2-fd19a52cb833"
      },
      "execution_count": null,
      "outputs": [
        {
          "output_type": "execute_result",
          "data": {
            "text/plain": [
              "(55000,)"
            ]
          },
          "metadata": {},
          "execution_count": 19
        }
      ]
    },
    {
      "cell_type": "code",
      "source": [
        "# Flatten the training data (55000,28,28) --> (5000,784)\n",
        "X_train = np.reshape(X_train, (-1, 784))\n",
        "X_valid = np.reshape(X_valid, (-1, 784))\n",
        "X_test = np.reshape(X_test, (-1, 784))"
      ],
      "metadata": {
        "id": "G9jJc3jb54y4"
      },
      "execution_count": null,
      "outputs": []
    },
    {
      "cell_type": "code",
      "source": [
        "X_train.shape"
      ],
      "metadata": {
        "colab": {
          "base_uri": "https://localhost:8080/"
        },
        "id": "haX3Wf3g7AN8",
        "outputId": "b18ea12d-e1cb-4511-c818-28e4f492ff84"
      },
      "execution_count": null,
      "outputs": [
        {
          "output_type": "execute_result",
          "data": {
            "text/plain": [
              "(55000, 784)"
            ]
          },
          "metadata": {},
          "execution_count": 51
        }
      ]
    },
    {
      "cell_type": "code",
      "source": [
        "# [5] - [0,0,0,0,0,1,0,0,0,0]\n",
        "#y_train = keras.utils.to_categorical(y_train)\n",
        "#y_valid = keras.utils.to_categorical(y_valid)\n",
        "#y_test = keras.utils.to_categorical(y_test)"
      ],
      "metadata": {
        "id": "5vD6fA5a8yma"
      },
      "execution_count": null,
      "outputs": []
    },
    {
      "cell_type": "markdown",
      "source": [
        "## Training a binary Classifier"
      ],
      "metadata": {
        "id": "QDoA5E2i55E3"
      }
    },
    {
      "cell_type": "code",
      "source": [
        "knn_clf = KNeighborsClassifier()\n",
        "knn_clf.fit(X_train, y_train)"
      ],
      "metadata": {
        "colab": {
          "base_uri": "https://localhost:8080/",
          "height": 75
        },
        "id": "a9d5Szy_if7l",
        "outputId": "58c0bd81-ea57-455d-d00d-aa8364218cb2"
      },
      "execution_count": null,
      "outputs": [
        {
          "output_type": "execute_result",
          "data": {
            "text/plain": [
              "KNeighborsClassifier()"
            ],
            "text/html": [
              "<style>#sk-container-id-1 {color: black;background-color: white;}#sk-container-id-1 pre{padding: 0;}#sk-container-id-1 div.sk-toggleable {background-color: white;}#sk-container-id-1 label.sk-toggleable__label {cursor: pointer;display: block;width: 100%;margin-bottom: 0;padding: 0.3em;box-sizing: border-box;text-align: center;}#sk-container-id-1 label.sk-toggleable__label-arrow:before {content: \"▸\";float: left;margin-right: 0.25em;color: #696969;}#sk-container-id-1 label.sk-toggleable__label-arrow:hover:before {color: black;}#sk-container-id-1 div.sk-estimator:hover label.sk-toggleable__label-arrow:before {color: black;}#sk-container-id-1 div.sk-toggleable__content {max-height: 0;max-width: 0;overflow: hidden;text-align: left;background-color: #f0f8ff;}#sk-container-id-1 div.sk-toggleable__content pre {margin: 0.2em;color: black;border-radius: 0.25em;background-color: #f0f8ff;}#sk-container-id-1 input.sk-toggleable__control:checked~div.sk-toggleable__content {max-height: 200px;max-width: 100%;overflow: auto;}#sk-container-id-1 input.sk-toggleable__control:checked~label.sk-toggleable__label-arrow:before {content: \"▾\";}#sk-container-id-1 div.sk-estimator input.sk-toggleable__control:checked~label.sk-toggleable__label {background-color: #d4ebff;}#sk-container-id-1 div.sk-label input.sk-toggleable__control:checked~label.sk-toggleable__label {background-color: #d4ebff;}#sk-container-id-1 input.sk-hidden--visually {border: 0;clip: rect(1px 1px 1px 1px);clip: rect(1px, 1px, 1px, 1px);height: 1px;margin: -1px;overflow: hidden;padding: 0;position: absolute;width: 1px;}#sk-container-id-1 div.sk-estimator {font-family: monospace;background-color: #f0f8ff;border: 1px dotted black;border-radius: 0.25em;box-sizing: border-box;margin-bottom: 0.5em;}#sk-container-id-1 div.sk-estimator:hover {background-color: #d4ebff;}#sk-container-id-1 div.sk-parallel-item::after {content: \"\";width: 100%;border-bottom: 1px solid gray;flex-grow: 1;}#sk-container-id-1 div.sk-label:hover label.sk-toggleable__label {background-color: #d4ebff;}#sk-container-id-1 div.sk-serial::before {content: \"\";position: absolute;border-left: 1px solid gray;box-sizing: border-box;top: 0;bottom: 0;left: 50%;z-index: 0;}#sk-container-id-1 div.sk-serial {display: flex;flex-direction: column;align-items: center;background-color: white;padding-right: 0.2em;padding-left: 0.2em;position: relative;}#sk-container-id-1 div.sk-item {position: relative;z-index: 1;}#sk-container-id-1 div.sk-parallel {display: flex;align-items: stretch;justify-content: center;background-color: white;position: relative;}#sk-container-id-1 div.sk-item::before, #sk-container-id-1 div.sk-parallel-item::before {content: \"\";position: absolute;border-left: 1px solid gray;box-sizing: border-box;top: 0;bottom: 0;left: 50%;z-index: -1;}#sk-container-id-1 div.sk-parallel-item {display: flex;flex-direction: column;z-index: 1;position: relative;background-color: white;}#sk-container-id-1 div.sk-parallel-item:first-child::after {align-self: flex-end;width: 50%;}#sk-container-id-1 div.sk-parallel-item:last-child::after {align-self: flex-start;width: 50%;}#sk-container-id-1 div.sk-parallel-item:only-child::after {width: 0;}#sk-container-id-1 div.sk-dashed-wrapped {border: 1px dashed gray;margin: 0 0.4em 0.5em 0.4em;box-sizing: border-box;padding-bottom: 0.4em;background-color: white;}#sk-container-id-1 div.sk-label label {font-family: monospace;font-weight: bold;display: inline-block;line-height: 1.2em;}#sk-container-id-1 div.sk-label-container {text-align: center;}#sk-container-id-1 div.sk-container {/* jupyter's `normalize.less` sets `[hidden] { display: none; }` but bootstrap.min.css set `[hidden] { display: none !important; }` so we also need the `!important` here to be able to override the default hidden behavior on the sphinx rendered scikit-learn.org. See: https://github.com/scikit-learn/scikit-learn/issues/21755 */display: inline-block !important;position: relative;}#sk-container-id-1 div.sk-text-repr-fallback {display: none;}</style><div id=\"sk-container-id-1\" class=\"sk-top-container\"><div class=\"sk-text-repr-fallback\"><pre>KNeighborsClassifier()</pre><b>In a Jupyter environment, please rerun this cell to show the HTML representation or trust the notebook. <br />On GitHub, the HTML representation is unable to render, please try loading this page with nbviewer.org.</b></div><div class=\"sk-container\" hidden><div class=\"sk-item\"><div class=\"sk-estimator sk-toggleable\"><input class=\"sk-toggleable__control sk-hidden--visually\" id=\"sk-estimator-id-1\" type=\"checkbox\" checked><label for=\"sk-estimator-id-1\" class=\"sk-toggleable__label sk-toggleable__label-arrow\">KNeighborsClassifier</label><div class=\"sk-toggleable__content\"><pre>KNeighborsClassifier()</pre></div></div></div></div></div>"
            ]
          },
          "metadata": {},
          "execution_count": 20
        }
      ]
    },
    {
      "cell_type": "code",
      "source": [
        "y_train[12]"
      ],
      "metadata": {
        "colab": {
          "base_uri": "https://localhost:8080/"
        },
        "id": "ViDwInFYBQe2",
        "outputId": "bc7faf50-5dd3-407f-c408-f386cf96cf54"
      },
      "execution_count": null,
      "outputs": [
        {
          "output_type": "execute_result",
          "data": {
            "text/plain": [
              "1"
            ]
          },
          "metadata": {},
          "execution_count": 22
        }
      ]
    },
    {
      "cell_type": "code",
      "source": [
        "some_digit = 12\n",
        "knn_clf.predict([X_train[some_digit]])"
      ],
      "metadata": {
        "colab": {
          "base_uri": "https://localhost:8080/"
        },
        "id": "kbLBgJ6eif32",
        "outputId": "a08d0d0f-0f97-4a4c-9fc0-5df79cbf3cfd"
      },
      "execution_count": null,
      "outputs": [
        {
          "output_type": "execute_result",
          "data": {
            "text/plain": [
              "array([1], dtype=uint8)"
            ]
          },
          "metadata": {},
          "execution_count": 23
        }
      ]
    },
    {
      "cell_type": "markdown",
      "source": [
        "## Evaluating our model"
      ],
      "metadata": {
        "id": "cgwUcGCaBiup"
      }
    },
    {
      "cell_type": "code",
      "source": [
        "# splitting the training set into 3 folds, \n",
        "# train 3 times, holding out a a different\n",
        "# fold each time for evaluation\n",
        "\n",
        "cross_val_score(knn_clf, X_train, y_train, cv=3, scoring=\"accuracy\")"
      ],
      "metadata": {
        "colab": {
          "base_uri": "https://localhost:8080/"
        },
        "id": "c4ExgW-jDOOv",
        "outputId": "993f8606-d033-4a70-b324-94c8be0c0968"
      },
      "execution_count": null,
      "outputs": [
        {
          "output_type": "execute_result",
          "data": {
            "text/plain": [
              "array([0.96569216, 0.96569029, 0.96656303])"
            ]
          },
          "metadata": {},
          "execution_count": 24
        }
      ]
    },
    {
      "cell_type": "code",
      "source": [
        "# Just like the cross_val_score() function, cross_val_predict() \n",
        "# performs k-fold cross-validation, but instead of returning the \n",
        "# evaluation scores, it returns the predictions made on each test fold. \n",
        "# This means that you get a clean prediction for each\n",
        "# instance in the training set (by “clean” I mean “out-of-sample”: \n",
        "# the model makes predictions on data that it never saw during training).\n",
        "\n",
        "# our predictions using cross validation on training set\n",
        "knn_preds = cross_val_predict(knn_clf, X_train, y_train, cv=3)"
      ],
      "metadata": {
        "id": "KFvzrIG6Bl4z"
      },
      "execution_count": null,
      "outputs": []
    },
    {
      "cell_type": "code",
      "source": [
        "knn_preds"
      ],
      "metadata": {
        "colab": {
          "base_uri": "https://localhost:8080/"
        },
        "id": "HwM6Z3IjCoyx",
        "outputId": "c54002db-42cd-4551-d613-6eb2e5390fee"
      },
      "execution_count": null,
      "outputs": [
        {
          "output_type": "execute_result",
          "data": {
            "text/plain": [
              "array([7, 3, 4, ..., 5, 6, 8], dtype=uint8)"
            ]
          },
          "metadata": {},
          "execution_count": 26
        }
      ]
    },
    {
      "cell_type": "code",
      "source": [
        "knn_preds.shape"
      ],
      "metadata": {
        "colab": {
          "base_uri": "https://localhost:8080/"
        },
        "id": "NPSrmtq0C8V6",
        "outputId": "438db6fb-d360-4441-9531-7f5fe055b04f"
      },
      "execution_count": null,
      "outputs": [
        {
          "output_type": "execute_result",
          "data": {
            "text/plain": [
              "(55000,)"
            ]
          },
          "metadata": {},
          "execution_count": 27
        }
      ]
    },
    {
      "cell_type": "code",
      "source": [
        "# Build the confusion matrix\n",
        "cf_mat = confusion_matrix(y_train, knn_preds)\n",
        "cf_mat"
      ],
      "metadata": {
        "colab": {
          "base_uri": "https://localhost:8080/"
        },
        "id": "PSoJfnaPEe84",
        "outputId": "72fdf902-1f79-447d-91dc-0c5365d04de0"
      },
      "execution_count": null,
      "outputs": [
        {
          "output_type": "execute_result",
          "data": {
            "text/plain": [
              "array([[5404,    4,    5,    1,    1,    7,   16,    1,    2,    3],\n",
              "       [   2, 6146,    9,    1,    1,    1,    3,   12,    1,    3],\n",
              "       [  48,   62, 5211,   18,    9,    3,   11,   85,   14,    9],\n",
              "       [   8,   17,   38, 5426,    1,   59,    4,   34,   27,   24],\n",
              "       [   5,   52,    1,    1, 5093,    0,   17,   10,    3,  125],\n",
              "       [  14,   17,    4,   64,    5, 4790,   55,    7,    8,   23],\n",
              "       [  23,    8,    2,    0,    5,   22, 5355,    0,    2,    0],\n",
              "       [   2,   66,   14,    4,   19,    0,    0, 5536,    3,   71],\n",
              "       [  23,   77,   19,   85,   31,  106,   26,   19, 4945,   58],\n",
              "       [  14,    8,    5,   43,   51,   13,    3,   81,   13, 5223]])"
            ]
          },
          "metadata": {},
          "execution_count": 28
        }
      ]
    },
    {
      "cell_type": "code",
      "source": [
        "# Display it\n",
        "cm_fig, cm_ax = plt.subplots(figsize=(10, 10))\n",
        "cf_mat_disp = ConfusionMatrixDisplay(cf_mat)\n",
        "cf_mat_disp.plot(ax=cm_ax, cmap=plt.cm.Blues)\n",
        "plt.show()"
      ],
      "metadata": {
        "colab": {
          "base_uri": "https://localhost:8080/",
          "height": 700
        },
        "id": "fk4bOhVGCsTF",
        "outputId": "d98f980c-e436-4dad-92ec-7f9eafbc90a5"
      },
      "execution_count": null,
      "outputs": [
        {
          "output_type": "display_data",
          "data": {
            "text/plain": [
              "<Figure size 1000x1000 with 2 Axes>"
            ],
            "image/png": "[encoded data removed]"
          },
          "metadata": {}
        }
      ]
    },
    {
      "cell_type": "markdown",
      "source": [
        "Notice that the cell on the diagonal in row #5 and column #5 looks slightly\n",
        "darker than the other digits. This could be because the model made more errors\n",
        "on 5s, or because there are fewer 5s in the dataset than the other digits.That’s why it’s important to normalize the confusion matrix by dividing each value by the total number of images in the corresponding (true) class (i.e., divide by the row’s sum)."
      ],
      "metadata": {
        "id": "h0eDlxvrFfak"
      }
    },
    {
      "cell_type": "code",
      "source": [
        "# normalized by row\n",
        "ConfusionMatrixDisplay.from_predictions(y_train, knn_preds,\n",
        "                                        normalize=\"true\", values_format=\".0%\")\n",
        "# show percentages with no decimals\n",
        "plt.show()"
      ],
      "metadata": {
        "colab": {
          "base_uri": "https://localhost:8080/",
          "height": 449
        },
        "id": "1SZTX1w6F30l",
        "outputId": "75acadff-8f3e-44c6-ecaa-a427d0a13685"
      },
      "execution_count": null,
      "outputs": [
        {
          "output_type": "display_data",
          "data": {
            "text/plain": [
              "<Figure size 640x480 with 2 Axes>"
            ],
            "image/png": "[encoded data removed]"
          },
          "metadata": {}
        }
      ]
    },
    {
      "cell_type": "code",
      "source": [
        "# Confusion matrix with errors only\n",
        "sample_weight = (knn_preds != y_train)\n",
        "ConfusionMatrixDisplay.from_predictions(y_train, knn_preds,\n",
        "                                        sample_weight=sample_weight,\n",
        "                                        normalize=\"true\", values_format=\".0%\")\n",
        "plt.show()"
      ],
      "metadata": {
        "colab": {
          "base_uri": "https://localhost:8080/",
          "height": 449
        },
        "id": "MgWAlL3UGh9I",
        "outputId": "a2338b06-e03d-447a-dfd0-420e93c71130"
      },
      "execution_count": null,
      "outputs": [
        {
          "output_type": "display_data",
          "data": {
            "text/plain": [
              "<Figure size 640x480 with 2 Axes>"
            ],
            "image/png": "[encoded data removed]"
          },
          "metadata": {}
        }
      ]
    },
    {
      "cell_type": "markdown",
      "source": [
        "## Grid Search\n",
        "GridSearchCV tries all the combinations of the values passed in the dictionary and evaluates the model for each combination using the Cross-Validation method. Hence after using this function we get accuracy/loss for every combination of hyperparameters and we can choose the one with the best performance."
      ],
      "metadata": {
        "id": "zaxpUvcQGraf"
      }
    },
    {
      "cell_type": "code",
      "source": [
        "\"\"\"\n",
        "'uniform' : uniform weights. All points in each neighborhood are weighted equally.\n",
        "weights = 'distance' is in contrast to the default which is weights = 'uniform'. \n",
        "When weights are uniform, a simple majority vote of the nearest neighbors is used \n",
        "to assign cluster membership. When weights are distance weighted, the voting is \n",
        "proportional to the distance value. Nearby points will have a greater influence \n",
        "than more distance points (even if the counts of different groups are the similar).\n",
        "Distance weighting is very useful for sparse data.\n",
        "\"\"\"\n",
        "\n",
        "k_range = list(range(3, 10))\n",
        "param_grid = dict(n_neighbors=k_range, weights = [\"uniform\", \"distance\"])"
      ],
      "metadata": {
        "id": "gSADqCScHYEn"
      },
      "execution_count": null,
      "outputs": []
    },
    {
      "cell_type": "code",
      "source": [
        "# defining parameter range\n",
        "grid = GridSearchCV(knn_clf, param_grid, cv=5, scoring='accuracy', return_train_score=False,verbose=1)\n",
        "  \n",
        "# fitting the model for grid search\n",
        "grid_search = grid.fit(X_train, y_train)"
      ],
      "metadata": {
        "colab": {
          "base_uri": "https://localhost:8080/"
        },
        "id": "rWfBTbwbH_-4",
        "outputId": "7c33c396-2787-4c3f-9e50-f875838e075a"
      },
      "execution_count": null,
      "outputs": [
        {
          "output_type": "stream",
          "name": "stdout",
          "text": [
            "Fitting 5 folds for each of 14 candidates, totalling 70 fits\n"
          ]
        }
      ]
    },
    {
      "cell_type": "code",
      "source": [
        "grid_search.best_params_"
      ],
      "metadata": {
        "colab": {
          "base_uri": "https://localhost:8080/"
        },
        "id": "qS8mhzseKF32",
        "outputId": "1d49f5d7-9e52-4d1e-b541-78b58633445f"
      },
      "execution_count": null,
      "outputs": [
        {
          "output_type": "execute_result",
          "data": {
            "text/plain": [
              "{'n_neighbors': 4, 'weights': 'distance'}"
            ]
          },
          "metadata": {},
          "execution_count": 34
        }
      ]
    },
    {
      "cell_type": "code",
      "source": [
        "grid_search.best_score_"
      ],
      "metadata": {
        "colab": {
          "base_uri": "https://localhost:8080/"
        },
        "id": "8xF8-nPvKHhc",
        "outputId": "dfaa7d4e-fe4f-4a1c-8182-97777233dce0"
      },
      "execution_count": null,
      "outputs": [
        {
          "output_type": "execute_result",
          "data": {
            "text/plain": [
              "0.9705999999999999"
            ]
          },
          "metadata": {},
          "execution_count": 35
        }
      ]
    },
    {
      "cell_type": "code",
      "source": [
        "# Checking Accuracy on Test Data\n",
        "knn_clf_best = KNeighborsClassifier(n_neighbors=4, weights = 'distance')\n",
        "knn_clf_best.fit(X_train, y_train)\n",
        "y_test_preds = knn_clf_best.predict(X_test) \n",
        "test_accuracy = accuracy_score(y_test,y_test_preds)*100\n",
        "print(\"Accuracy for our testing dataset with tuning is : {:.2f}%\".format(test_accuracy) )"
      ],
      "metadata": {
        "colab": {
          "base_uri": "https://localhost:8080/"
        },
        "id": "WUo3mFouLOjB",
        "outputId": "0102cdb0-8f49-427a-a373-88a8ac054307"
      },
      "execution_count": null,
      "outputs": [
        {
          "output_type": "stream",
          "name": "stdout",
          "text": [
            "Accuracy for our testing dataset with tuning is : 97.06%\n"
          ]
        }
      ]
    },
    {
      "cell_type": "markdown",
      "source": [
        "# Chapter 3, Q2\n",
        "Write a function that can shift an MNIST image in any direction (left, right, up,\n",
        "or down) by one pixel.(You can use the shift() function from the scipy.ndimage.interpolation module. For example, shift(image, [2, 1], cval=0) shifts the image two pixels down and one pixel to the right.)\n",
        "\n",
        "Then, for each image in the training set, create four\n",
        "shifted copies (one per direction) and add them to the training set. Finally, train\n",
        "your best model on this expanded training set and measure its accuracy on the\n",
        "test set. You should observe that your model performs even better now! This\n",
        "technique of artificially growing the training set is called data augmentation or\n",
        "training set expansion.\n"
      ],
      "metadata": {
        "id": "FMT1HekvPLZ2"
      }
    },
    {
      "cell_type": "markdown",
      "source": [
        "## Imports"
      ],
      "metadata": {
        "id": "vCxpYWeFMlyc"
      }
    },
    {
      "cell_type": "code",
      "source": [
        "from scipy.ndimage.interpolation import shift"
      ],
      "metadata": {
        "colab": {
          "base_uri": "https://localhost:8080/"
        },
        "id": "NtfcGs-5Ml8j",
        "outputId": "d2551dfb-3b36-4e1a-ed52-75a2d042492f"
      },
      "execution_count": null,
      "outputs": [
        {
          "output_type": "stream",
          "name": "stderr",
          "text": [
            "<ipython-input-37-c50379b1544a>:1: DeprecationWarning: Please use `shift` from the `scipy.ndimage` namespace, the `scipy.ndimage.interpolation` namespace is deprecated.\n",
            "  from scipy.ndimage.interpolation import shift\n"
          ]
        }
      ]
    },
    {
      "cell_type": "markdown",
      "source": [
        "## Data Augmentation"
      ],
      "metadata": {
        "id": "2frYU1IaMKE-"
      }
    },
    {
      "cell_type": "code",
      "source": [
        "some_digit = 42\n",
        "image = X_train[some_digit].reshape(28,28)\n",
        "# 2 pixel down, 1 pixel to the right\n",
        "shifted_img = shift(image, [2, 1], cval=0) \n",
        "shifted_img"
      ],
      "metadata": {
        "colab": {
          "base_uri": "https://localhost:8080/"
        },
        "id": "oPqYuvaENRXM",
        "outputId": "116d2691-4ac4-4b37-b72c-8e2589723c9d"
      },
      "execution_count": null,
      "outputs": [
        {
          "output_type": "execute_result",
          "data": {
            "text/plain": [
              "array([[ 0.00000000e+00,  0.00000000e+00,  0.00000000e+00,\n",
              "         0.00000000e+00,  0.00000000e+00,  0.00000000e+00,\n",
              "         0.00000000e+00,  0.00000000e+00,  0.00000000e+00,\n",
              "         0.00000000e+00,  0.00000000e+00,  0.00000000e+00,\n",
              "         0.00000000e+00,  0.00000000e+00,  0.00000000e+00,\n",
              "         0.00000000e+00,  0.00000000e+00,  0.00000000e+00,\n",
              "         0.00000000e+00,  0.00000000e+00,  0.00000000e+00,\n",
              "         0.00000000e+00,  0.00000000e+00,  0.00000000e+00,\n",
              "         0.00000000e+00,  0.00000000e+00,  0.00000000e+00,\n",
              "         0.00000000e+00],\n",
              "       [ 0.00000000e+00,  0.00000000e+00,  0.00000000e+00,\n",
              "         0.00000000e+00,  0.00000000e+00,  0.00000000e+00,\n",
              "         0.00000000e+00,  0.00000000e+00,  0.00000000e+00,\n",
              "         0.00000000e+00,  0.00000000e+00,  0.00000000e+00,\n",
              "         0.00000000e+00,  0.00000000e+00,  0.00000000e+00,\n",
              "         0.00000000e+00,  0.00000000e+00,  0.00000000e+00,\n",
              "         0.00000000e+00,  0.00000000e+00,  0.00000000e+00,\n",
              "         0.00000000e+00,  0.00000000e+00,  0.00000000e+00,\n",
              "         0.00000000e+00,  0.00000000e+00,  0.00000000e+00,\n",
              "         0.00000000e+00],\n",
              "       [ 0.00000000e+00, -1.74910874e-25,  1.32681092e-25,\n",
              "         8.33258589e-25,  4.59929534e-24,  1.55111448e-23,\n",
              "        -3.68653760e-23, -6.65729878e-23,  1.15019030e-21,\n",
              "        -1.46369367e-21,  7.41006003e-21, -3.72296933e-20,\n",
              "        -8.96102335e-19,  3.91114940e-18,  7.08164708e-18,\n",
              "         4.96700782e-18, -1.07179834e-19,  2.91342421e-19,\n",
              "        -2.60132551e-21,  1.69512895e-21, -1.05522094e-21,\n",
              "        -2.79830925e-22, -1.41528778e-22, -2.59023283e-23,\n",
              "        -2.53499695e-23, -8.35541434e-24, -9.89455522e-27,\n",
              "         5.62626395e-25],\n",
              "       [ 0.00000000e+00,  4.31242302e-25,  4.66194362e-25,\n",
              "         1.21949790e-24,  8.71788488e-24,  1.85028840e-23,\n",
              "         2.31496960e-23,  3.91824157e-22, -2.14017736e-22,\n",
              "        -4.19443457e-21,  7.94610699e-21, -1.54175868e-19,\n",
              "         1.10347352e-18, -1.13111746e-17, -3.09299739e-17,\n",
              "        -2.42736184e-17, -1.15228803e-18, -6.32620546e-19,\n",
              "         9.55019631e-20,  7.37415512e-22, -1.04482423e-21,\n",
              "        -1.58792273e-22, -5.38972048e-23, -6.89877100e-23,\n",
              "        -6.05812106e-23, -9.63353782e-24, -1.46314815e-25,\n",
              "         7.06219935e-25],\n",
              "       [ 0.00000000e+00, -3.60986275e-25, -2.20425368e-24,\n",
              "         9.17800062e-24,  1.67774480e-23,  1.35470440e-22,\n",
              "         7.91299533e-22,  1.56977080e-21,  2.24697959e-21,\n",
              "         3.68761576e-20,  1.09883306e-19, -5.11584170e-19,\n",
              "        -4.49357348e-18,  4.89229654e-17,  9.71226043e-17,\n",
              "         7.86020436e-17, -1.20612229e-18,  3.95014642e-18,\n",
              "         3.08384229e-19, -1.62914934e-20,  1.42871831e-20,\n",
              "         1.49733514e-21, -2.64922211e-22,  5.20446186e-23,\n",
              "        -9.21487672e-23, -9.35871604e-24, -1.93808688e-24,\n",
              "        -1.70729557e-24],\n",
              "       [ 0.00000000e+00,  1.21949790e-24, -1.06743341e-23,\n",
              "        -9.80736017e-24,  2.41809672e-22,  7.89574086e-22,\n",
              "         1.57621245e-21, -4.55332514e-21, -1.72442294e-20,\n",
              "         1.07411561e-19,  6.90932954e-19, -2.93152370e-19,\n",
              "         2.20749905e-17,  1.13552985e-16,  7.90031269e-17,\n",
              "         9.01321473e-17,  6.19114050e-17, -1.26471945e-17,\n",
              "        -2.55001094e-19,  9.15336158e-20,  4.13048826e-20,\n",
              "        -9.43043817e-21, -8.31942707e-22, -1.32371345e-21,\n",
              "         5.19819105e-23,  9.33905163e-23, -2.84972847e-23,\n",
              "        -1.91060470e-23],\n",
              "       [ 0.00000000e+00,  9.82985690e-23, -3.66674691e-22,\n",
              "         1.35754344e-21, -4.61682175e-21,  2.03771065e-20,\n",
              "        -6.94602172e-20,  2.29670471e-19, -1.06150930e-18,\n",
              "         3.52339360e-18, -1.38984739e-17,  5.34150061e-17,\n",
              "         1.98428559e-16,  5.52941203e-01,  9.21568632e-01,\n",
              "         7.41176486e-01,  1.05882354e-01,  3.74482828e-17,\n",
              "        -1.29469493e-18,  1.32452564e-18, -7.30714034e-20,\n",
              "        -6.65817450e-20, -1.29610833e-20, -4.60545448e-21,\n",
              "         1.20735179e-21,  6.89254455e-22, -8.98555927e-23,\n",
              "        -4.36275800e-23],\n",
              "       [ 0.00000000e+00, -1.59471021e-22,  5.84758128e-22,\n",
              "        -1.94133352e-21,  7.92172940e-21, -2.91103114e-20,\n",
              "         1.06825445e-19, -4.45625305e-19,  1.43173032e-18,\n",
              "        -4.79340494e-18,  2.24013430e-17,  1.06093524e-16,\n",
              "         3.56862754e-01,  9.84313726e-01,  9.96078432e-01,\n",
              "         9.96078432e-01,  6.19607866e-01,  1.56862754e-02,\n",
              "         5.90977162e-18,  7.47982153e-19, -8.78989829e-19,\n",
              "        -2.06954670e-19, -4.06437585e-20,  1.25053117e-20,\n",
              "         2.48097032e-21,  1.04950095e-21, -1.40938672e-22,\n",
              "        -4.89948886e-23],\n",
              "       [ 0.00000000e+00, -6.98183351e-22,  2.55732903e-21,\n",
              "        -8.69733481e-21,  3.54216187e-20, -1.33147954e-19,\n",
              "         4.40630789e-19, -1.85468596e-18,  6.91712665e-18,\n",
              "        -2.21817431e-17,  1.02715662e-16,  8.73498095e-17,\n",
              "         8.74509811e-01,  9.96078432e-01,  9.96078432e-01,\n",
              "         9.96078432e-01,  9.96078432e-01,  3.76470596e-01,\n",
              "         2.88954557e-19, -3.84078901e-18, -9.70551589e-19,\n",
              "        -2.04666132e-19,  4.86501818e-20,  1.13359561e-20,\n",
              "         3.41478251e-21, -9.97073543e-25,  4.68206523e-23,\n",
              "         1.08190771e-22],\n",
              "       [ 0.00000000e+00, -4.52116285e-23,  4.69241982e-23,\n",
              "        -1.88807282e-22, -7.07828305e-22, -4.92081345e-21,\n",
              "        -6.71397219e-21, -7.15613206e-20,  2.48913536e-19,\n",
              "         1.09523376e-18,  3.52722221e-18,  9.91113847e-17,\n",
              "         2.00000003e-01,  8.74509811e-01,  8.50980401e-01,\n",
              "         9.96078432e-01,  9.96078432e-01,  1.45098045e-01,\n",
              "         4.11226100e-18, -4.10661715e-18, -8.91325264e-19,\n",
              "        -6.19149471e-20,  5.33101466e-21,  5.65077934e-21,\n",
              "         2.10906843e-21,  1.13983762e-22, -1.38055581e-22,\n",
              "        -2.82913036e-23],\n",
              "       [ 0.00000000e+00,  2.62673074e-23,  1.67133511e-22,\n",
              "        -6.81566432e-22,  2.03321931e-22, -1.26254572e-20,\n",
              "         9.21740927e-21, -5.98195629e-20,  4.33348756e-19,\n",
              "        -1.61936528e-18,  1.29911259e-18,  4.62183892e-17,\n",
              "         1.80253085e-16,  5.49019612e-02,  8.58823538e-01,\n",
              "         9.96078432e-01,  6.66666687e-01,  1.96078438e-02,\n",
              "         1.22235043e-18, -1.02635392e-18, -4.73162096e-19,\n",
              "        -3.51735356e-20,  6.04852033e-21,  2.40324523e-21,\n",
              "         1.80855347e-21,  4.47526673e-22, -4.75738662e-23,\n",
              "        -3.47196238e-23],\n",
              "       [ 0.00000000e+00,  8.15684902e-22, -2.83305422e-21,\n",
              "         1.05165320e-20, -4.23035675e-20,  1.43451148e-19,\n",
              "        -6.34839045e-19,  2.35524728e-18, -7.83747344e-18,\n",
              "         3.02956885e-17, -2.39298140e-17,  1.88235298e-01,\n",
              "         1.96078438e-02,  6.03921592e-01,  9.96078432e-01,\n",
              "         1.00000000e+00,  3.60784322e-01,  4.38528396e-18,\n",
              "         8.15374574e-19,  3.41502886e-19, -1.48781048e-19,\n",
              "        -2.01390792e-21, -8.18807671e-21,  3.78645409e-23,\n",
              "         3.33912830e-22,  1.28644104e-22, -5.60502460e-23,\n",
              "        -1.61124966e-23],\n",
              "       [ 0.00000000e+00,  1.48444447e-21, -5.51743241e-21,\n",
              "         1.90897420e-20, -7.20062080e-20,  2.67029256e-19,\n",
              "        -1.20024579e-18,  4.13415440e-18, -1.38591465e-17,\n",
              "         5.85665844e-17,  8.49129354e-17,  5.64705908e-01,\n",
              "         8.54901969e-01,  9.33333337e-01,  9.96078432e-01,\n",
              "         7.13725507e-01,  2.74509806e-02,  4.76811927e-18,\n",
              "        -1.02589245e-18, -3.28586202e-19,  7.07205561e-20,\n",
              "         1.80722986e-20,  7.50169936e-21, -3.13341105e-21,\n",
              "        -4.00978023e-22,  1.00148574e-22,  9.03396251e-23,\n",
              "         1.26742235e-23],\n",
              "       [ 0.00000000e+00, -4.29517219e-22,  1.48568928e-21,\n",
              "        -5.99465868e-21,  2.10139467e-20, -7.32701012e-20,\n",
              "         2.49990654e-19, -1.06835877e-18,  4.54775794e-18,\n",
              "        -1.26232336e-17,  8.17634088e-17,  4.31372561e-02,\n",
              "         7.56862760e-01,  9.96078432e-01,  9.56862748e-01,\n",
              "         1.41176477e-01,  7.84084172e-18,  3.08915025e-18,\n",
              "        -4.81398747e-19, -3.31298450e-19, -7.99080641e-20,\n",
              "         2.77065479e-21,  1.32252225e-21, -9.66842971e-22,\n",
              "        -1.08745940e-22,  4.02874262e-23,  1.25299211e-23,\n",
              "        -7.27545981e-24],\n",
              "       [ 0.00000000e+00, -3.50609444e-22,  1.36654741e-21,\n",
              "        -5.23469416e-21,  1.92016521e-20, -6.82896597e-20,\n",
              "         2.66662479e-19, -1.04240598e-18,  3.97072419e-18,\n",
              "        -1.38104991e-17,  5.30015944e-17,  8.89185807e-17,\n",
              "         5.68627477e-01,  9.96078432e-01,  9.80392158e-01,\n",
              "         2.50980407e-01,  6.11277274e-17, -9.77003039e-18,\n",
              "         2.95530685e-18,  9.75373535e-19,  2.30425170e-19,\n",
              "        -1.41445930e-20,  1.28229163e-22, -4.50246413e-22,\n",
              "        -1.53658290e-22,  7.22628459e-23, -3.04419905e-24,\n",
              "         1.27058426e-23],\n",
              "       [ 0.00000000e+00, -4.85106543e-22,  2.27828018e-21,\n",
              "        -8.68095437e-21,  3.34513875e-20, -1.11889710e-19,\n",
              "         4.68741074e-19, -1.63601963e-18,  6.57000485e-18,\n",
              "        -2.16353374e-17,  8.21855488e-17,  1.00862969e-16,\n",
              "         8.23529422e-01,  9.96078432e-01,  9.96078432e-01,\n",
              "         8.94117653e-01,  1.29411772e-01,  9.07301393e-17,\n",
              "        -2.85511335e-18, -1.28947655e-18, -9.43754763e-19,\n",
              "        -5.08817439e-20,  7.70014758e-21, -2.57697962e-21,\n",
              "        -5.68602661e-22,  1.92709076e-22,  2.74222364e-22,\n",
              "         8.68299577e-23],\n",
              "       [ 0.00000000e+00, -5.79824478e-22,  2.57715026e-21,\n",
              "        -1.04037559e-20,  3.65232455e-20, -1.29230595e-19,\n",
              "         4.90563546e-19, -1.88553959e-18,  6.91606951e-18,\n",
              "        -2.69171503e-17,  9.42853682e-17,  1.34103527e-16,\n",
              "         9.29411769e-01,  9.96078432e-01,  3.68627459e-01,\n",
              "         7.13725507e-01,  6.70588255e-01,  1.25490203e-01,\n",
              "         8.85857364e-17,  6.71225262e-18,  3.22056650e-18,\n",
              "         3.10514736e-19, -3.04167591e-20, -3.38406762e-20,\n",
              "        -2.35657133e-21,  1.12707377e-21,  1.23640813e-21,\n",
              "         1.74161669e-22],\n",
              "       [ 0.00000000e+00, -7.16636840e-22,  2.72607771e-21,\n",
              "        -9.30093594e-21,  3.71775842e-20, -1.23315776e-19,\n",
              "         4.80225960e-19, -1.92464311e-18,  6.20190658e-18,\n",
              "        -2.75179481e-17,  9.32635619e-17,  7.65715667e-17,\n",
              "         9.25490201e-01,  9.64705884e-01,  1.68627456e-01,\n",
              "         2.74509806e-02,  5.25490224e-01,  8.62745106e-01,\n",
              "         1.56862751e-01,  5.32453613e-17, -8.57805734e-18,\n",
              "         8.82999381e-19, -1.38742086e-19,  3.11109188e-20,\n",
              "        -1.70418157e-20, -1.69541511e-21,  2.59471311e-21,\n",
              "         4.22167155e-22],\n",
              "       [ 0.00000000e+00, -8.19970601e-22,  2.69015372e-21,\n",
              "        -9.47742348e-21,  3.66224361e-20, -1.22824521e-19,\n",
              "         5.39378938e-19, -1.91780067e-18,  6.50163134e-18,\n",
              "        -2.78563295e-17,  9.11492618e-17,  6.31663637e-17,\n",
              "         9.25490201e-01,  8.50980401e-01,  2.75913952e-17,\n",
              "         4.49352335e-17,  1.30827269e-16,  5.68627477e-01,\n",
              "         8.74509811e-01,  1.60784319e-01,  7.41621351e-17,\n",
              "         9.85137471e-19, -5.46554730e-19,  3.55640844e-20,\n",
              "        -9.05369456e-21, -1.45958992e-20, -1.80765500e-21,\n",
              "        -1.96338354e-22],\n",
              "       [ 0.00000000e+00, -7.60158334e-22,  2.84613361e-21,\n",
              "        -9.03618887e-21,  3.86455196e-20, -1.37604946e-19,\n",
              "         5.10080201e-19, -1.79937798e-18,  7.32440060e-18,\n",
              "        -2.76608535e-17,  9.55141086e-17,  6.98997926e-17,\n",
              "         9.25490201e-01,  8.50980401e-01,  1.00502883e-17,\n",
              "        -1.31053765e-17,  9.52113539e-17,  4.70588244e-02,\n",
              "         7.29411781e-01,  5.96078455e-01,  2.35294122e-02,\n",
              "         2.62163439e-18, -6.51866041e-19, -1.49695367e-19,\n",
              "         5.12488699e-20, -5.19119844e-20, -8.34884217e-21,\n",
              "         1.45109149e-21],\n",
              "       [ 0.00000000e+00, -7.04121088e-22,  2.65501167e-21,\n",
              "        -9.03580516e-21,  3.44940616e-20, -1.43339996e-19,\n",
              "         5.07102196e-19, -1.71058004e-18,  7.41941967e-18,\n",
              "        -2.72352641e-17,  9.14381927e-17,  5.63956124e-17,\n",
              "         9.25490201e-01,  8.50980401e-01,  8.82830346e-18,\n",
              "        -2.12881498e-17,  2.79224113e-17,  9.45196654e-17,\n",
              "         5.01960814e-01,  9.96078432e-01,  5.37254930e-01,\n",
              "        -3.64799720e-18, -3.85837311e-19,  2.31121449e-19,\n",
              "         3.45262845e-21,  1.76482603e-20, -1.05181960e-20,\n",
              "        -8.18624544e-21],\n",
              "       [ 0.00000000e+00, -4.97468006e-22,  1.75225813e-21,\n",
              "        -6.21047042e-21,  2.35396102e-20, -9.82182433e-20,\n",
              "         3.41169532e-19, -1.17074512e-18,  4.93473413e-18,\n",
              "        -1.50987444e-17,  6.69528855e-17,  9.74203761e-17,\n",
              "         6.98039234e-01,  8.54901969e-01,  9.11637275e-17,\n",
              "         3.83897269e-17,  9.05072704e-17,  1.93988836e-16,\n",
              "         5.01960814e-01,  1.00000000e+00,  6.39215708e-01,\n",
              "         8.65793972e-19, -5.19985668e-18, -9.70019389e-20,\n",
              "        -2.55290050e-21,  1.91221152e-20, -1.76078706e-20,\n",
              "        -5.65359814e-21],\n",
              "       [ 0.00000000e+00,  8.34762954e-23, -4.33422901e-22,\n",
              "         1.94965461e-21, -6.02185426e-21,  1.48850424e-20,\n",
              "        -8.71878803e-20,  3.58006897e-19, -1.07717734e-18,\n",
              "         5.00779940e-18, -1.80731321e-17,  1.02472881e-16,\n",
              "         1.17647059e-01,  9.05882359e-01,  2.00000003e-01,\n",
              "         8.17903286e-17,  1.57323903e-16,  1.25490203e-01,\n",
              "         8.62745106e-01,  9.96078432e-01,  6.39215708e-01,\n",
              "         1.58877118e-18, -6.65622623e-19, -5.11926261e-19,\n",
              "        -1.75065086e-20,  3.73101172e-20, -1.52669268e-20,\n",
              "        -3.13570700e-21],\n",
              "       [ 0.00000000e+00,  1.17305649e-22, -4.75884064e-22,\n",
              "         1.80939155e-21, -6.59293725e-21,  2.33579827e-20,\n",
              "        -8.98036128e-20,  3.44538535e-19, -1.21042352e-18,\n",
              "         4.41245229e-18, -1.76591067e-17,  6.26599836e-17,\n",
              "         5.97980578e-17,  6.03921592e-01,  7.01960802e-01,\n",
              "         6.27451003e-01,  5.01960814e-01,  9.09803927e-01,\n",
              "         9.96078432e-01,  9.96078432e-01,  4.62745100e-01,\n",
              "        -7.81103096e-18, -2.38591211e-18, -2.97487727e-19,\n",
              "        -5.45202303e-20,  3.95361410e-20,  5.85467654e-21,\n",
              "        -1.54495750e-21],\n",
              "       [ 0.00000000e+00, -1.97621900e-23,  6.54851234e-23,\n",
              "        -2.66580132e-22,  9.24734711e-22, -3.02207731e-21,\n",
              "         1.38105526e-20, -5.86787580e-20,  2.10951839e-19,\n",
              "        -7.07201580e-19,  3.30903161e-18, -9.67642912e-18,\n",
              "         4.09816311e-17,  1.26107324e-16,  4.74509805e-01,\n",
              "         9.72549021e-01,  9.96078432e-01,  9.96078432e-01,\n",
              "         9.96078432e-01,  7.84313738e-01,  6.27451017e-02,\n",
              "        -3.25494537e-18,  8.85172488e-19,  1.34383892e-19,\n",
              "         1.16350811e-19, -5.38175420e-21, -3.68833979e-21,\n",
              "         3.98854778e-21],\n",
              "       [ 0.00000000e+00,  2.37530101e-24, -1.81283281e-23,\n",
              "         1.08498515e-22, -3.65821307e-22,  1.21582030e-21,\n",
              "        -3.23352798e-21,  2.29150081e-20, -3.83456827e-20,\n",
              "         2.68534105e-19, -6.93588876e-19,  2.21197588e-18,\n",
              "        -6.68594621e-18,  6.24988951e-17,  1.12617318e-16,\n",
              "         4.58823532e-01,  8.70588243e-01,  9.17647064e-01,\n",
              "         5.84313750e-01,  1.64705887e-01,  5.00816554e-19,\n",
              "         5.16934148e-20,  2.85155756e-19,  1.51077805e-19,\n",
              "         5.98452119e-20, -1.67053234e-21, -1.14996725e-21,\n",
              "         7.31600155e-22],\n",
              "       [ 0.00000000e+00, -9.05951727e-25,  7.20939685e-25,\n",
              "         8.77554115e-24,  4.19175915e-24, -4.78764543e-23,\n",
              "        -5.58770437e-23,  1.11180011e-21,  2.57022848e-21,\n",
              "         2.37157104e-21, -5.35612630e-20, -1.47256050e-19,\n",
              "        -7.93738786e-19, -6.43699803e-19,  3.83780620e-18,\n",
              "        -1.01782043e-17, -2.20534243e-17, -6.38578470e-17,\n",
              "         1.03303253e-17,  2.36400464e-18,  4.58766931e-19,\n",
              "         4.15593402e-19,  5.38949124e-21,  8.17620376e-21,\n",
              "         8.36015612e-21, -1.70040182e-21,  4.78357301e-23,\n",
              "         7.05918429e-23],\n",
              "       [ 0.00000000e+00,  4.00466841e-26,  3.55318359e-25,\n",
              "         2.39670202e-24,  8.25584747e-24,  3.04380758e-24,\n",
              "        -1.56088701e-22,  4.04589668e-22,  3.24440164e-22,\n",
              "        -1.04060583e-21,  2.35571406e-21, -5.42465950e-20,\n",
              "        -2.49283802e-19, -1.37717952e-18,  4.86240675e-20,\n",
              "        -1.66094300e-18,  1.08627529e-18, -2.01455653e-17,\n",
              "         4.99845433e-18,  1.04396563e-18,  8.49358553e-20,\n",
              "         3.92911760e-20,  2.41585206e-20, -7.54682352e-21,\n",
              "        -1.95186473e-21, -8.58457572e-22, -2.69613251e-23,\n",
              "         4.48236635e-23]], dtype=float32)"
            ]
          },
          "metadata": {},
          "execution_count": 53
        }
      ]
    },
    {
      "cell_type": "code",
      "source": [
        "fig, ax = plt.subplots(1, 2)\n",
        "ax[0].imshow(X_train[42].reshape(28,28), cmap = 'gray_r')\n",
        "ax[0].set_title(\"Original\")\n",
        "ax[1].imshow(shifted_img, cmap = 'gray_r')\n",
        "ax[1].set_title(\"Shifted 2p-up, 1p-right\")"
      ],
      "metadata": {
        "colab": {
          "base_uri": "https://localhost:8080/",
          "height": 325
        },
        "id": "EC8M3nXfWPlJ",
        "outputId": "8759a2e5-bfc2-4172-d63c-824a53462f2d"
      },
      "execution_count": null,
      "outputs": [
        {
          "output_type": "execute_result",
          "data": {
            "text/plain": [
              "Text(0.5, 1.0, 'Shifted 2p-up, 1p-right')"
            ]
          },
          "metadata": {},
          "execution_count": 55
        },
        {
          "output_type": "display_data",
          "data": {
            "text/plain": [
              "<Figure size 640x480 with 2 Axes>"
            ],
            "image/png": "[encoded data removed]"
          },
          "metadata": {}
        }
      ]
    },
    {
      "cell_type": "code",
      "source": [
        "image = X_train[10].reshape(28,28)\n",
        "shifted_img_random = shift(image, [5, -5], cval=0) \n",
        "shifted_img_left = shift(image, [0, -5], cval=0) \n",
        "shifted_img_right = shift(image, [0, 5], cval=0) \n",
        "shifted_img_up = shift(image, [-8, 0], cval=0) \n",
        "shifted_img_down = shift(image, [8, 0], cval=0) "
      ],
      "metadata": {
        "id": "SvyVhoChWTen"
      },
      "execution_count": null,
      "outputs": []
    },
    {
      "cell_type": "code",
      "source": [
        "plt.figure(figsize=(15,15))\n",
        "\n",
        "plt.subplot(321)\n",
        "plt.title(\"Original\")\n",
        "plt.imshow(image,\n",
        "           interpolation=\"nearest\", cmap=\"Greys\")\n",
        "\n",
        "plt.subplot(322)\n",
        "plt.title(\"Shifted 5p-down, 5p-left\")\n",
        "plt.imshow(shifted_img_random,\n",
        "           interpolation=\"nearest\", cmap=\"Greys\")\n",
        "\n",
        "plt.subplot(323)\n",
        "plt.title(\"Shifted down\")\n",
        "plt.imshow(shifted_img_down,\n",
        "           interpolation=\"nearest\", cmap=\"Greys\")\n",
        "\n",
        "plt.subplot(324)\n",
        "plt.title(\"Shifted up\")\n",
        "plt.imshow(shifted_img_up,\n",
        "           interpolation=\"nearest\", cmap=\"Greys\")\n",
        "\n",
        "plt.subplot(325)\n",
        "plt.title(\"Shifted left\")\n",
        "plt.imshow(shifted_img_left,\n",
        "           interpolation=\"nearest\", cmap=\"Greys\")\n",
        "\n",
        "plt.subplot(326)\n",
        "plt.title(\"Shifted right\")\n",
        "plt.imshow(shifted_img_right,\n",
        "           interpolation=\"nearest\", cmap=\"Greys\")\n",
        "\n",
        "\n",
        "plt.show()"
      ],
      "metadata": {
        "colab": {
          "base_uri": "https://localhost:8080/",
          "height": 836
        },
        "id": "t0tKqufkemPt",
        "outputId": "187ebd1b-7c70-4a1b-8e18-9f43c7d6612c"
      },
      "execution_count": null,
      "outputs": [
        {
          "output_type": "display_data",
          "data": {
            "text/plain": [
              "<Figure size 1500x1500 with 6 Axes>"
            ],
            "image/png": "[encoded data removed]"
          },
          "metadata": {}
        }
      ]
    },
    {
      "cell_type": "code",
      "source": [
        "# function\n",
        "\n",
        "def shift_image(image,x,y) :\n",
        "  shifted_images = []\n",
        "  image = image.reshape(28,28)\n",
        "  left_shifted_img = shift(image, [0, -x], cval=0) \n",
        "  right_shifted_img = shift(image, [0, x], cval=0) \n",
        "  up_shifted_img = shift(image, [y, 0], cval=0) \n",
        "  down_shifted_img = shift(image, [-y, 0], cval=0) \n",
        "\n",
        "  shifted_images.extend([left_shifted_img.reshape([-1]), right_shifted_img.reshape([-1]),\n",
        "                         up_shifted_img.reshape([-1]), down_shifted_img.reshape([-1])])\n",
        "\n",
        "  return shifted_images\n"
      ],
      "metadata": {
        "id": "DUy0AttfNRM0"
      },
      "execution_count": null,
      "outputs": []
    },
    {
      "cell_type": "code",
      "source": [
        "# cloning\n",
        "X_train_augmented = [image for image in X_train]\n",
        "y_train_augmented = [label for label in y_train]\n",
        "len(X_train_augmented)"
      ],
      "metadata": {
        "colab": {
          "base_uri": "https://localhost:8080/"
        },
        "id": "Ny3E6UhXO8Jd",
        "outputId": "1e7243cb-276e-42e4-d58d-db691ec6eb4b"
      },
      "execution_count": null,
      "outputs": [
        {
          "output_type": "execute_result",
          "data": {
            "text/plain": [
              "55000"
            ]
          },
          "metadata": {},
          "execution_count": 82
        }
      ]
    },
    {
      "cell_type": "code",
      "source": [
        "X_train_augmented[0].shape"
      ],
      "metadata": {
        "colab": {
          "base_uri": "https://localhost:8080/"
        },
        "id": "E_SHOAry5U9f",
        "outputId": "8bc974aa-6c1d-48a5-ed00-17fa69139502"
      },
      "execution_count": null,
      "outputs": [
        {
          "output_type": "execute_result",
          "data": {
            "text/plain": [
              "(784,)"
            ]
          },
          "metadata": {},
          "execution_count": 83
        }
      ]
    },
    {
      "cell_type": "code",
      "source": [
        "for image, label in zip(X_train, y_train):\n",
        "        # print(\"shape before: \", len(X_train_augmented) )\n",
        "        X_train_augmented.extend(shift_image(image, 1, 1))\n",
        "        # print(\"shape after \", len(X_train_augmented) )\n",
        "        y_train_augmented.extend([label] * 4)"
      ],
      "metadata": {
        "id": "sNBeRhjT5XNZ"
      },
      "execution_count": null,
      "outputs": []
    },
    {
      "cell_type": "code",
      "source": [
        "len(X_train_augmented) # 55000 * 5"
      ],
      "metadata": {
        "colab": {
          "base_uri": "https://localhost:8080/"
        },
        "id": "JNshkJ_-5rKC",
        "outputId": "2602d095-4c30-4e8b-b1ad-e13af910acdf"
      },
      "execution_count": null,
      "outputs": [
        {
          "output_type": "execute_result",
          "data": {
            "text/plain": [
              "275000"
            ]
          },
          "metadata": {},
          "execution_count": 85
        }
      ]
    },
    {
      "cell_type": "code",
      "source": [
        "len(y_train_augmented)"
      ],
      "metadata": {
        "colab": {
          "base_uri": "https://localhost:8080/"
        },
        "id": "6anInIVq5rCR",
        "outputId": "fa884479-a43f-47b4-f37b-8294dee29572"
      },
      "execution_count": null,
      "outputs": [
        {
          "output_type": "execute_result",
          "data": {
            "text/plain": [
              "275000"
            ]
          },
          "metadata": {},
          "execution_count": 86
        }
      ]
    },
    {
      "cell_type": "code",
      "source": [
        "def plot_digits(data, row_size=5):\n",
        "    for i in range(len(data)):\n",
        "        ax = plt.subplot(row_size, row_size, i+1)\n",
        "        digit = data[i]\n",
        "        digit_image = digit.reshape(28, 28)\n",
        "        plt.tight_layout()\n",
        "        plt.imshow(digit_image, cmap = 'Greys')\n",
        "        #plt.axis(\"off\")"
      ],
      "metadata": {
        "id": "-F38ft7v5urG"
      },
      "execution_count": null,
      "outputs": []
    },
    {
      "cell_type": "code",
      "source": [
        "plot_digits(X_train_augmented[60000:60016], row_size=4)\n",
        "plt.show()"
      ],
      "metadata": {
        "colab": {
          "base_uri": "https://localhost:8080/",
          "height": 487
        },
        "id": "w_fRj6155w63",
        "outputId": "5f4dfdb9-f789-4bcd-f3e9-47fb8f15a67c"
      },
      "execution_count": null,
      "outputs": [
        {
          "output_type": "display_data",
          "data": {
            "text/plain": [
              "<Figure size 640x480 with 16 Axes>"
            ],
            "image/png": "[encoded data removed]"
          },
          "metadata": {}
        }
      ]
    },
    {
      "cell_type": "code",
      "source": [
        "y_train_augmented[60000:60016]"
      ],
      "metadata": {
        "colab": {
          "base_uri": "https://localhost:8080/"
        },
        "id": "Z4uSs5zs5yqV",
        "outputId": "2e9fe0f8-8eeb-4703-92cd-cfe8c05d3114"
      },
      "execution_count": null,
      "outputs": [
        {
          "output_type": "execute_result",
          "data": {
            "text/plain": [
              "[7, 7, 7, 7, 3, 3, 3, 3, 2, 2, 2, 2, 4, 4, 4, 4]"
            ]
          },
          "metadata": {},
          "execution_count": 89
        }
      ]
    },
    {
      "cell_type": "code",
      "source": [
        "# from list to array\n",
        "X_train_augmented = np.array(X_train_augmented)\n",
        "y_train_augmented = np.array(y_train_augmented)"
      ],
      "metadata": {
        "id": "3GmfEPdy67PF"
      },
      "execution_count": null,
      "outputs": []
    },
    {
      "cell_type": "code",
      "source": [
        "# Shuffle the training set\n",
        "shuffle_idx = np.random.permutation(len(X_train_augmented))\n",
        "X_train_augmented = X_train_augmented[shuffle_idx]\n",
        "y_train_augmented = y_train_augmented[shuffle_idx]"
      ],
      "metadata": {
        "id": "wP6gA7i1e-jI"
      },
      "execution_count": null,
      "outputs": []
    },
    {
      "cell_type": "code",
      "source": [
        "shuffle_idx"
      ],
      "metadata": {
        "colab": {
          "base_uri": "https://localhost:8080/"
        },
        "id": "IZsNJPXR6xXl",
        "outputId": "c4ca737c-39c7-4027-ae1f-2d8d0d895e73"
      },
      "execution_count": null,
      "outputs": [
        {
          "output_type": "execute_result",
          "data": {
            "text/plain": [
              "array([178253,  78381, 239978, ..., 262001, 240358, 158101])"
            ]
          },
          "metadata": {},
          "execution_count": 92
        }
      ]
    },
    {
      "cell_type": "markdown",
      "source": [
        "## Training and Evaulating the best model"
      ],
      "metadata": {
        "id": "IYm01Y8vMNm9"
      }
    },
    {
      "cell_type": "code",
      "source": [
        "knn_clf_augmented = KNeighborsClassifier(n_neighbors=4, weights = 'distance')\n",
        "knn_clf_augmented.fit(X_train_augmented, y_train_augmented)"
      ],
      "metadata": {
        "colab": {
          "base_uri": "https://localhost:8080/",
          "height": 75
        },
        "id": "-14oSGANMNG7",
        "outputId": "62500b50-c9b7-4a4b-deb9-4dc25874265f"
      },
      "execution_count": null,
      "outputs": [
        {
          "output_type": "execute_result",
          "data": {
            "text/plain": [
              "KNeighborsClassifier(n_neighbors=4, weights='distance')"
            ],
            "text/html": [
              "<style>#sk-container-id-3 {color: black;background-color: white;}#sk-container-id-3 pre{padding: 0;}#sk-container-id-3 div.sk-toggleable {background-color: white;}#sk-container-id-3 label.sk-toggleable__label {cursor: pointer;display: block;width: 100%;margin-bottom: 0;padding: 0.3em;box-sizing: border-box;text-align: center;}#sk-container-id-3 label.sk-toggleable__label-arrow:before {content: \"▸\";float: left;margin-right: 0.25em;color: #696969;}#sk-container-id-3 label.sk-toggleable__label-arrow:hover:before {color: black;}#sk-container-id-3 div.sk-estimator:hover label.sk-toggleable__label-arrow:before {color: black;}#sk-container-id-3 div.sk-toggleable__content {max-height: 0;max-width: 0;overflow: hidden;text-align: left;background-color: #f0f8ff;}#sk-container-id-3 div.sk-toggleable__content pre {margin: 0.2em;color: black;border-radius: 0.25em;background-color: #f0f8ff;}#sk-container-id-3 input.sk-toggleable__control:checked~div.sk-toggleable__content {max-height: 200px;max-width: 100%;overflow: auto;}#sk-container-id-3 input.sk-toggleable__control:checked~label.sk-toggleable__label-arrow:before {content: \"▾\";}#sk-container-id-3 div.sk-estimator input.sk-toggleable__control:checked~label.sk-toggleable__label {background-color: #d4ebff;}#sk-container-id-3 div.sk-label input.sk-toggleable__control:checked~label.sk-toggleable__label {background-color: #d4ebff;}#sk-container-id-3 input.sk-hidden--visually {border: 0;clip: rect(1px 1px 1px 1px);clip: rect(1px, 1px, 1px, 1px);height: 1px;margin: -1px;overflow: hidden;padding: 0;position: absolute;width: 1px;}#sk-container-id-3 div.sk-estimator {font-family: monospace;background-color: #f0f8ff;border: 1px dotted black;border-radius: 0.25em;box-sizing: border-box;margin-bottom: 0.5em;}#sk-container-id-3 div.sk-estimator:hover {background-color: #d4ebff;}#sk-container-id-3 div.sk-parallel-item::after {content: \"\";width: 100%;border-bottom: 1px solid gray;flex-grow: 1;}#sk-container-id-3 div.sk-label:hover label.sk-toggleable__label {background-color: #d4ebff;}#sk-container-id-3 div.sk-serial::before {content: \"\";position: absolute;border-left: 1px solid gray;box-sizing: border-box;top: 0;bottom: 0;left: 50%;z-index: 0;}#sk-container-id-3 div.sk-serial {display: flex;flex-direction: column;align-items: center;background-color: white;padding-right: 0.2em;padding-left: 0.2em;position: relative;}#sk-container-id-3 div.sk-item {position: relative;z-index: 1;}#sk-container-id-3 div.sk-parallel {display: flex;align-items: stretch;justify-content: center;background-color: white;position: relative;}#sk-container-id-3 div.sk-item::before, #sk-container-id-3 div.sk-parallel-item::before {content: \"\";position: absolute;border-left: 1px solid gray;box-sizing: border-box;top: 0;bottom: 0;left: 50%;z-index: -1;}#sk-container-id-3 div.sk-parallel-item {display: flex;flex-direction: column;z-index: 1;position: relative;background-color: white;}#sk-container-id-3 div.sk-parallel-item:first-child::after {align-self: flex-end;width: 50%;}#sk-container-id-3 div.sk-parallel-item:last-child::after {align-self: flex-start;width: 50%;}#sk-container-id-3 div.sk-parallel-item:only-child::after {width: 0;}#sk-container-id-3 div.sk-dashed-wrapped {border: 1px dashed gray;margin: 0 0.4em 0.5em 0.4em;box-sizing: border-box;padding-bottom: 0.4em;background-color: white;}#sk-container-id-3 div.sk-label label {font-family: monospace;font-weight: bold;display: inline-block;line-height: 1.2em;}#sk-container-id-3 div.sk-label-container {text-align: center;}#sk-container-id-3 div.sk-container {/* jupyter's `normalize.less` sets `[hidden] { display: none; }` but bootstrap.min.css set `[hidden] { display: none !important; }` so we also need the `!important` here to be able to override the default hidden behavior on the sphinx rendered scikit-learn.org. See: https://github.com/scikit-learn/scikit-learn/issues/21755 */display: inline-block !important;position: relative;}#sk-container-id-3 div.sk-text-repr-fallback {display: none;}</style><div id=\"sk-container-id-3\" class=\"sk-top-container\"><div class=\"sk-text-repr-fallback\"><pre>KNeighborsClassifier(n_neighbors=4, weights=&#x27;distance&#x27;)</pre><b>In a Jupyter environment, please rerun this cell to show the HTML representation or trust the notebook. <br />On GitHub, the HTML representation is unable to render, please try loading this page with nbviewer.org.</b></div><div class=\"sk-container\" hidden><div class=\"sk-item\"><div class=\"sk-estimator sk-toggleable\"><input class=\"sk-toggleable__control sk-hidden--visually\" id=\"sk-estimator-id-3\" type=\"checkbox\" checked><label for=\"sk-estimator-id-3\" class=\"sk-toggleable__label sk-toggleable__label-arrow\">KNeighborsClassifier</label><div class=\"sk-toggleable__content\"><pre>KNeighborsClassifier(n_neighbors=4, weights=&#x27;distance&#x27;)</pre></div></div></div></div></div>"
            ]
          },
          "metadata": {},
          "execution_count": 93
        }
      ]
    },
    {
      "cell_type": "code",
      "source": [
        "augmented_accuracy = knn_clf_augmented.score(X_test, y_test)\n",
        "augmented_accuracy\n",
        "# before - 97.06%\n",
        "# 3 birim olunca 96.75'e düşüyor"
      ],
      "metadata": {
        "colab": {
          "base_uri": "https://localhost:8080/"
        },
        "id": "PZ9hej2ffIph",
        "outputId": "ccc1e1c7-591b-40b2-e9e6-f5f5f8e2d9de"
      },
      "execution_count": null,
      "outputs": [
        {
          "output_type": "execute_result",
          "data": {
            "text/plain": [
              "0.9761"
            ]
          },
          "metadata": {},
          "execution_count": 94
        }
      ]
    },
    {
      "cell_type": "code",
      "source": [
        "# Checking Accuracy on Test Data\n",
        "y_test_preds = knn_clf_augmented.predict(X_test) \n",
        "test_accuracy = accuracy_score(y_test,y_test_preds)*100\n",
        "print(\"Accuracy for our testing dataset with data augmentation is : {:.2f}%\".format(test_accuracy) )"
      ],
      "metadata": {
        "colab": {
          "base_uri": "https://localhost:8080/"
        },
        "id": "jddUmPeN9Gum",
        "outputId": "34488267-866c-4e9e-ca6a-c0b55847cc20"
      },
      "execution_count": null,
      "outputs": [
        {
          "output_type": "stream",
          "name": "stdout",
          "text": [
            "Accuracy for our testing dataset with data augmentation is : 97.61%\n"
          ]
        }
      ]
    },
    {
      "cell_type": "markdown",
      "source": [
        "# Chapter 4, Q12\n",
        "Implement batch gradient descent with early stopping for softmax regression\n",
        "without using Scikit-Learn, only NumPy. Use it on a classification task such as\n",
        "the iris dataset.\n",
        "\n",
        "Softmax regression (or multinomial logistic regression) is a generalization of logistic regression to the case where we want to handle multiple classes."
      ],
      "metadata": {
        "id": "TXDq9UPaPId4"
      }
    },
    {
      "cell_type": "markdown",
      "source": [
        "## Imports"
      ],
      "metadata": {
        "id": "T0sXTP0AAYjI"
      }
    },
    {
      "cell_type": "code",
      "source": [
        "from sklearn.datasets import load_iris"
      ],
      "metadata": {
        "id": "eHWM1rVCGTx-"
      },
      "execution_count": null,
      "outputs": []
    },
    {
      "cell_type": "markdown",
      "source": [
        "## Load the Data"
      ],
      "metadata": {
        "id": "9wnYhMB2AaKS"
      }
    },
    {
      "cell_type": "code",
      "source": [
        "iris = load_iris(as_frame=True)\n",
        "list(iris)"
      ],
      "metadata": {
        "colab": {
          "base_uri": "https://localhost:8080/"
        },
        "id": "caMvj2oGGYJY",
        "outputId": "3d2f7db0-c097-4cf4-b6f8-108a5ef917d9"
      },
      "execution_count": null,
      "outputs": [
        {
          "output_type": "execute_result",
          "data": {
            "text/plain": [
              "['data',\n",
              " 'target',\n",
              " 'frame',\n",
              " 'target_names',\n",
              " 'DESCR',\n",
              " 'feature_names',\n",
              " 'filename',\n",
              " 'data_module']"
            ]
          },
          "metadata": {},
          "execution_count": 4
        }
      ]
    },
    {
      "cell_type": "markdown",
      "source": [
        "## Take a quick look at the data"
      ],
      "metadata": {
        "id": "bw_tIfyoIBDn"
      }
    },
    {
      "cell_type": "code",
      "source": [
        "iris.frame"
      ],
      "metadata": {
        "colab": {
          "base_uri": "https://localhost:8080/",
          "height": 424
        },
        "id": "IC9T3tlcG3Py",
        "outputId": "2e7f5175-b555-4ddc-add0-4e7445fd1fd5"
      },
      "execution_count": null,
      "outputs": [
        {
          "output_type": "execute_result",
          "data": {
            "text/plain": [
              "     sepal length (cm)  sepal width (cm)  petal length (cm)  petal width (cm)  \\\n",
              "0                  5.1               3.5                1.4               0.2   \n",
              "1                  4.9               3.0                1.4               0.2   \n",
              "2                  4.7               3.2                1.3               0.2   \n",
              "3                  4.6               3.1                1.5               0.2   \n",
              "4                  5.0               3.6                1.4               0.2   \n",
              "..                 ...               ...                ...               ...   \n",
              "145                6.7               3.0                5.2               2.3   \n",
              "146                6.3               2.5                5.0               1.9   \n",
              "147                6.5               3.0                5.2               2.0   \n",
              "148                6.2               3.4                5.4               2.3   \n",
              "149                5.9               3.0                5.1               1.8   \n",
              "\n",
              "     target  \n",
              "0         0  \n",
              "1         0  \n",
              "2         0  \n",
              "3         0  \n",
              "4         0  \n",
              "..      ...  \n",
              "145       2  \n",
              "146       2  \n",
              "147       2  \n",
              "148       2  \n",
              "149       2  \n",
              "\n",
              "[150 rows x 5 columns]"
            ],
            "text/html": [
              "\n",
              "  <div id=\"df-8f955473-9670-4643-9aa0-7fb3b87bf15b\">\n",
              "    <div class=\"colab-df-container\">\n",
              "      <div>\n",
              "<style scoped>\n",
              "    .dataframe tbody tr th:only-of-type {\n",
              "        vertical-align: middle;\n",
              "    }\n",
              "\n",
              "    .dataframe tbody tr th {\n",
              "        vertical-align: top;\n",
              "    }\n",
              "\n",
              "    .dataframe thead th {\n",
              "        text-align: right;\n",
              "    }\n",
              "</style>\n",
              "<table border=\"1\" class=\"dataframe\">\n",
              "  <thead>\n",
              "    <tr style=\"text-align: right;\">\n",
              "      <th></th>\n",
              "      <th>sepal length (cm)</th>\n",
              "      <th>sepal width (cm)</th>\n",
              "      <th>petal length (cm)</th>\n",
              "      <th>petal width (cm)</th>\n",
              "      <th>target</th>\n",
              "    </tr>\n",
              "  </thead>\n",
              "  <tbody>\n",
              "    <tr>\n",
              "      <th>0</th>\n",
              "      <td>5.1</td>\n",
              "      <td>3.5</td>\n",
              "      <td>1.4</td>\n",
              "      <td>0.2</td>\n",
              "      <td>0</td>\n",
              "    </tr>\n",
              "    <tr>\n",
              "      <th>1</th>\n",
              "      <td>4.9</td>\n",
              "      <td>3.0</td>\n",
              "      <td>1.4</td>\n",
              "      <td>0.2</td>\n",
              "      <td>0</td>\n",
              "    </tr>\n",
              "    <tr>\n",
              "      <th>2</th>\n",
              "      <td>4.7</td>\n",
              "      <td>3.2</td>\n",
              "      <td>1.3</td>\n",
              "      <td>0.2</td>\n",
              "      <td>0</td>\n",
              "    </tr>\n",
              "    <tr>\n",
              "      <th>3</th>\n",
              "      <td>4.6</td>\n",
              "      <td>3.1</td>\n",
              "      <td>1.5</td>\n",
              "      <td>0.2</td>\n",
              "      <td>0</td>\n",
              "    </tr>\n",
              "    <tr>\n",
              "      <th>4</th>\n",
              "      <td>5.0</td>\n",
              "      <td>3.6</td>\n",
              "      <td>1.4</td>\n",
              "      <td>0.2</td>\n",
              "      <td>0</td>\n",
              "    </tr>\n",
              "    <tr>\n",
              "      <th>...</th>\n",
              "      <td>...</td>\n",
              "      <td>...</td>\n",
              "      <td>...</td>\n",
              "      <td>...</td>\n",
              "      <td>...</td>\n",
              "    </tr>\n",
              "    <tr>\n",
              "      <th>145</th>\n",
              "      <td>6.7</td>\n",
              "      <td>3.0</td>\n",
              "      <td>5.2</td>\n",
              "      <td>2.3</td>\n",
              "      <td>2</td>\n",
              "    </tr>\n",
              "    <tr>\n",
              "      <th>146</th>\n",
              "      <td>6.3</td>\n",
              "      <td>2.5</td>\n",
              "      <td>5.0</td>\n",
              "      <td>1.9</td>\n",
              "      <td>2</td>\n",
              "    </tr>\n",
              "    <tr>\n",
              "      <th>147</th>\n",
              "      <td>6.5</td>\n",
              "      <td>3.0</td>\n",
              "      <td>5.2</td>\n",
              "      <td>2.0</td>\n",
              "      <td>2</td>\n",
              "    </tr>\n",
              "    <tr>\n",
              "      <th>148</th>\n",
              "      <td>6.2</td>\n",
              "      <td>3.4</td>\n",
              "      <td>5.4</td>\n",
              "      <td>2.3</td>\n",
              "      <td>2</td>\n",
              "    </tr>\n",
              "    <tr>\n",
              "      <th>149</th>\n",
              "      <td>5.9</td>\n",
              "      <td>3.0</td>\n",
              "      <td>5.1</td>\n",
              "      <td>1.8</td>\n",
              "      <td>2</td>\n",
              "    </tr>\n",
              "  </tbody>\n",
              "</table>\n",
              "<p>150 rows × 5 columns</p>\n",
              "</div>\n",
              "      <button class=\"colab-df-convert\" onclick=\"convertToInteractive('df-8f955473-9670-4643-9aa0-7fb3b87bf15b')\"\n",
              "              title=\"Convert this dataframe to an interactive table.\"\n",
              "              style=\"display:none;\">\n",
              "        \n",
              "  <svg xmlns=\"http://www.w3.org/2000/svg\" height=\"24px\"viewBox=\"0 0 24 24\"\n",
              "       width=\"24px\">\n",
              "    <path d=\"M0 0h24v24H0V0z\" fill=\"none\"/>\n",
              "    <path d=\"M18.56 5.44l.94 2.06.94-2.06 2.06-.94-2.06-.94-.94-2.06-.94 2.06-2.06.94zm-11 1L8.5 8.5l.94-2.06 2.06-.94-2.06-.94L8.5 2.5l-.94 2.06-2.06.94zm10 10l.94 2.06.94-2.06 2.06-.94-2.06-.94-.94-2.06-.94 2.06-2.06.94z\"/><path d=\"M17.41 7.96l-1.37-1.37c-.4-.4-.92-.59-1.43-.59-.52 0-1.04.2-1.43.59L10.3 9.45l-7.72 7.72c-.78.78-.78 2.05 0 2.83L4 21.41c.39.39.9.59 1.41.59.51 0 1.02-.2 1.41-.59l7.78-7.78 2.81-2.81c.8-.78.8-2.07 0-2.86zM5.41 20L4 18.59l7.72-7.72 1.47 1.35L5.41 20z\"/>\n",
              "  </svg>\n",
              "      </button>\n",
              "      \n",
              "  <style>\n",
              "    .colab-df-container {\n",
              "      display:flex;\n",
              "      flex-wrap:wrap;\n",
              "      gap: 12px;\n",
              "    }\n",
              "\n",
              "    .colab-df-convert {\n",
              "      background-color: #E8F0FE;\n",
              "      border: none;\n",
              "      border-radius: 50%;\n",
              "      cursor: pointer;\n",
              "      display: none;\n",
              "      fill: #1967D2;\n",
              "      height: 32px;\n",
              "      padding: 0 0 0 0;\n",
              "      width: 32px;\n",
              "    }\n",
              "\n",
              "    .colab-df-convert:hover {\n",
              "      background-color: #E2EBFA;\n",
              "      box-shadow: 0px 1px 2px rgba(60, 64, 67, 0.3), 0px 1px 3px 1px rgba(60, 64, 67, 0.15);\n",
              "      fill: #174EA6;\n",
              "    }\n",
              "\n",
              "    [theme=dark] .colab-df-convert {\n",
              "      background-color: #3B4455;\n",
              "      fill: #D2E3FC;\n",
              "    }\n",
              "\n",
              "    [theme=dark] .colab-df-convert:hover {\n",
              "      background-color: #434B5C;\n",
              "      box-shadow: 0px 1px 3px 1px rgba(0, 0, 0, 0.15);\n",
              "      filter: drop-shadow(0px 1px 2px rgba(0, 0, 0, 0.3));\n",
              "      fill: #FFFFFF;\n",
              "    }\n",
              "  </style>\n",
              "\n",
              "      <script>\n",
              "        const buttonEl =\n",
              "          document.querySelector('#df-8f955473-9670-4643-9aa0-7fb3b87bf15b button.colab-df-convert');\n",
              "        buttonEl.style.display =\n",
              "          google.colab.kernel.accessAllowed ? 'block' : 'none';\n",
              "\n",
              "        async function convertToInteractive(key) {\n",
              "          const element = document.querySelector('#df-8f955473-9670-4643-9aa0-7fb3b87bf15b');\n",
              "          const dataTable =\n",
              "            await google.colab.kernel.invokeFunction('convertToInteractive',\n",
              "                                                     [key], {});\n",
              "          if (!dataTable) return;\n",
              "\n",
              "          const docLinkHtml = 'Like what you see? Visit the ' +\n",
              "            '<a target=\"_blank\" href=https://colab.research.google.com/notebooks/data_table.ipynb>data table notebook</a>'\n",
              "            + ' to learn more about interactive tables.';\n",
              "          element.innerHTML = '';\n",
              "          dataTable['output_type'] = 'display_data';\n",
              "          await google.colab.output.renderOutput(dataTable, element);\n",
              "          const docLink = document.createElement('div');\n",
              "          docLink.innerHTML = docLinkHtml;\n",
              "          element.appendChild(docLink);\n",
              "        }\n",
              "      </script>\n",
              "    </div>\n",
              "  </div>\n",
              "  "
            ]
          },
          "metadata": {},
          "execution_count": 5
        }
      ]
    },
    {
      "cell_type": "code",
      "source": [
        "iris.feature_names"
      ],
      "metadata": {
        "colab": {
          "base_uri": "https://localhost:8080/"
        },
        "id": "sB4IWuP-G741",
        "outputId": "0b1ea784-8ce5-4372-8719-e79611dd1143"
      },
      "execution_count": null,
      "outputs": [
        {
          "output_type": "execute_result",
          "data": {
            "text/plain": [
              "['sepal length (cm)',\n",
              " 'sepal width (cm)',\n",
              " 'petal length (cm)',\n",
              " 'petal width (cm)']"
            ]
          },
          "metadata": {},
          "execution_count": 6
        }
      ]
    },
    {
      "cell_type": "code",
      "source": [
        "iris.filename"
      ],
      "metadata": {
        "colab": {
          "base_uri": "https://localhost:8080/",
          "height": 35
        },
        "id": "dehy--uXG-IX",
        "outputId": "72ec55b3-fc39-41fe-dd92-902abf57b364"
      },
      "execution_count": null,
      "outputs": [
        {
          "output_type": "execute_result",
          "data": {
            "text/plain": [
              "'iris.csv'"
            ],
            "application/vnd.google.colaboratory.intrinsic+json": {
              "type": "string"
            }
          },
          "metadata": {},
          "execution_count": 7
        }
      ]
    },
    {
      "cell_type": "code",
      "source": [
        "iris.data_module"
      ],
      "metadata": {
        "colab": {
          "base_uri": "https://localhost:8080/",
          "height": 35
        },
        "id": "AhHl0fCWG_3F",
        "outputId": "ea03dc54-b598-430f-9310-2ec821b24569"
      },
      "execution_count": null,
      "outputs": [
        {
          "output_type": "execute_result",
          "data": {
            "text/plain": [
              "'sklearn.datasets.data'"
            ],
            "application/vnd.google.colaboratory.intrinsic+json": {
              "type": "string"
            }
          },
          "metadata": {},
          "execution_count": 8
        }
      ]
    },
    {
      "cell_type": "code",
      "source": [
        "print(iris.DESCR)"
      ],
      "metadata": {
        "colab": {
          "base_uri": "https://localhost:8080/"
        },
        "id": "cTSSBC93Gac3",
        "outputId": "0b2e378d-02c0-404e-da3a-a0f69ff2c18d"
      },
      "execution_count": null,
      "outputs": [
        {
          "output_type": "stream",
          "name": "stdout",
          "text": [
            ".. _iris_dataset:\n",
            "\n",
            "Iris plants dataset\n",
            "--------------------\n",
            "\n",
            "**Data Set Characteristics:**\n",
            "\n",
            "    :Number of Instances: 150 (50 in each of three classes)\n",
            "    :Number of Attributes: 4 numeric, predictive attributes and the class\n",
            "    :Attribute Information:\n",
            "        - sepal length in cm\n",
            "        - sepal width in cm\n",
            "        - petal length in cm\n",
            "        - petal width in cm\n",
            "        - class:\n",
            "                - Iris-Setosa\n",
            "                - Iris-Versicolour\n",
            "                - Iris-Virginica\n",
            "                \n",
            "    :Summary Statistics:\n",
            "\n",
            "    ============== ==== ==== ======= ===== ====================\n",
            "                    Min  Max   Mean    SD   Class Correlation\n",
            "    ============== ==== ==== ======= ===== ====================\n",
            "    sepal length:   4.3  7.9   5.84   0.83    0.7826\n",
            "    sepal width:    2.0  4.4   3.05   0.43   -0.4194\n",
            "    petal length:   1.0  6.9   3.76   1.76    0.9490  (high!)\n",
            "    petal width:    0.1  2.5   1.20   0.76    0.9565  (high!)\n",
            "    ============== ==== ==== ======= ===== ====================\n",
            "\n",
            "    :Missing Attribute Values: None\n",
            "    :Class Distribution: 33.3% for each of 3 classes.\n",
            "    :Creator: R.A. Fisher\n",
            "    :Donor: Michael Marshall (MARSHALL%PLU@io.arc.nasa.gov)\n",
            "    :Date: July, 1988\n",
            "\n",
            "The famous Iris database, first used by Sir R.A. Fisher. The dataset is taken\n",
            "from Fisher's paper. Note that it's the same as in R, but not as in the UCI\n",
            "Machine Learning Repository, which has two wrong data points.\n",
            "\n",
            "This is perhaps the best known database to be found in the\n",
            "pattern recognition literature.  Fisher's paper is a classic in the field and\n",
            "is referenced frequently to this day.  (See Duda & Hart, for example.)  The\n",
            "data set contains 3 classes of 50 instances each, where each class refers to a\n",
            "type of iris plant.  One class is linearly separable from the other 2; the\n",
            "latter are NOT linearly separable from each other.\n",
            "\n",
            ".. topic:: References\n",
            "\n",
            "   - Fisher, R.A. \"The use of multiple measurements in taxonomic problems\"\n",
            "     Annual Eugenics, 7, Part II, 179-188 (1936); also in \"Contributions to\n",
            "     Mathematical Statistics\" (John Wiley, NY, 1950).\n",
            "   - Duda, R.O., & Hart, P.E. (1973) Pattern Classification and Scene Analysis.\n",
            "     (Q327.D83) John Wiley & Sons.  ISBN 0-471-22361-1.  See page 218.\n",
            "   - Dasarathy, B.V. (1980) \"Nosing Around the Neighborhood: A New System\n",
            "     Structure and Classification Rule for Recognition in Partially Exposed\n",
            "     Environments\".  IEEE Transactions on Pattern Analysis and Machine\n",
            "     Intelligence, Vol. PAMI-2, No. 1, 67-71.\n",
            "   - Gates, G.W. (1972) \"The Reduced Nearest Neighbor Rule\".  IEEE Transactions\n",
            "     on Information Theory, May 1972, 431-433.\n",
            "   - See also: 1988 MLC Proceedings, 54-64.  Cheeseman et al\"s AUTOCLASS II\n",
            "     conceptual clustering system finds 3 classes in the data.\n",
            "   - Many, many more ...\n"
          ]
        }
      ]
    },
    {
      "cell_type": "code",
      "source": [
        "iris.data.head(3)"
      ],
      "metadata": {
        "colab": {
          "base_uri": "https://localhost:8080/",
          "height": 143
        },
        "id": "ERIewWsVGmxs",
        "outputId": "66361cc3-8512-4960-e567-f40184719619"
      },
      "execution_count": null,
      "outputs": [
        {
          "output_type": "execute_result",
          "data": {
            "text/plain": [
              "   sepal length (cm)  sepal width (cm)  petal length (cm)  petal width (cm)\n",
              "0                5.1               3.5                1.4               0.2\n",
              "1                4.9               3.0                1.4               0.2\n",
              "2                4.7               3.2                1.3               0.2"
            ],
            "text/html": [
              "\n",
              "  <div id=\"df-b347556b-1bbb-4658-9a71-6d07a9d015f6\">\n",
              "    <div class=\"colab-df-container\">\n",
              "      <div>\n",
              "<style scoped>\n",
              "    .dataframe tbody tr th:only-of-type {\n",
              "        vertical-align: middle;\n",
              "    }\n",
              "\n",
              "    .dataframe tbody tr th {\n",
              "        vertical-align: top;\n",
              "    }\n",
              "\n",
              "    .dataframe thead th {\n",
              "        text-align: right;\n",
              "    }\n",
              "</style>\n",
              "<table border=\"1\" class=\"dataframe\">\n",
              "  <thead>\n",
              "    <tr style=\"text-align: right;\">\n",
              "      <th></th>\n",
              "      <th>sepal length (cm)</th>\n",
              "      <th>sepal width (cm)</th>\n",
              "      <th>petal length (cm)</th>\n",
              "      <th>petal width (cm)</th>\n",
              "    </tr>\n",
              "  </thead>\n",
              "  <tbody>\n",
              "    <tr>\n",
              "      <th>0</th>\n",
              "      <td>5.1</td>\n",
              "      <td>3.5</td>\n",
              "      <td>1.4</td>\n",
              "      <td>0.2</td>\n",
              "    </tr>\n",
              "    <tr>\n",
              "      <th>1</th>\n",
              "      <td>4.9</td>\n",
              "      <td>3.0</td>\n",
              "      <td>1.4</td>\n",
              "      <td>0.2</td>\n",
              "    </tr>\n",
              "    <tr>\n",
              "      <th>2</th>\n",
              "      <td>4.7</td>\n",
              "      <td>3.2</td>\n",
              "      <td>1.3</td>\n",
              "      <td>0.2</td>\n",
              "    </tr>\n",
              "  </tbody>\n",
              "</table>\n",
              "</div>\n",
              "      <button class=\"colab-df-convert\" onclick=\"convertToInteractive('df-b347556b-1bbb-4658-9a71-6d07a9d015f6')\"\n",
              "              title=\"Convert this dataframe to an interactive table.\"\n",
              "              style=\"display:none;\">\n",
              "        \n",
              "  <svg xmlns=\"http://www.w3.org/2000/svg\" height=\"24px\"viewBox=\"0 0 24 24\"\n",
              "       width=\"24px\">\n",
              "    <path d=\"M0 0h24v24H0V0z\" fill=\"none\"/>\n",
              "    <path d=\"M18.56 5.44l.94 2.06.94-2.06 2.06-.94-2.06-.94-.94-2.06-.94 2.06-2.06.94zm-11 1L8.5 8.5l.94-2.06 2.06-.94-2.06-.94L8.5 2.5l-.94 2.06-2.06.94zm10 10l.94 2.06.94-2.06 2.06-.94-2.06-.94-.94-2.06-.94 2.06-2.06.94z\"/><path d=\"M17.41 7.96l-1.37-1.37c-.4-.4-.92-.59-1.43-.59-.52 0-1.04.2-1.43.59L10.3 9.45l-7.72 7.72c-.78.78-.78 2.05 0 2.83L4 21.41c.39.39.9.59 1.41.59.51 0 1.02-.2 1.41-.59l7.78-7.78 2.81-2.81c.8-.78.8-2.07 0-2.86zM5.41 20L4 18.59l7.72-7.72 1.47 1.35L5.41 20z\"/>\n",
              "  </svg>\n",
              "      </button>\n",
              "      \n",
              "  <style>\n",
              "    .colab-df-container {\n",
              "      display:flex;\n",
              "      flex-wrap:wrap;\n",
              "      gap: 12px;\n",
              "    }\n",
              "\n",
              "    .colab-df-convert {\n",
              "      background-color: #E8F0FE;\n",
              "      border: none;\n",
              "      border-radius: 50%;\n",
              "      cursor: pointer;\n",
              "      display: none;\n",
              "      fill: #1967D2;\n",
              "      height: 32px;\n",
              "      padding: 0 0 0 0;\n",
              "      width: 32px;\n",
              "    }\n",
              "\n",
              "    .colab-df-convert:hover {\n",
              "      background-color: #E2EBFA;\n",
              "      box-shadow: 0px 1px 2px rgba(60, 64, 67, 0.3), 0px 1px 3px 1px rgba(60, 64, 67, 0.15);\n",
              "      fill: #174EA6;\n",
              "    }\n",
              "\n",
              "    [theme=dark] .colab-df-convert {\n",
              "      background-color: #3B4455;\n",
              "      fill: #D2E3FC;\n",
              "    }\n",
              "\n",
              "    [theme=dark] .colab-df-convert:hover {\n",
              "      background-color: #434B5C;\n",
              "      box-shadow: 0px 1px 3px 1px rgba(0, 0, 0, 0.15);\n",
              "      filter: drop-shadow(0px 1px 2px rgba(0, 0, 0, 0.3));\n",
              "      fill: #FFFFFF;\n",
              "    }\n",
              "  </style>\n",
              "\n",
              "      <script>\n",
              "        const buttonEl =\n",
              "          document.querySelector('#df-b347556b-1bbb-4658-9a71-6d07a9d015f6 button.colab-df-convert');\n",
              "        buttonEl.style.display =\n",
              "          google.colab.kernel.accessAllowed ? 'block' : 'none';\n",
              "\n",
              "        async function convertToInteractive(key) {\n",
              "          const element = document.querySelector('#df-b347556b-1bbb-4658-9a71-6d07a9d015f6');\n",
              "          const dataTable =\n",
              "            await google.colab.kernel.invokeFunction('convertToInteractive',\n",
              "                                                     [key], {});\n",
              "          if (!dataTable) return;\n",
              "\n",
              "          const docLinkHtml = 'Like what you see? Visit the ' +\n",
              "            '<a target=\"_blank\" href=https://colab.research.google.com/notebooks/data_table.ipynb>data table notebook</a>'\n",
              "            + ' to learn more about interactive tables.';\n",
              "          element.innerHTML = '';\n",
              "          dataTable['output_type'] = 'display_data';\n",
              "          await google.colab.output.renderOutput(dataTable, element);\n",
              "          const docLink = document.createElement('div');\n",
              "          docLink.innerHTML = docLinkHtml;\n",
              "          element.appendChild(docLink);\n",
              "        }\n",
              "      </script>\n",
              "    </div>\n",
              "  </div>\n",
              "  "
            ]
          },
          "metadata": {},
          "execution_count": 10
        }
      ]
    },
    {
      "cell_type": "code",
      "source": [
        "iris.target.head(3)  # note that the instances are not shuffled"
      ],
      "metadata": {
        "colab": {
          "base_uri": "https://localhost:8080/"
        },
        "id": "vQa-J3mcGtzo",
        "outputId": "d0622757-317a-4372-d13c-f21d0dbc1bf9"
      },
      "execution_count": null,
      "outputs": [
        {
          "output_type": "execute_result",
          "data": {
            "text/plain": [
              "0    0\n",
              "1    0\n",
              "2    0\n",
              "Name: target, dtype: int64"
            ]
          },
          "metadata": {},
          "execution_count": 11
        }
      ]
    },
    {
      "cell_type": "code",
      "source": [
        "iris.target_names"
      ],
      "metadata": {
        "colab": {
          "base_uri": "https://localhost:8080/"
        },
        "id": "k9A1zZEiGvtG",
        "outputId": "15603387-be0d-45d9-83f0-5feced7c61ff"
      },
      "execution_count": null,
      "outputs": [
        {
          "output_type": "execute_result",
          "data": {
            "text/plain": [
              "array(['setosa', 'versicolor', 'virginica'], dtype='<U10')"
            ]
          },
          "metadata": {},
          "execution_count": 12
        }
      ]
    },
    {
      "cell_type": "code",
      "execution_count": null,
      "metadata": {
        "id": "WCBixIbXPF3c"
      },
      "outputs": [],
      "source": [
        "X = iris.data[[\"petal length (cm)\", \"petal width (cm)\"]].values\n",
        "y = iris[\"target\"].values"
      ]
    },
    {
      "cell_type": "code",
      "source": [
        "print(\"Shape of X : \", X.shape)\n",
        "print(\"Shape of y : \", y.shape)"
      ],
      "metadata": {
        "colab": {
          "base_uri": "https://localhost:8080/"
        },
        "id": "A0KMemvmHhJb",
        "outputId": "89057146-f637-46ba-b50f-6f26ed409154"
      },
      "execution_count": null,
      "outputs": [
        {
          "output_type": "stream",
          "name": "stdout",
          "text": [
            "Shape of X :  (150, 2)\n",
            "Shape of y :  (150,)\n"
          ]
        }
      ]
    },
    {
      "cell_type": "code",
      "source": [
        "X"
      ],
      "metadata": {
        "colab": {
          "base_uri": "https://localhost:8080/"
        },
        "id": "Rw0ZIUTvHaJk",
        "outputId": "5efbaa5d-6c78-4f84-ed48-6b2e826f7211"
      },
      "execution_count": null,
      "outputs": [
        {
          "output_type": "execute_result",
          "data": {
            "text/plain": [
              "array([[1.4, 0.2],\n",
              "       [1.4, 0.2],\n",
              "       [1.3, 0.2],\n",
              "       [1.5, 0.2],\n",
              "       [1.4, 0.2],\n",
              "       [1.7, 0.4],\n",
              "       [1.4, 0.3],\n",
              "       [1.5, 0.2],\n",
              "       [1.4, 0.2],\n",
              "       [1.5, 0.1],\n",
              "       [1.5, 0.2],\n",
              "       [1.6, 0.2],\n",
              "       [1.4, 0.1],\n",
              "       [1.1, 0.1],\n",
              "       [1.2, 0.2],\n",
              "       [1.5, 0.4],\n",
              "       [1.3, 0.4],\n",
              "       [1.4, 0.3],\n",
              "       [1.7, 0.3],\n",
              "       [1.5, 0.3],\n",
              "       [1.7, 0.2],\n",
              "       [1.5, 0.4],\n",
              "       [1. , 0.2],\n",
              "       [1.7, 0.5],\n",
              "       [1.9, 0.2],\n",
              "       [1.6, 0.2],\n",
              "       [1.6, 0.4],\n",
              "       [1.5, 0.2],\n",
              "       [1.4, 0.2],\n",
              "       [1.6, 0.2],\n",
              "       [1.6, 0.2],\n",
              "       [1.5, 0.4],\n",
              "       [1.5, 0.1],\n",
              "       [1.4, 0.2],\n",
              "       [1.5, 0.2],\n",
              "       [1.2, 0.2],\n",
              "       [1.3, 0.2],\n",
              "       [1.4, 0.1],\n",
              "       [1.3, 0.2],\n",
              "       [1.5, 0.2],\n",
              "       [1.3, 0.3],\n",
              "       [1.3, 0.3],\n",
              "       [1.3, 0.2],\n",
              "       [1.6, 0.6],\n",
              "       [1.9, 0.4],\n",
              "       [1.4, 0.3],\n",
              "       [1.6, 0.2],\n",
              "       [1.4, 0.2],\n",
              "       [1.5, 0.2],\n",
              "       [1.4, 0.2],\n",
              "       [4.7, 1.4],\n",
              "       [4.5, 1.5],\n",
              "       [4.9, 1.5],\n",
              "       [4. , 1.3],\n",
              "       [4.6, 1.5],\n",
              "       [4.5, 1.3],\n",
              "       [4.7, 1.6],\n",
              "       [3.3, 1. ],\n",
              "       [4.6, 1.3],\n",
              "       [3.9, 1.4],\n",
              "       [3.5, 1. ],\n",
              "       [4.2, 1.5],\n",
              "       [4. , 1. ],\n",
              "       [4.7, 1.4],\n",
              "       [3.6, 1.3],\n",
              "       [4.4, 1.4],\n",
              "       [4.5, 1.5],\n",
              "       [4.1, 1. ],\n",
              "       [4.5, 1.5],\n",
              "       [3.9, 1.1],\n",
              "       [4.8, 1.8],\n",
              "       [4. , 1.3],\n",
              "       [4.9, 1.5],\n",
              "       [4.7, 1.2],\n",
              "       [4.3, 1.3],\n",
              "       [4.4, 1.4],\n",
              "       [4.8, 1.4],\n",
              "       [5. , 1.7],\n",
              "       [4.5, 1.5],\n",
              "       [3.5, 1. ],\n",
              "       [3.8, 1.1],\n",
              "       [3.7, 1. ],\n",
              "       [3.9, 1.2],\n",
              "       [5.1, 1.6],\n",
              "       [4.5, 1.5],\n",
              "       [4.5, 1.6],\n",
              "       [4.7, 1.5],\n",
              "       [4.4, 1.3],\n",
              "       [4.1, 1.3],\n",
              "       [4. , 1.3],\n",
              "       [4.4, 1.2],\n",
              "       [4.6, 1.4],\n",
              "       [4. , 1.2],\n",
              "       [3.3, 1. ],\n",
              "       [4.2, 1.3],\n",
              "       [4.2, 1.2],\n",
              "       [4.2, 1.3],\n",
              "       [4.3, 1.3],\n",
              "       [3. , 1.1],\n",
              "       [4.1, 1.3],\n",
              "       [6. , 2.5],\n",
              "       [5.1, 1.9],\n",
              "       [5.9, 2.1],\n",
              "       [5.6, 1.8],\n",
              "       [5.8, 2.2],\n",
              "       [6.6, 2.1],\n",
              "       [4.5, 1.7],\n",
              "       [6.3, 1.8],\n",
              "       [5.8, 1.8],\n",
              "       [6.1, 2.5],\n",
              "       [5.1, 2. ],\n",
              "       [5.3, 1.9],\n",
              "       [5.5, 2.1],\n",
              "       [5. , 2. ],\n",
              "       [5.1, 2.4],\n",
              "       [5.3, 2.3],\n",
              "       [5.5, 1.8],\n",
              "       [6.7, 2.2],\n",
              "       [6.9, 2.3],\n",
              "       [5. , 1.5],\n",
              "       [5.7, 2.3],\n",
              "       [4.9, 2. ],\n",
              "       [6.7, 2. ],\n",
              "       [4.9, 1.8],\n",
              "       [5.7, 2.1],\n",
              "       [6. , 1.8],\n",
              "       [4.8, 1.8],\n",
              "       [4.9, 1.8],\n",
              "       [5.6, 2.1],\n",
              "       [5.8, 1.6],\n",
              "       [6.1, 1.9],\n",
              "       [6.4, 2. ],\n",
              "       [5.6, 2.2],\n",
              "       [5.1, 1.5],\n",
              "       [5.6, 1.4],\n",
              "       [6.1, 2.3],\n",
              "       [5.6, 2.4],\n",
              "       [5.5, 1.8],\n",
              "       [4.8, 1.8],\n",
              "       [5.4, 2.1],\n",
              "       [5.6, 2.4],\n",
              "       [5.1, 2.3],\n",
              "       [5.1, 1.9],\n",
              "       [5.9, 2.3],\n",
              "       [5.7, 2.5],\n",
              "       [5.2, 2.3],\n",
              "       [5. , 1.9],\n",
              "       [5.2, 2. ],\n",
              "       [5.4, 2.3],\n",
              "       [5.1, 1.8]])"
            ]
          },
          "metadata": {},
          "execution_count": 15
        }
      ]
    },
    {
      "cell_type": "code",
      "source": [
        "# plot data\n",
        "plt.scatter(X[:50, 0], X[:50, 1],\n",
        "            color='blue', marker='o', label='Setosa')\n",
        "\n",
        "plt.scatter(X[50:100, 0], X[50:100, 1],\n",
        "            color='green', marker='s', label='Versicolor')\n",
        "\n",
        "plt.scatter(X[100:150, 0], X[100:150, 1],\n",
        "            color='red', marker='v', label='Virginia')\n",
        "\n",
        "plt.xlabel('Petal length [cm]')\n",
        "plt.ylabel('Petal width [cm]')\n",
        "plt.legend(loc='upper left')\n",
        " \n",
        "plt.show()"
      ],
      "metadata": {
        "colab": {
          "base_uri": "https://localhost:8080/",
          "height": 449
        },
        "id": "JtR4MdENnzYX",
        "outputId": "a5e0eb07-9a1d-4586-df75-536a24c564d5"
      },
      "execution_count": null,
      "outputs": [
        {
          "output_type": "display_data",
          "data": {
            "text/plain": [
              "<Figure size 640x480 with 1 Axes>"
            ],
            "image/png": "[encoded data removed]"
          },
          "metadata": {}
        }
      ]
    },
    {
      "cell_type": "code",
      "source": [
        "y"
      ],
      "metadata": {
        "colab": {
          "base_uri": "https://localhost:8080/"
        },
        "id": "d8w5mwQmHa47",
        "outputId": "c5555ab1-6add-47c1-a644-ffc900285af9"
      },
      "execution_count": null,
      "outputs": [
        {
          "output_type": "execute_result",
          "data": {
            "text/plain": [
              "array([0, 0, 0, 0, 0, 0, 0, 0, 0, 0, 0, 0, 0, 0, 0, 0, 0, 0, 0, 0, 0, 0,\n",
              "       0, 0, 0, 0, 0, 0, 0, 0, 0, 0, 0, 0, 0, 0, 0, 0, 0, 0, 0, 0, 0, 0,\n",
              "       0, 0, 0, 0, 0, 0, 1, 1, 1, 1, 1, 1, 1, 1, 1, 1, 1, 1, 1, 1, 1, 1,\n",
              "       1, 1, 1, 1, 1, 1, 1, 1, 1, 1, 1, 1, 1, 1, 1, 1, 1, 1, 1, 1, 1, 1,\n",
              "       1, 1, 1, 1, 1, 1, 1, 1, 1, 1, 1, 1, 2, 2, 2, 2, 2, 2, 2, 2, 2, 2,\n",
              "       2, 2, 2, 2, 2, 2, 2, 2, 2, 2, 2, 2, 2, 2, 2, 2, 2, 2, 2, 2, 2, 2,\n",
              "       2, 2, 2, 2, 2, 2, 2, 2, 2, 2, 2, 2, 2, 2, 2, 2, 2, 2])"
            ]
          },
          "metadata": {},
          "execution_count": 16
        }
      ]
    },
    {
      "cell_type": "markdown",
      "source": [
        "## Preprocessing"
      ],
      "metadata": {
        "id": "ty7TischIIZ_"
      }
    },
    {
      "cell_type": "code",
      "source": [
        "# np.c_[np.array([1,2,3]), np.array([4,5,6])]\n",
        "# Translates slice objects to concatenation along the second axis.\n",
        "\"\"\"\n",
        "array([[1, 4],\n",
        "       [2, 5],\n",
        "       [3, 6]])\n",
        "\"\"\"\n",
        "\n",
        "# Extend every input by x_0 = 1 and check shape\n",
        "X = np.c_[np.ones(len(X)), X] # bias term\n",
        "# check shape\n",
        "print(X.shape)"
      ],
      "metadata": {
        "colab": {
          "base_uri": "https://localhost:8080/"
        },
        "id": "VXhrpcmXJNGQ",
        "outputId": "fa671233-8bcb-43c4-f1dc-5e1f96e51465"
      },
      "execution_count": null,
      "outputs": [
        {
          "output_type": "stream",
          "name": "stdout",
          "text": [
            "(150, 3)\n"
          ]
        }
      ]
    },
    {
      "cell_type": "code",
      "source": [
        "X"
      ],
      "metadata": {
        "colab": {
          "base_uri": "https://localhost:8080/"
        },
        "id": "f82_tDCuDbuZ",
        "outputId": "1ec3e996-cb5f-4cf4-9108-35c82c4dc17e"
      },
      "execution_count": null,
      "outputs": [
        {
          "output_type": "execute_result",
          "data": {
            "text/plain": [
              "array([[1. , 1.4, 0.2],\n",
              "       [1. , 1.4, 0.2],\n",
              "       [1. , 1.3, 0.2],\n",
              "       [1. , 1.5, 0.2],\n",
              "       [1. , 1.4, 0.2],\n",
              "       [1. , 1.7, 0.4],\n",
              "       [1. , 1.4, 0.3],\n",
              "       [1. , 1.5, 0.2],\n",
              "       [1. , 1.4, 0.2],\n",
              "       [1. , 1.5, 0.1],\n",
              "       [1. , 1.5, 0.2],\n",
              "       [1. , 1.6, 0.2],\n",
              "       [1. , 1.4, 0.1],\n",
              "       [1. , 1.1, 0.1],\n",
              "       [1. , 1.2, 0.2],\n",
              "       [1. , 1.5, 0.4],\n",
              "       [1. , 1.3, 0.4],\n",
              "       [1. , 1.4, 0.3],\n",
              "       [1. , 1.7, 0.3],\n",
              "       [1. , 1.5, 0.3],\n",
              "       [1. , 1.7, 0.2],\n",
              "       [1. , 1.5, 0.4],\n",
              "       [1. , 1. , 0.2],\n",
              "       [1. , 1.7, 0.5],\n",
              "       [1. , 1.9, 0.2],\n",
              "       [1. , 1.6, 0.2],\n",
              "       [1. , 1.6, 0.4],\n",
              "       [1. , 1.5, 0.2],\n",
              "       [1. , 1.4, 0.2],\n",
              "       [1. , 1.6, 0.2],\n",
              "       [1. , 1.6, 0.2],\n",
              "       [1. , 1.5, 0.4],\n",
              "       [1. , 1.5, 0.1],\n",
              "       [1. , 1.4, 0.2],\n",
              "       [1. , 1.5, 0.2],\n",
              "       [1. , 1.2, 0.2],\n",
              "       [1. , 1.3, 0.2],\n",
              "       [1. , 1.4, 0.1],\n",
              "       [1. , 1.3, 0.2],\n",
              "       [1. , 1.5, 0.2],\n",
              "       [1. , 1.3, 0.3],\n",
              "       [1. , 1.3, 0.3],\n",
              "       [1. , 1.3, 0.2],\n",
              "       [1. , 1.6, 0.6],\n",
              "       [1. , 1.9, 0.4],\n",
              "       [1. , 1.4, 0.3],\n",
              "       [1. , 1.6, 0.2],\n",
              "       [1. , 1.4, 0.2],\n",
              "       [1. , 1.5, 0.2],\n",
              "       [1. , 1.4, 0.2],\n",
              "       [1. , 4.7, 1.4],\n",
              "       [1. , 4.5, 1.5],\n",
              "       [1. , 4.9, 1.5],\n",
              "       [1. , 4. , 1.3],\n",
              "       [1. , 4.6, 1.5],\n",
              "       [1. , 4.5, 1.3],\n",
              "       [1. , 4.7, 1.6],\n",
              "       [1. , 3.3, 1. ],\n",
              "       [1. , 4.6, 1.3],\n",
              "       [1. , 3.9, 1.4],\n",
              "       [1. , 3.5, 1. ],\n",
              "       [1. , 4.2, 1.5],\n",
              "       [1. , 4. , 1. ],\n",
              "       [1. , 4.7, 1.4],\n",
              "       [1. , 3.6, 1.3],\n",
              "       [1. , 4.4, 1.4],\n",
              "       [1. , 4.5, 1.5],\n",
              "       [1. , 4.1, 1. ],\n",
              "       [1. , 4.5, 1.5],\n",
              "       [1. , 3.9, 1.1],\n",
              "       [1. , 4.8, 1.8],\n",
              "       [1. , 4. , 1.3],\n",
              "       [1. , 4.9, 1.5],\n",
              "       [1. , 4.7, 1.2],\n",
              "       [1. , 4.3, 1.3],\n",
              "       [1. , 4.4, 1.4],\n",
              "       [1. , 4.8, 1.4],\n",
              "       [1. , 5. , 1.7],\n",
              "       [1. , 4.5, 1.5],\n",
              "       [1. , 3.5, 1. ],\n",
              "       [1. , 3.8, 1.1],\n",
              "       [1. , 3.7, 1. ],\n",
              "       [1. , 3.9, 1.2],\n",
              "       [1. , 5.1, 1.6],\n",
              "       [1. , 4.5, 1.5],\n",
              "       [1. , 4.5, 1.6],\n",
              "       [1. , 4.7, 1.5],\n",
              "       [1. , 4.4, 1.3],\n",
              "       [1. , 4.1, 1.3],\n",
              "       [1. , 4. , 1.3],\n",
              "       [1. , 4.4, 1.2],\n",
              "       [1. , 4.6, 1.4],\n",
              "       [1. , 4. , 1.2],\n",
              "       [1. , 3.3, 1. ],\n",
              "       [1. , 4.2, 1.3],\n",
              "       [1. , 4.2, 1.2],\n",
              "       [1. , 4.2, 1.3],\n",
              "       [1. , 4.3, 1.3],\n",
              "       [1. , 3. , 1.1],\n",
              "       [1. , 4.1, 1.3],\n",
              "       [1. , 6. , 2.5],\n",
              "       [1. , 5.1, 1.9],\n",
              "       [1. , 5.9, 2.1],\n",
              "       [1. , 5.6, 1.8],\n",
              "       [1. , 5.8, 2.2],\n",
              "       [1. , 6.6, 2.1],\n",
              "       [1. , 4.5, 1.7],\n",
              "       [1. , 6.3, 1.8],\n",
              "       [1. , 5.8, 1.8],\n",
              "       [1. , 6.1, 2.5],\n",
              "       [1. , 5.1, 2. ],\n",
              "       [1. , 5.3, 1.9],\n",
              "       [1. , 5.5, 2.1],\n",
              "       [1. , 5. , 2. ],\n",
              "       [1. , 5.1, 2.4],\n",
              "       [1. , 5.3, 2.3],\n",
              "       [1. , 5.5, 1.8],\n",
              "       [1. , 6.7, 2.2],\n",
              "       [1. , 6.9, 2.3],\n",
              "       [1. , 5. , 1.5],\n",
              "       [1. , 5.7, 2.3],\n",
              "       [1. , 4.9, 2. ],\n",
              "       [1. , 6.7, 2. ],\n",
              "       [1. , 4.9, 1.8],\n",
              "       [1. , 5.7, 2.1],\n",
              "       [1. , 6. , 1.8],\n",
              "       [1. , 4.8, 1.8],\n",
              "       [1. , 4.9, 1.8],\n",
              "       [1. , 5.6, 2.1],\n",
              "       [1. , 5.8, 1.6],\n",
              "       [1. , 6.1, 1.9],\n",
              "       [1. , 6.4, 2. ],\n",
              "       [1. , 5.6, 2.2],\n",
              "       [1. , 5.1, 1.5],\n",
              "       [1. , 5.6, 1.4],\n",
              "       [1. , 6.1, 2.3],\n",
              "       [1. , 5.6, 2.4],\n",
              "       [1. , 5.5, 1.8],\n",
              "       [1. , 4.8, 1.8],\n",
              "       [1. , 5.4, 2.1],\n",
              "       [1. , 5.6, 2.4],\n",
              "       [1. , 5.1, 2.3],\n",
              "       [1. , 5.1, 1.9],\n",
              "       [1. , 5.9, 2.3],\n",
              "       [1. , 5.7, 2.5],\n",
              "       [1. , 5.2, 2.3],\n",
              "       [1. , 5. , 1.9],\n",
              "       [1. , 5.2, 2. ],\n",
              "       [1. , 5.4, 2.3],\n",
              "       [1. , 5.1, 1.8]])"
            ]
          },
          "metadata": {},
          "execution_count": 60
        }
      ]
    },
    {
      "cell_type": "code",
      "source": [
        "df = pd.DataFrame(np.transpose(X))\n",
        "df.loc[len(df.index)] = y\n",
        "df"
      ],
      "metadata": {
        "colab": {
          "base_uri": "https://localhost:8080/",
          "height": 204
        },
        "id": "xB3B0yKQKxWy",
        "outputId": "95540fcb-9415-4258-9323-3e2d5a3ff284"
      },
      "execution_count": null,
      "outputs": [
        {
          "output_type": "execute_result",
          "data": {
            "text/plain": [
              "   0    1    2    3    4    5    6    7    8    9    ...  140  141  142  143  \\\n",
              "0  1.0  1.0  1.0  1.0  1.0  1.0  1.0  1.0  1.0  1.0  ...  1.0  1.0  1.0  1.0   \n",
              "1  1.4  1.4  1.3  1.5  1.4  1.7  1.4  1.5  1.4  1.5  ...  5.6  5.1  5.1  5.9   \n",
              "2  0.2  0.2  0.2  0.2  0.2  0.4  0.3  0.2  0.2  0.1  ...  2.4  2.3  1.9  2.3   \n",
              "3  0.0  0.0  0.0  0.0  0.0  0.0  0.0  0.0  0.0  0.0  ...  2.0  2.0  2.0  2.0   \n",
              "\n",
              "   144  145  146  147  148  149  \n",
              "0  1.0  1.0  1.0  1.0  1.0  1.0  \n",
              "1  5.7  5.2  5.0  5.2  5.4  5.1  \n",
              "2  2.5  2.3  1.9  2.0  2.3  1.8  \n",
              "3  2.0  2.0  2.0  2.0  2.0  2.0  \n",
              "\n",
              "[4 rows x 150 columns]"
            ],
            "text/html": [
              "\n",
              "  <div id=\"df-1a7a84e2-8dd8-4c1f-b607-967469600885\">\n",
              "    <div class=\"colab-df-container\">\n",
              "      <div>\n",
              "<style scoped>\n",
              "    .dataframe tbody tr th:only-of-type {\n",
              "        vertical-align: middle;\n",
              "    }\n",
              "\n",
              "    .dataframe tbody tr th {\n",
              "        vertical-align: top;\n",
              "    }\n",
              "\n",
              "    .dataframe thead th {\n",
              "        text-align: right;\n",
              "    }\n",
              "</style>\n",
              "<table border=\"1\" class=\"dataframe\">\n",
              "  <thead>\n",
              "    <tr style=\"text-align: right;\">\n",
              "      <th></th>\n",
              "      <th>0</th>\n",
              "      <th>1</th>\n",
              "      <th>2</th>\n",
              "      <th>3</th>\n",
              "      <th>4</th>\n",
              "      <th>5</th>\n",
              "      <th>6</th>\n",
              "      <th>7</th>\n",
              "      <th>8</th>\n",
              "      <th>9</th>\n",
              "      <th>...</th>\n",
              "      <th>140</th>\n",
              "      <th>141</th>\n",
              "      <th>142</th>\n",
              "      <th>143</th>\n",
              "      <th>144</th>\n",
              "      <th>145</th>\n",
              "      <th>146</th>\n",
              "      <th>147</th>\n",
              "      <th>148</th>\n",
              "      <th>149</th>\n",
              "    </tr>\n",
              "  </thead>\n",
              "  <tbody>\n",
              "    <tr>\n",
              "      <th>0</th>\n",
              "      <td>1.0</td>\n",
              "      <td>1.0</td>\n",
              "      <td>1.0</td>\n",
              "      <td>1.0</td>\n",
              "      <td>1.0</td>\n",
              "      <td>1.0</td>\n",
              "      <td>1.0</td>\n",
              "      <td>1.0</td>\n",
              "      <td>1.0</td>\n",
              "      <td>1.0</td>\n",
              "      <td>...</td>\n",
              "      <td>1.0</td>\n",
              "      <td>1.0</td>\n",
              "      <td>1.0</td>\n",
              "      <td>1.0</td>\n",
              "      <td>1.0</td>\n",
              "      <td>1.0</td>\n",
              "      <td>1.0</td>\n",
              "      <td>1.0</td>\n",
              "      <td>1.0</td>\n",
              "      <td>1.0</td>\n",
              "    </tr>\n",
              "    <tr>\n",
              "      <th>1</th>\n",
              "      <td>1.4</td>\n",
              "      <td>1.4</td>\n",
              "      <td>1.3</td>\n",
              "      <td>1.5</td>\n",
              "      <td>1.4</td>\n",
              "      <td>1.7</td>\n",
              "      <td>1.4</td>\n",
              "      <td>1.5</td>\n",
              "      <td>1.4</td>\n",
              "      <td>1.5</td>\n",
              "      <td>...</td>\n",
              "      <td>5.6</td>\n",
              "      <td>5.1</td>\n",
              "      <td>5.1</td>\n",
              "      <td>5.9</td>\n",
              "      <td>5.7</td>\n",
              "      <td>5.2</td>\n",
              "      <td>5.0</td>\n",
              "      <td>5.2</td>\n",
              "      <td>5.4</td>\n",
              "      <td>5.1</td>\n",
              "    </tr>\n",
              "    <tr>\n",
              "      <th>2</th>\n",
              "      <td>0.2</td>\n",
              "      <td>0.2</td>\n",
              "      <td>0.2</td>\n",
              "      <td>0.2</td>\n",
              "      <td>0.2</td>\n",
              "      <td>0.4</td>\n",
              "      <td>0.3</td>\n",
              "      <td>0.2</td>\n",
              "      <td>0.2</td>\n",
              "      <td>0.1</td>\n",
              "      <td>...</td>\n",
              "      <td>2.4</td>\n",
              "      <td>2.3</td>\n",
              "      <td>1.9</td>\n",
              "      <td>2.3</td>\n",
              "      <td>2.5</td>\n",
              "      <td>2.3</td>\n",
              "      <td>1.9</td>\n",
              "      <td>2.0</td>\n",
              "      <td>2.3</td>\n",
              "      <td>1.8</td>\n",
              "    </tr>\n",
              "    <tr>\n",
              "      <th>3</th>\n",
              "      <td>0.0</td>\n",
              "      <td>0.0</td>\n",
              "      <td>0.0</td>\n",
              "      <td>0.0</td>\n",
              "      <td>0.0</td>\n",
              "      <td>0.0</td>\n",
              "      <td>0.0</td>\n",
              "      <td>0.0</td>\n",
              "      <td>0.0</td>\n",
              "      <td>0.0</td>\n",
              "      <td>...</td>\n",
              "      <td>2.0</td>\n",
              "      <td>2.0</td>\n",
              "      <td>2.0</td>\n",
              "      <td>2.0</td>\n",
              "      <td>2.0</td>\n",
              "      <td>2.0</td>\n",
              "      <td>2.0</td>\n",
              "      <td>2.0</td>\n",
              "      <td>2.0</td>\n",
              "      <td>2.0</td>\n",
              "    </tr>\n",
              "  </tbody>\n",
              "</table>\n",
              "<p>4 rows × 150 columns</p>\n",
              "</div>\n",
              "      <button class=\"colab-df-convert\" onclick=\"convertToInteractive('df-1a7a84e2-8dd8-4c1f-b607-967469600885')\"\n",
              "              title=\"Convert this dataframe to an interactive table.\"\n",
              "              style=\"display:none;\">\n",
              "        \n",
              "  <svg xmlns=\"http://www.w3.org/2000/svg\" height=\"24px\"viewBox=\"0 0 24 24\"\n",
              "       width=\"24px\">\n",
              "    <path d=\"M0 0h24v24H0V0z\" fill=\"none\"/>\n",
              "    <path d=\"M18.56 5.44l.94 2.06.94-2.06 2.06-.94-2.06-.94-.94-2.06-.94 2.06-2.06.94zm-11 1L8.5 8.5l.94-2.06 2.06-.94-2.06-.94L8.5 2.5l-.94 2.06-2.06.94zm10 10l.94 2.06.94-2.06 2.06-.94-2.06-.94-.94-2.06-.94 2.06-2.06.94z\"/><path d=\"M17.41 7.96l-1.37-1.37c-.4-.4-.92-.59-1.43-.59-.52 0-1.04.2-1.43.59L10.3 9.45l-7.72 7.72c-.78.78-.78 2.05 0 2.83L4 21.41c.39.39.9.59 1.41.59.51 0 1.02-.2 1.41-.59l7.78-7.78 2.81-2.81c.8-.78.8-2.07 0-2.86zM5.41 20L4 18.59l7.72-7.72 1.47 1.35L5.41 20z\"/>\n",
              "  </svg>\n",
              "      </button>\n",
              "      \n",
              "  <style>\n",
              "    .colab-df-container {\n",
              "      display:flex;\n",
              "      flex-wrap:wrap;\n",
              "      gap: 12px;\n",
              "    }\n",
              "\n",
              "    .colab-df-convert {\n",
              "      background-color: #E8F0FE;\n",
              "      border: none;\n",
              "      border-radius: 50%;\n",
              "      cursor: pointer;\n",
              "      display: none;\n",
              "      fill: #1967D2;\n",
              "      height: 32px;\n",
              "      padding: 0 0 0 0;\n",
              "      width: 32px;\n",
              "    }\n",
              "\n",
              "    .colab-df-convert:hover {\n",
              "      background-color: #E2EBFA;\n",
              "      box-shadow: 0px 1px 2px rgba(60, 64, 67, 0.3), 0px 1px 3px 1px rgba(60, 64, 67, 0.15);\n",
              "      fill: #174EA6;\n",
              "    }\n",
              "\n",
              "    [theme=dark] .colab-df-convert {\n",
              "      background-color: #3B4455;\n",
              "      fill: #D2E3FC;\n",
              "    }\n",
              "\n",
              "    [theme=dark] .colab-df-convert:hover {\n",
              "      background-color: #434B5C;\n",
              "      box-shadow: 0px 1px 3px 1px rgba(0, 0, 0, 0.15);\n",
              "      filter: drop-shadow(0px 1px 2px rgba(0, 0, 0, 0.3));\n",
              "      fill: #FFFFFF;\n",
              "    }\n",
              "  </style>\n",
              "\n",
              "      <script>\n",
              "        const buttonEl =\n",
              "          document.querySelector('#df-1a7a84e2-8dd8-4c1f-b607-967469600885 button.colab-df-convert');\n",
              "        buttonEl.style.display =\n",
              "          google.colab.kernel.accessAllowed ? 'block' : 'none';\n",
              "\n",
              "        async function convertToInteractive(key) {\n",
              "          const element = document.querySelector('#df-1a7a84e2-8dd8-4c1f-b607-967469600885');\n",
              "          const dataTable =\n",
              "            await google.colab.kernel.invokeFunction('convertToInteractive',\n",
              "                                                     [key], {});\n",
              "          if (!dataTable) return;\n",
              "\n",
              "          const docLinkHtml = 'Like what you see? Visit the ' +\n",
              "            '<a target=\"_blank\" href=https://colab.research.google.com/notebooks/data_table.ipynb>data table notebook</a>'\n",
              "            + ' to learn more about interactive tables.';\n",
              "          element.innerHTML = '';\n",
              "          dataTable['output_type'] = 'display_data';\n",
              "          await google.colab.output.renderOutput(dataTable, element);\n",
              "          const docLink = document.createElement('div');\n",
              "          docLink.innerHTML = docLinkHtml;\n",
              "          element.appendChild(docLink);\n",
              "        }\n",
              "      </script>\n",
              "    </div>\n",
              "  </div>\n",
              "  "
            ]
          },
          "metadata": {},
          "execution_count": 18
        }
      ]
    },
    {
      "cell_type": "code",
      "source": [
        "number_of_points = len(X)\n",
        "number_of_points"
      ],
      "metadata": {
        "colab": {
          "base_uri": "https://localhost:8080/"
        },
        "id": "lz5-4NqQAWAE",
        "outputId": "958431ec-67bd-4526-b7af-fd462c54b45d"
      },
      "execution_count": null,
      "outputs": [
        {
          "output_type": "execute_result",
          "data": {
            "text/plain": [
              "150"
            ]
          },
          "metadata": {},
          "execution_count": 23
        }
      ]
    },
    {
      "cell_type": "code",
      "source": [
        "# split sizes\n",
        "test_ratio = 0.2\n",
        "validation_ratio = 0.2\n",
        "total_size = number_of_points # 150 data points\n",
        "\n",
        "test_size = int(total_size * test_ratio)\n",
        "validation_size = int(total_size * validation_ratio)\n",
        "train_size = total_size - (test_size + validation_size)\n",
        "\n",
        "print(\"Training Set Size: \", train_size)\n",
        "print(\"Validation Set Size: \", test_size)\n",
        "print(\"Test Set Size: \", validation_size)"
      ],
      "metadata": {
        "colab": {
          "base_uri": "https://localhost:8080/"
        },
        "id": "66-9ihbHAcmE",
        "outputId": "04115043-37f7-4864-f961-a49aa2a765c3"
      },
      "execution_count": null,
      "outputs": [
        {
          "output_type": "stream",
          "name": "stdout",
          "text": [
            "Training Set Size:  90\n",
            "Validation Set Size:  30\n",
            "Test Set Size:  30\n"
          ]
        }
      ]
    },
    {
      "cell_type": "code",
      "source": [
        "# split and shuffle\n",
        "np.random.seed(42)\n",
        "rnd_indices = np.random.permutation(total_size)\n",
        "\n",
        "X_train = X[rnd_indices[:train_size]]\n",
        "y_train = y[rnd_indices[:train_size]]\n",
        "X_valid = X[rnd_indices[train_size:-test_size]]\n",
        "y_valid = y[rnd_indices[train_size:-test_size]]\n",
        "X_test = X[rnd_indices[-test_size:]]\n",
        "y_test = y[rnd_indices[-test_size:]]"
      ],
      "metadata": {
        "id": "cuFE7pPaTwg7"
      },
      "execution_count": null,
      "outputs": []
    },
    {
      "cell_type": "code",
      "source": [
        "X_train"
      ],
      "metadata": {
        "colab": {
          "base_uri": "https://localhost:8080/"
        },
        "id": "EraCbuLVSHTw",
        "outputId": "7ad62da1-7a3e-4194-d641-f307f59753fb"
      },
      "execution_count": null,
      "outputs": [
        {
          "output_type": "execute_result",
          "data": {
            "text/plain": [
              "array([[1. , 4.7, 1.2],\n",
              "       [1. , 1.7, 0.3],\n",
              "       [1. , 6.9, 2.3],\n",
              "       [1. , 4.5, 1.5],\n",
              "       [1. , 4.8, 1.4],\n",
              "       [1. , 1.5, 0.4],\n",
              "       [1. , 3.6, 1.3],\n",
              "       [1. , 5.1, 2.3],\n",
              "       [1. , 4.5, 1.5],\n",
              "       [1. , 3.9, 1.2],\n",
              "       [1. , 5.1, 2. ],\n",
              "       [1. , 1.4, 0.1],\n",
              "       [1. , 1.3, 0.2],\n",
              "       [1. , 1.5, 0.1],\n",
              "       [1. , 1.5, 0.3],\n",
              "       [1. , 4.7, 1.6],\n",
              "       [1. , 5.8, 2.2],\n",
              "       [1. , 3.9, 1.1],\n",
              "       [1. , 4.5, 1.3],\n",
              "       [1. , 5.6, 2.2],\n",
              "       [1. , 1.6, 0.2],\n",
              "       [1. , 4.9, 1.8],\n",
              "       [1. , 1.6, 0.4],\n",
              "       [1. , 5.6, 2.1],\n",
              "       [1. , 6.4, 2. ],\n",
              "       [1. , 5.2, 2.3],\n",
              "       [1. , 5.8, 1.8],\n",
              "       [1. , 5.9, 2.3],\n",
              "       [1. , 1.4, 0.3],\n",
              "       [1. , 1.6, 0.2],\n",
              "       [1. , 1. , 0.2],\n",
              "       [1. , 1.5, 0.4],\n",
              "       [1. , 4.4, 1.4],\n",
              "       [1. , 1.6, 0.2],\n",
              "       [1. , 1.3, 0.2],\n",
              "       [1. , 5. , 1.9],\n",
              "       [1. , 4.5, 1.5],\n",
              "       [1. , 1.5, 0.2],\n",
              "       [1. , 1.4, 0.2],\n",
              "       [1. , 1.5, 0.1],\n",
              "       [1. , 5.1, 1.9],\n",
              "       [1. , 4.5, 1.6],\n",
              "       [1. , 4.7, 1.5],\n",
              "       [1. , 1.3, 0.4],\n",
              "       [1. , 1.5, 0.2],\n",
              "       [1. , 3.7, 1. ],\n",
              "       [1. , 5.1, 1.5],\n",
              "       [1. , 5.5, 1.8],\n",
              "       [1. , 4.4, 1.4],\n",
              "       [1. , 6.1, 2.5],\n",
              "       [1. , 4.2, 1.3],\n",
              "       [1. , 6.6, 2.1],\n",
              "       [1. , 4.5, 1.5],\n",
              "       [1. , 1.4, 0.2],\n",
              "       [1. , 6.7, 2. ],\n",
              "       [1. , 4.1, 1. ],\n",
              "       [1. , 1.4, 0.2],\n",
              "       [1. , 1.3, 0.3],\n",
              "       [1. , 1.9, 0.4],\n",
              "       [1. , 3.5, 1. ],\n",
              "       [1. , 4.9, 1.8],\n",
              "       [1. , 1.9, 0.2],\n",
              "       [1. , 1.6, 0.2],\n",
              "       [1. , 1.7, 0.5],\n",
              "       [1. , 4.2, 1.3],\n",
              "       [1. , 1.5, 0.2],\n",
              "       [1. , 4.2, 1.2],\n",
              "       [1. , 6.7, 2.2],\n",
              "       [1. , 1.4, 0.2],\n",
              "       [1. , 4.3, 1.3],\n",
              "       [1. , 5. , 2. ],\n",
              "       [1. , 1.4, 0.2],\n",
              "       [1. , 4.8, 1.8],\n",
              "       [1. , 5.1, 1.9],\n",
              "       [1. , 4. , 1. ],\n",
              "       [1. , 4.5, 1.5],\n",
              "       [1. , 5.4, 2.3],\n",
              "       [1. , 4. , 1.3],\n",
              "       [1. , 1.7, 0.4],\n",
              "       [1. , 3.3, 1. ],\n",
              "       [1. , 5.3, 1.9],\n",
              "       [1. , 1.4, 0.2],\n",
              "       [1. , 1.2, 0.2],\n",
              "       [1. , 3.8, 1.1],\n",
              "       [1. , 5. , 1.7],\n",
              "       [1. , 1.5, 0.2],\n",
              "       [1. , 5.1, 2.4],\n",
              "       [1. , 1.5, 0.2],\n",
              "       [1. , 1.6, 0.6],\n",
              "       [1. , 4.8, 1.8]])"
            ]
          },
          "metadata": {},
          "execution_count": 26
        }
      ]
    },
    {
      "cell_type": "code",
      "source": [
        "y_train"
      ],
      "metadata": {
        "colab": {
          "base_uri": "https://localhost:8080/"
        },
        "id": "GesmbBYpeluc",
        "outputId": "1798ccec-1f3d-4cf5-952c-699d9dce4265"
      },
      "execution_count": null,
      "outputs": [
        {
          "output_type": "execute_result",
          "data": {
            "text/plain": [
              "array([1, 0, 2, 1, 1, 0, 1, 2, 1, 1, 2, 0, 0, 0, 0, 1, 2, 1, 1, 2, 0, 2,\n",
              "       0, 2, 2, 2, 2, 2, 0, 0, 0, 0, 1, 0, 0, 2, 1, 0, 0, 0, 2, 1, 1, 0,\n",
              "       0, 1, 2, 2, 1, 2, 1, 2, 1, 0, 2, 1, 0, 0, 0, 1, 2, 0, 0, 0, 1, 0,\n",
              "       1, 2, 0, 1, 2, 0, 2, 2, 1, 1, 2, 1, 0, 1, 2, 0, 0, 1, 1, 0, 2, 0,\n",
              "       0, 1])"
            ]
          },
          "metadata": {},
          "execution_count": 27
        }
      ]
    },
    {
      "cell_type": "code",
      "source": [
        "# labels to categorical\n",
        "def to_categorical(y) : \n",
        "  y_copy = []\n",
        "  for label in y : \n",
        "    a = [0, 0, 0]\n",
        "    if label == 0 : \n",
        "      a[0] = 1\n",
        "    elif label == 1 :\n",
        "      a[1] = 1\n",
        "    elif label == 2 :\n",
        "      a[2] = 1\n",
        "    \n",
        "    y_copy.append(a)\n",
        "\n",
        "  y_one_hot = np.array(y_copy)\n",
        "  return y_one_hot"
      ],
      "metadata": {
        "id": "KDwNYLt-Ku01"
      },
      "execution_count": null,
      "outputs": []
    },
    {
      "cell_type": "code",
      "source": [
        "y_train = to_categorical(y_train)\n",
        "y_train"
      ],
      "metadata": {
        "colab": {
          "base_uri": "https://localhost:8080/"
        },
        "id": "uvLA64DfOZFH",
        "outputId": "5385570e-ed42-4d5d-aef9-87f06636b979"
      },
      "execution_count": null,
      "outputs": [
        {
          "output_type": "execute_result",
          "data": {
            "text/plain": [
              "array([[0, 1, 0],\n",
              "       [1, 0, 0],\n",
              "       [0, 0, 1],\n",
              "       [0, 1, 0],\n",
              "       [0, 1, 0],\n",
              "       [1, 0, 0],\n",
              "       [0, 1, 0],\n",
              "       [0, 0, 1],\n",
              "       [0, 1, 0],\n",
              "       [0, 1, 0],\n",
              "       [0, 0, 1],\n",
              "       [1, 0, 0],\n",
              "       [1, 0, 0],\n",
              "       [1, 0, 0],\n",
              "       [1, 0, 0],\n",
              "       [0, 1, 0],\n",
              "       [0, 0, 1],\n",
              "       [0, 1, 0],\n",
              "       [0, 1, 0],\n",
              "       [0, 0, 1],\n",
              "       [1, 0, 0],\n",
              "       [0, 0, 1],\n",
              "       [1, 0, 0],\n",
              "       [0, 0, 1],\n",
              "       [0, 0, 1],\n",
              "       [0, 0, 1],\n",
              "       [0, 0, 1],\n",
              "       [0, 0, 1],\n",
              "       [1, 0, 0],\n",
              "       [1, 0, 0],\n",
              "       [1, 0, 0],\n",
              "       [1, 0, 0],\n",
              "       [0, 1, 0],\n",
              "       [1, 0, 0],\n",
              "       [1, 0, 0],\n",
              "       [0, 0, 1],\n",
              "       [0, 1, 0],\n",
              "       [1, 0, 0],\n",
              "       [1, 0, 0],\n",
              "       [1, 0, 0],\n",
              "       [0, 0, 1],\n",
              "       [0, 1, 0],\n",
              "       [0, 1, 0],\n",
              "       [1, 0, 0],\n",
              "       [1, 0, 0],\n",
              "       [0, 1, 0],\n",
              "       [0, 0, 1],\n",
              "       [0, 0, 1],\n",
              "       [0, 1, 0],\n",
              "       [0, 0, 1],\n",
              "       [0, 1, 0],\n",
              "       [0, 0, 1],\n",
              "       [0, 1, 0],\n",
              "       [1, 0, 0],\n",
              "       [0, 0, 1],\n",
              "       [0, 1, 0],\n",
              "       [1, 0, 0],\n",
              "       [1, 0, 0],\n",
              "       [1, 0, 0],\n",
              "       [0, 1, 0],\n",
              "       [0, 0, 1],\n",
              "       [1, 0, 0],\n",
              "       [1, 0, 0],\n",
              "       [1, 0, 0],\n",
              "       [0, 1, 0],\n",
              "       [1, 0, 0],\n",
              "       [0, 1, 0],\n",
              "       [0, 0, 1],\n",
              "       [1, 0, 0],\n",
              "       [0, 1, 0],\n",
              "       [0, 0, 1],\n",
              "       [1, 0, 0],\n",
              "       [0, 0, 1],\n",
              "       [0, 0, 1],\n",
              "       [0, 1, 0],\n",
              "       [0, 1, 0],\n",
              "       [0, 0, 1],\n",
              "       [0, 1, 0],\n",
              "       [1, 0, 0],\n",
              "       [0, 1, 0],\n",
              "       [0, 0, 1],\n",
              "       [1, 0, 0],\n",
              "       [1, 0, 0],\n",
              "       [0, 1, 0],\n",
              "       [0, 1, 0],\n",
              "       [1, 0, 0],\n",
              "       [0, 0, 1],\n",
              "       [1, 0, 0],\n",
              "       [1, 0, 0],\n",
              "       [0, 1, 0]])"
            ]
          },
          "metadata": {},
          "execution_count": 29
        }
      ]
    },
    {
      "cell_type": "code",
      "source": [
        "y_valid = to_categorical(y_valid)\n",
        "y_test = to_categorical(y_test)"
      ],
      "metadata": {
        "id": "5qZ25xJxfC3d"
      },
      "execution_count": null,
      "outputs": []
    },
    {
      "cell_type": "code",
      "source": [
        "y_valid"
      ],
      "metadata": {
        "colab": {
          "base_uri": "https://localhost:8080/"
        },
        "id": "qmdaNyqzhVJ7",
        "outputId": "f2cbbd7c-5f33-4eb4-fd5f-15107f8db93f"
      },
      "execution_count": null,
      "outputs": [
        {
          "output_type": "execute_result",
          "data": {
            "text/plain": [
              "array([[0, 1, 0],\n",
              "       [0, 0, 1],\n",
              "       [0, 1, 0],\n",
              "       [0, 0, 1],\n",
              "       [0, 0, 1],\n",
              "       [0, 1, 0],\n",
              "       [1, 0, 0],\n",
              "       [1, 0, 0],\n",
              "       [0, 0, 1],\n",
              "       [0, 0, 1],\n",
              "       [1, 0, 0],\n",
              "       [1, 0, 0],\n",
              "       [1, 0, 0],\n",
              "       [0, 1, 0],\n",
              "       [0, 0, 1],\n",
              "       [1, 0, 0],\n",
              "       [0, 0, 1],\n",
              "       [0, 0, 1],\n",
              "       [1, 0, 0],\n",
              "       [0, 1, 0],\n",
              "       [0, 1, 0],\n",
              "       [0, 0, 1],\n",
              "       [0, 1, 0],\n",
              "       [0, 0, 1],\n",
              "       [1, 0, 0],\n",
              "       [0, 0, 1],\n",
              "       [0, 1, 0],\n",
              "       [0, 0, 1],\n",
              "       [0, 1, 0],\n",
              "       [0, 1, 0]])"
            ]
          },
          "metadata": {},
          "execution_count": 31
        }
      ]
    },
    {
      "cell_type": "code",
      "source": [
        "X_train"
      ],
      "metadata": {
        "colab": {
          "base_uri": "https://localhost:8080/"
        },
        "id": "FknWPBry8wTY",
        "outputId": "01aec20b-cae5-4f7f-886b-abdda6074df1"
      },
      "execution_count": null,
      "outputs": [
        {
          "output_type": "execute_result",
          "data": {
            "text/plain": [
              "array([[1. , 4.7, 1.2],\n",
              "       [1. , 1.7, 0.3],\n",
              "       [1. , 6.9, 2.3],\n",
              "       [1. , 4.5, 1.5],\n",
              "       [1. , 4.8, 1.4],\n",
              "       [1. , 1.5, 0.4],\n",
              "       [1. , 3.6, 1.3],\n",
              "       [1. , 5.1, 2.3],\n",
              "       [1. , 4.5, 1.5],\n",
              "       [1. , 3.9, 1.2],\n",
              "       [1. , 5.1, 2. ],\n",
              "       [1. , 1.4, 0.1],\n",
              "       [1. , 1.3, 0.2],\n",
              "       [1. , 1.5, 0.1],\n",
              "       [1. , 1.5, 0.3],\n",
              "       [1. , 4.7, 1.6],\n",
              "       [1. , 5.8, 2.2],\n",
              "       [1. , 3.9, 1.1],\n",
              "       [1. , 4.5, 1.3],\n",
              "       [1. , 5.6, 2.2],\n",
              "       [1. , 1.6, 0.2],\n",
              "       [1. , 4.9, 1.8],\n",
              "       [1. , 1.6, 0.4],\n",
              "       [1. , 5.6, 2.1],\n",
              "       [1. , 6.4, 2. ],\n",
              "       [1. , 5.2, 2.3],\n",
              "       [1. , 5.8, 1.8],\n",
              "       [1. , 5.9, 2.3],\n",
              "       [1. , 1.4, 0.3],\n",
              "       [1. , 1.6, 0.2],\n",
              "       [1. , 1. , 0.2],\n",
              "       [1. , 1.5, 0.4],\n",
              "       [1. , 4.4, 1.4],\n",
              "       [1. , 1.6, 0.2],\n",
              "       [1. , 1.3, 0.2],\n",
              "       [1. , 5. , 1.9],\n",
              "       [1. , 4.5, 1.5],\n",
              "       [1. , 1.5, 0.2],\n",
              "       [1. , 1.4, 0.2],\n",
              "       [1. , 1.5, 0.1],\n",
              "       [1. , 5.1, 1.9],\n",
              "       [1. , 4.5, 1.6],\n",
              "       [1. , 4.7, 1.5],\n",
              "       [1. , 1.3, 0.4],\n",
              "       [1. , 1.5, 0.2],\n",
              "       [1. , 3.7, 1. ],\n",
              "       [1. , 5.1, 1.5],\n",
              "       [1. , 5.5, 1.8],\n",
              "       [1. , 4.4, 1.4],\n",
              "       [1. , 6.1, 2.5],\n",
              "       [1. , 4.2, 1.3],\n",
              "       [1. , 6.6, 2.1],\n",
              "       [1. , 4.5, 1.5],\n",
              "       [1. , 1.4, 0.2],\n",
              "       [1. , 6.7, 2. ],\n",
              "       [1. , 4.1, 1. ],\n",
              "       [1. , 1.4, 0.2],\n",
              "       [1. , 1.3, 0.3],\n",
              "       [1. , 1.9, 0.4],\n",
              "       [1. , 3.5, 1. ],\n",
              "       [1. , 4.9, 1.8],\n",
              "       [1. , 1.9, 0.2],\n",
              "       [1. , 1.6, 0.2],\n",
              "       [1. , 1.7, 0.5],\n",
              "       [1. , 4.2, 1.3],\n",
              "       [1. , 1.5, 0.2],\n",
              "       [1. , 4.2, 1.2],\n",
              "       [1. , 6.7, 2.2],\n",
              "       [1. , 1.4, 0.2],\n",
              "       [1. , 4.3, 1.3],\n",
              "       [1. , 5. , 2. ],\n",
              "       [1. , 1.4, 0.2],\n",
              "       [1. , 4.8, 1.8],\n",
              "       [1. , 5.1, 1.9],\n",
              "       [1. , 4. , 1. ],\n",
              "       [1. , 4.5, 1.5],\n",
              "       [1. , 5.4, 2.3],\n",
              "       [1. , 4. , 1.3],\n",
              "       [1. , 1.7, 0.4],\n",
              "       [1. , 3.3, 1. ],\n",
              "       [1. , 5.3, 1.9],\n",
              "       [1. , 1.4, 0.2],\n",
              "       [1. , 1.2, 0.2],\n",
              "       [1. , 3.8, 1.1],\n",
              "       [1. , 5. , 1.7],\n",
              "       [1. , 1.5, 0.2],\n",
              "       [1. , 5.1, 2.4],\n",
              "       [1. , 1.5, 0.2],\n",
              "       [1. , 1.6, 0.6],\n",
              "       [1. , 4.8, 1.8]])"
            ]
          },
          "metadata": {},
          "execution_count": 32
        }
      ]
    },
    {
      "cell_type": "markdown",
      "source": [
        "![image.png](data:image/png;base64,iVBORw0KGgoAAAANSUhEUgAAAcgAAACyCAYAAADGb1/5AAAAAXNSR0IArs4c6QAAAARnQU1BAACxjwv8YQUAAAAJcEhZcwAADsMAAA7DAcdvqGQAABxASURBVHhe7d15lNV1/cfxD1kiiygom6CIC6mIhiDJkuASgikiJBhlgVli2jmezI7hUSnb64+yo7YIRli5ZLmwZiiggMgqmqaIECACySYuBZY/nu8z3/ldpu8Mg84M473Pxzn3zDDcGfFe+L6+78/y/jTYtv2Nd5MkSdrNh8o+SpKkAgakJEk5DEhJknIYkJIk5TAgJUnKYUBKkpTDgJQkKYcBKUlSDgNSkqQcuZ10mjVtUvaZJEmlyQpSkqQcBqQkSTkMSEmSchiQkiTlMCAlScphQEqSlMOAlCQphwEpSVIOA1KSpBwGpCRJOQxISZJyGJCSJOUwICVJymFASpKUw4CUJCmHASlJUg4DUpKkHAakJEk5DEhJknIYkJIk5TAgJUnKYUBKkpTDgJQkKYcBKUlSDgNSkqQcBqQkSTkMSEmSchiQkiTlMCAlScphQEqSlMOAlCQphwEpSVIOA1KSpBwGpCRJOQxISZJyGJCSJOUwICVJymFASpKUw4CUJCmHASlJUg4DUpKkHAakJEk5DEhJknIYkJIk5TAgJUnKYUBKkpTDgJQkKUeDbdvfeLfs83LNmjYp+0wqbf/973/T9u3b0z//+c+0devW9K9//Sv95z//SY0bN04tW7ZMhxxySGratGlq0KBB+fPffPPNtHHjxvTaa6+lHTt2pP322y8ddNBBqVWrVunQQw8tf67eO96T9evXx/vyoQ99KB1zzDHp4IMPTh/+8IfLnlG5d999N96Xt99+O73zzjvx3vB9vi+qyICUcnAR/fe//x0X4GeffTYtWLAg/f3vf4/Q27lzZ2rTpk065ZRT0sc//vF0/PHHR/DxPfz+c889l+bMmZMWLVqUtm3blho1ahQX8N69e6e+ffum5s2bp4985CNl/yXtLW5QeD+mT58eHwm30aNHpx49eqQWLVqUPatyhOvq1avTyy+/HDcz3bp1S+3atYubHqmQASnloFJ88cUX0+23356mTp2aNmzYEBdmQhBUG4Rcly5d0ogRI+ICTUVy1113xWPJkiXx/AxV5GGHHZa+8IUvpFGjRqX27dtH5aO9w+u/efPmdMMNN6T77rsvqnoC8pJLLon3gJuWPXnkkUfSnXfemSZNmhS//vSnPx3fS1DyPkmZ/b45ZszYss/LNdx//7LPpNJD0D3xxBPplltuiSqFim/gwIERbATc2WefHc+hWnz11VfjQVhOnjw5Pfzww2nTpk2pX79+6brrrksXXXRROvzww9Prr7+eVq5cmV566aV04oknRgVqxbL3CMinn346Pfjgg+lvf/tb+U0IlXn37t1jGLsq3Pjcfffd5Tc9DLG2bt06RgKOOOIIb1q0G/82SAW4YM6bNy/de++96amnnkrHHXdc+uIXv5guvfTSdOGFF6YBAwakQYMGRcXC773xxhsxpDpu3LioaLZs2ZL69OmTvvzlL8dzCU7myghNhmwZ2uMCz9Ct9h5zvM8//3zM8WbhSKh17Ngx5hKrQrjyPixfvjytW7cufs1IAPPIDIMbjqrIvxFSgX/84x9pypQpEZJt27aNqnH48OFRYfBrFuRQpZxxxhlxUeaiyjzWk08+mVasWJE++tGPpsGDB6devXrFXCWVysyZM9PatWvj53NR5uLO92jv8NrxmnJDwjAreP0Jt6OOOio1a9YsvlYZwpV5Ryp+RgDA93fq1CnmLl2ko4oMSGkXLr5Uj48++mh6/PHHY15r6NChadiwYTEcWnFuiqA84IADyqsOvp+vUT327NkzqhvmMBmqfeWVV+I54CLM8/Z3GmOvZSuEX3jhhajUwevIjQvzu3sasuY9eeaZZ6KKRDaPzE0Nw+hSRQaktAsXTy66f/7zn6OKZMHGxRdfnBo2bJhbWTCnyMWaUM2wmjXbbsDXuRBT8WT4OQQtc5B7mivT/+I15T1iLpeVqCAUO3fuHNVjVUOkWfXJSuQsXLPtN1SfBx54YHxNKmRASrsQdlR7hCOLarp27VrlnkWexwrKQgzVEXxceBn2IzCPPvrouHjzNSrRkSNHplNPPdWK5T3gPVq6dGnM+1JNokmTJhGQBGVVAcnzGVYtrD75HuaRCceKIwQSDEhpl2z4jpWMzB+edNJJVe5VZL4xmwfLEIisiMyG7tjK8aUvfSldc8016Rvf+EasamWxD/+Nqn723qKy4uJPcOyrB68dVTiVWm2haiQgs/lDEJAf+9jH4oakKjQGYKibR/b9WUAy5F1VuKp0uQ9S2uWtt96K+Sm2DhBg2VaMiggAwvRb3/pWbBdgRSQXV+YjJ06cmM4888wYYs2wrYBKk/CgkuSCXtMXY/7crOzM5tbqGq8J/18nnHBCeTVX03jNeW+uv/76WPREWDJPTDX+m9/8JnXo0CGGwyvDlhz2P3Kjki2YYmiVmxeG0qvTYEClx4CUCmQVUGVDq9lQHZUhF1wuvFyYCVUaBDA0W5PV4Z7w5/3pT3+afve738Xqzn2FmwkaJlx11VW5NxbvFxUgK4XZcsNWGX7N/CF7UidMmLDHbRqrVq1Kt912WzQI4D3j/WWUgL2u7J+sjVDXB58BKe0FFnpQqbGVY+HChVEZUjGeddZZ6bvf/W469thj63y47o477kjTpk2LedHKgr22MffKPlEetVGN0bKPGxKqPV5zUAHSiOHmm2+uspcqz6dd4JgxY9Ls2bNjSJibGFr/sXeV+WDnIJXHgJT2AqtX2SN59dVXx4IPKji2GVx++eXpsssui56edY1GBCw8oRHBvsJ2Czbc8yCsahodiBjSpsVcht6rvOY8qrox4KaG94wuSMxB8msazX/qU59Kt956627bdaRCBqS0F2hPNn78+BiuK5zLYpjzE5/4xG7zj6oZ3IQQcL/85S/Tb3/727Kvpgi4a6+9NtrMVYXFVFTYDM9yE8HPY+/jZz7zmZjTpHrcV5W36jdvm6RqYv6R4TlaxbGoB1RLhCIrWKtaScn3stq0tld6FiNeO1rzsXI4wxApK4bpZrQnzDlSgbJgKnvtqXS5scnCka/z3mTDtxIMSKkMF0kWf7BCkjkvFuMUhhkXT1akspqycKsAXVy4WFe2OIchvewiTQ9Q/huGZPVR9TGMzEKbDCuCWQzEUGlVeJ1p7UdXowyByPfR1CGrHHlfWfzDf6MwSFXaDEhpFy6IBCALXWbNmhWneFApFlZ82fmQbO3gIgqqRyoR5uAqG6bje+jQw7wlqyaZB6MqUvVQtXNjQQ/VDDckBOSeVgzz/hGQ9GDNMN/I99PEAby/jz32WGzduemmm6Lbzr6cz1X9YUBKu1BB/PGPf4x9cWzov/HGG9PYsWPL99whOzyZodIsNNlqcOSRR8aFurKAZGhw/vz5EawsCCFMXRRSfVR1a9as2e2mgu431emAw3vFvHFhQBKOVP3s3QQVPe8rp7cwr7yntnUqHf4tUMnjAknlyB45GpWzn5AVqlw0OfiYLjEEIhdaNuUXXqgJSDapVxaOVCJUojwIRk4F4cJe2fO1O153hj6zBVEZbkiquinJcHNCE4WsvRxYdcxqY/av8vNZxMPwNzdJzE0yKuC2D8GAVMljCI8L6Zw5c2IbR1YdEoTZfCFBRxVD0BWiTVllHXcY3iNQ2eDOxbdLly7RBN1N6dWXDXszxFqIyrCwkq+Ir1Pxz5gxIypD3scMAcl7RgjyHnMzxHvLjQudgPhoBSn4t0AljxWpVIfMK2bVIdUeCzloOcewKPNfLM5hsQcXz6xy4SLLcwsVBuo999yTFi9eHBflc889NzbU18Y+wWLFYigqSBbpFMoWUuXNFRKq3PTQfP6BBx6IUYBCNDLItuPw/Ywa8P4zVE7ruupUpioNBqRKHhfEbD4qw4keAwcOTP3794+Kj0qEhTtUIoXNrakMOX6pEJUNVc/PfvazaAHHRZ4Dlum+k20r0J5xo8Hry6Kmio3hCU0qP6rEQnwP4bho0aLYm0pzc75W+JoToDx4n/i5LNBh5ICbIc7ylDL7fXPMmLFln5drWOGOWCpmhBaVBBUH840cc8WJHoQagUgHF1qScaFmiPSKK64on7Pi+Vk/VipRFuJMmTIl5jOnTp0aeyMvueSSNHz48Jj3cuiu+gg2Fjf95S9/2W2LBwg4qkgCkoqcUGSekuFs3q9f/epXUcHTq5WqkOdTJYIbIm56+B4aD9B+7pRTTkkXXHBB9Gd1/lEZO+mo5DGsyhAqp0JwIgeBxxxVtpGcMOQ5XESHDBkSH3neQw89FFUMQ6ycZMHQHYHKhZhFIfyM888/Pw0YMCCOVWKoVtXH/tHbb789es0ylwsqQRZFcXPC77Milf63VPW8R7zu/B43LNzgcLoKNylz585N48aNi6AlHBlOZUEOq1t53ziG7Lzzzoum81LGClIlj4suF1SW/nORpSIh6Bh+Y+iNirJPnz5RYdCUnF8Tfizm4OLL85kP4/kMp9L8mhAdNGhQPNhvx89X9WXzuFSDLIzifaD65jWnRRyt4nidee9oHk8lSUXI+8HNCMPjQ4cOjYVRnMtJkPIeMJTOjQrhys/n93iPuImhK4/D3ypkBSkVoAJhWwCrWgk9qkMqlE6dOsUCG4bnMtkCEraDMPzKnBbbPrjQ0nqORT7OOb43DInyXnzuc5+L6o/hVIKNqv73v/99LHritWfRFAt4eD6vPb9PQBKI3Lhkrz03PgQi7y3D4NmwON10OHDZvY/KY0BKFXAxpYLJcJHNHhXxvOyRqer5qh5WFLPQieOz6GzD68tQKBX8D37wgxgi5fXlvSq0p9e+4vvF8wxGVca/GVIFXDCp/LIHv67sgptdYKv7fFUPi59YgZo1aQDDo6w05WP2Ghe+7tV57Su+X3wuVca/HZLqHYJx2bJl5T1vQTAyHFrVqSlSTTIgJdUrDJsy50hjhiwgmU9kUQ7ziy54Ul0xICXVKyy4YYFU4akaVI+sMuZRuFBKqk0GpKR6hVBk2wYribMeqmytYSUxK1md31VdMSAl1SvZ4dJUktkCHQKS7TYsrDEgVVcMSEn1Chv/qR6zcAT7GtlbajiqLhmQkuoVuubQ+i+THUrNQ6pLBqSkeoUVqyzK4Ugq+qV27do1tnfwuVSX7KQjqV5hDpJTPDhpg+qRczQ5XYVWf1JdMiDrAHMprMyjbyQPLgCcPkBDa04P4G654twKCxRYqMBZdewL4yLBGYUsUpCKGT1taTzOvxOqSUKSJuV8LtUlA7KW0RGEA3U5I5DWWZxZx7mBbHYmHDlih5MiCL/Ctlc0Yn744YfjwF1Og/j617+eOnfu7EVCkuqIx13VIsKRkx7uueee9Ic//CGGjTh/jgUIBCXVJCcWEIzMt/Dgc75G5finP/0pNkv369cv9ejRI5o1u4pPkuqGFWQtYViUVlkE42233RYr8wqXrRdiqJVTCzhcl+EkQpX5FwKV8+x++MMfxjE+NdGDkj8X7bv4s1T256lrbP62MpZU3xiQtYQ5lFtvvTVOROfYnj2hemQjNAfBLl68OIZYTz755DRmzJj0yU9+skbaaxGIDO9yCj5nGTLPuS9RDfPgNH5uDJxflVSfGJC1ZPbs2ennP/95mjZtWlz8+/btG0HAUnWCiVZaq1ativlJPrIggbCgmmJolmN9Lr744jRq1Kjyk9Pfrw0bNsTQ7Y9+9KPyKrI+4FDcIUOGxEZwSaovDMgaRugQgFSPEydOjEpt2LBhcdBrmzZtUuPGjWOYkxDcunVrBCPBtWTJkjR16tQITE45HzFiRLrooovi9IKaOrNu8+bN6cknn4yA5L9fEwFZGNx5IZ59rbLnUTV+/vOfT/3793cjuKR6xYCsYVlA3nvvvWnhwoXRQ3Lo0KERenlDiDt37oy2Wg899FC68847I7ioHAlVNkfX5NwcW03Wr18fVSSfv9+A3FP4Zap6HuHPAqQOHTrEdhdJqi8MyFrCSlTCj+0czZo1yw0OKkmqx0mTJqX77rsvPffcc2ngwIHpqquuiuHY2jjWJwvwvD/P3qqJn8Gfh5CsiZ9VFf6fuSlgj530XnCzyr9n58pLhwG5jxAMXLDHjRuXJkyYkF555ZU0YMCA9P3vfz/mKf1HWLMYzmaLzcaNG8u+IlUfN3D8u2RPMmsCVBoMyH2AaoYLNVs5GIqlqjn77LPTZZddFkOx3KnWdkVVapjj/cUvfhHDy9Le4oaVqYArr7wyPqo0GJB1jGFXGgQ8+OCD0UBg//33T+ecc04aPHhwbOvwtPTaMW/evPS9730vhrOlvUVAshL9xhtvjI8qDQZkHWJIleYBXKQfeOCBqCRpEHDBBRdEQwA3y9ceXve77rorzZ07t+wrUvURkNzAjhw5Mj6qNBiQdYD5RipH2sbRWWfy5MmxQIf9f2zlYHuDc461i0VTNEhgFa+0t5jyYEU6jTz4qNJgQNYBwnHdunXp5ptvjsYB/AO7/PLLIyDZ2lBT+xyri3CuL3Oc3DzwZ3HOVVJ9Y0DWMlq7UTn+5Cc/iU36bPynamQ7R8uWLSutHAmOmg4PgpoKipNF2G/JEO++xv8bTQJYHeg+SEn1iQFZi2hQvmDBgjiyasaMGal79+6xGIfTOdq1a1dp5UiQseqS8yBZUs7zaUH3foOS9naPP/54dNIhuKkk9zX+n+ikwzxsp06dyr4qSfueAVlLtm/fHgtC7r///ghHtm/QV/X0009Pbdu2rTLs6M1KmzoqzpNOOildd911cWDs+x2K3bRpU/xMGqjXRCed94vXgAd9WKkiObFEkuoLA7KGETo7duyIynH8+PFp1qxZcTDyV77ylVgezrBqZeFIRUdlxxaQX//61xGUtKm76aabIiCrCtXq4OcT3JwWQpVaHwKS0OcmwOYIkuobA7KGEY4cb3X99denJ554Ik6ouPrqq1Pv3r1jjo19jlnlVIiworH50qVL07e//e2oPvnea6+9NoYf3R8pSXXLgKxBhCPtzL7zne+kmTNnxpwflV/Hjh3T4YcfHpUkw4ic+8iiFE73oILilA2aBxCoLKBZvnx59HwkGMeOHZtat25d5ytdJanUGZA1hBWhhBz7HBla5RgrwpGzIBnaZMFO06ZN42BkFt60aNEimpiDYVXmB9euXRvDquCQ5EsvvTSdf/75NhCQpH3AgKwBDI/SbJwGAJwDyeccVUV3HOYcmfd76qmn0rJly2LDerZ6NJtz49f8DIZdGUql1yMrO88777xY0CNJqnsGZA3gdH4OO84W5Zx22mlp9OjRqWfPnlEpsueQ7RWc9zh//vwYeq24B5EqkYqSIdgrrrgiKkiGZSVJ+4YBWQMYFv3xj38c+x2ZZ+TUCFZmMqSaoUJkZStbLOjDum3btrLf2fUm7KocWcXZq1evdM0118T3VnaGpCSpbhiQNYDhU07mWLlyZRxbNWLEiAi4igtrqCRZgDNnzpzyRTyEKIt2unXrFg+qxkaNGrnlQZL2MQOyBmzYsCG2drD5PlutWtmqU4ZjCcbVq1fH4hyOu2IYtlWrVlFFuiBHkuoHA1KSpBxurpMkKYcBKUlSDgNSkqQcBqQkSTkMSEmSchiQkiTlMCAlScphQEqSlMOAlCQphwEpSVIOW81JJYoTZt55553oD8xj586dZb/z/3hOdXCO6aGHHlppD2Lpg8iAlEoMocd5pDTX37p1a3rppZfSihUr0muvvVb++8gO8t4TntO6des0fPjw1KRJE0NSRcOAlEoIFeP69evTokWL0vTp09PSpUvjdBkqSH5vb2UBethhh6WRI0fGUW9UklIxMCClEvH666/HWaR//etf0/z58+OINqpGKsnqVIpV4Zi3K6+8Mo0aNSqObpOKgQEpFTkqwy1btkTFOGnSpDR37ty0Zs2ast9NcQYpD4ZGCcu8oVXmGDm7lIO8+b3sOXz9oIMOSieffHL66le/mk477bR04IEHln2X9MFmQEpFjHDcuHFjmjVrVrrlllvSs88+m958880IOw7obt68eTr44INT06ZNIyCpMhly5RDw7du3RxCC5xx33HEx1wh+LgF5wAEHpPbt26cePXqkCy+8MH7tHKSKhQEpFbFNmzalmTNnpq997Wsx97hjx47UsGHD1KFDhzR48OA0YMCAdOyxx0YVCCrIadOmpQkTJqR58+ZFmDZo0CCef8MNN6RBgwZFCBKcfJ0wpPqkkjQYVWz2++aYMWPLPi/XcNfdpaQPtrfeeivNmDEjKsfnn38+qj6GP88444wIzGHDhqWjjjoqwpHQpKok/I488sjUuHHjtHnz5vTyyy/HzyIoTzjhhHT88cfHHCPP5UEwZsOzUrHxb7VUhNjGsWDBgjR58uRYqcoeR0Ksb9++6bOf/Wzq169fatOmTWzLyKo/HswxMpzKXCLzilSJ4PuZt3z11VfLn5s9sudIxcaAlIoQq1MfffTRNHv27JhXxNFHH5369++fTj/99NSyZcsqg43wbNu2bYRnhp/JkK1UKgxIqcgwP7hs2bJYrZoNkVLpMbTas2fPCL494flUk3zMvP322/GQSoUBKRURVpYyHDplypS0fPnyCEtCjjnGc889NxbkFIZeZVjMQxjSQCDDz84eUikwIKUiQjiyTWPhwoWxVQPMM7INg8U3fF4dtKDjUYgFPDycc1SpMCClIkLV9/TTT0c4smUDhGL37t1TixYtYti0OtgSkgVshsU7PKRSYUBKRYStHc8880xsy8iGQgnIU089NT5Wp/rj+9auXZvWrVtX9pUU38fcZdYoQCoFBqRURJg7XLVqVXwEwUaXnC5duqRGjRrF1/aEYVoW96xevbrsKyl+Bs0CDEiVEgNSKiI0A2CDPx+R9Upt167dbls2qkKLuRdffDGamYOQpc1cx44dU7NmzeJrUikwIKUiwvBo1j8VVH4MjdL1prrDqzQYWLlyZfkKVr7vrLPOSsccc0x0zZFKhQEpFREW4WSNx8H2DtrL8es9BSThyMKexx57LIZp+TXDsp07d47OO1Sh1QlZqVgYkFIRoVJkrpCPhaoTbCzsWbJkSTQYYAUr1SKhOHz48HTiiSd6jJVKjgEpFRGajNNDlblCqkYqQlrNsWiHirAybA9ZsWJFuvvuu9MLL7wQv2ZBTp8+faJ3K63pqtNgQCom/o2XigjDq7ST44R/hkdZcMNqVJoHsDo1Dwt6eM7UqVPTHXfcEYt82BJCz9bRo0dHg4GKFalUCjzuSioiVHnMO7IfklWonL5BABKULLKhsixsFkBlOX/+/Dj/ceLEiWnLli3xnBEjRqRRo0alrl27Vnv1q1RsPDBZKjIMpTJcOn78+HT//ffHghtWsp555pnRUeeII46I0CMMOSdy8eLF0VyAkzqoFocMGZLOOeecWJyTHaQslSIDUipCnAdJP1aGTR955JEIQirL9u3bx9wiAcncJFUm85SHHHJIHIjcu3fv2NJBiDKfKZUyA1IqUuyHJAA5E3L69OnxOUOtWRMBVqkyZ0kDgG7duqVevXrFkGp190xKxc6AlIoc1WQ2J7lmzZoYWkXz5s3jEOVWrVpFUNoEQNqdASkVOeYkebCKleqRwASLdRhqJRipGK0apd0ZkJIk5XAfpCRJOQxISZJyGJCSJOUwICVJymFASpKUw4CUJCmHASlJUg4DUpKkHAakJEk5DEhJknIYkJIk5TAgJUnKYUBKkpTDgJQkKYcBKUnS/0jp/wCW6ZettbJibAAAAABJRU5ErkJggg==)"
      ],
      "metadata": {
        "id": "GEpWx82coXpN"
      }
    },
    {
      "cell_type": "code",
      "source": [
        "# scaling, normalize except bias \n",
        "mean = X_train[:, 1:].mean(axis=0)\n",
        "std = X_train[:, 1:].std(axis=0)\n",
        "X_train[:, 1:] = (X_train[:, 1:] - mean) / std\n",
        "X_valid[:, 1:] = (X_valid[:, 1:] - mean) / std\n",
        "X_test[:, 1:] = (X_test[:, 1:] - mean) / std"
      ],
      "metadata": {
        "id": "I698yORxLad_"
      },
      "execution_count": null,
      "outputs": []
    },
    {
      "cell_type": "code",
      "source": [
        "X_train"
      ],
      "metadata": {
        "colab": {
          "base_uri": "https://localhost:8080/"
        },
        "id": "ulrmPzG9fZWJ",
        "outputId": "456eeb99-4603-4bba-f15a-d08088f43f12"
      },
      "execution_count": null,
      "outputs": [
        {
          "output_type": "execute_result",
          "data": {
            "text/plain": [
              "array([[ 1.        ,  0.63935691,  0.10418645],\n",
              "       [ 1.        , -1.04480275, -1.06791114],\n",
              "       [ 1.        ,  1.87440733,  1.53675017],\n",
              "       [ 1.        ,  0.5270796 ,  0.49488565],\n",
              "       [ 1.        ,  0.69549556,  0.36465258],\n",
              "       [ 1.        , -1.15708007, -0.93767807],\n",
              "       [ 1.        ,  0.0218317 ,  0.23441952],\n",
              "       [ 1.        ,  0.86391153,  1.53675017],\n",
              "       [ 1.        ,  0.5270796 ,  0.49488565],\n",
              "       [ 1.        ,  0.19024767,  0.10418645],\n",
              "       [ 1.        ,  0.86391153,  1.14605097],\n",
              "       [ 1.        , -1.21321872, -1.32837727],\n",
              "       [ 1.        , -1.26935738, -1.1981442 ],\n",
              "       [ 1.        , -1.15708007, -1.32837727],\n",
              "       [ 1.        , -1.15708007, -1.06791114],\n",
              "       [ 1.        ,  0.63935691,  0.62511871],\n",
              "       [ 1.        ,  1.25688212,  1.4065171 ],\n",
              "       [ 1.        ,  0.19024767, -0.02604661],\n",
              "       [ 1.        ,  0.5270796 ,  0.23441952],\n",
              "       [ 1.        ,  1.14460481,  1.4065171 ],\n",
              "       [ 1.        , -1.10094141, -1.1981442 ],\n",
              "       [ 1.        ,  0.75163422,  0.88558484],\n",
              "       [ 1.        , -1.10094141, -0.93767807],\n",
              "       [ 1.        ,  1.14460481,  1.27628404],\n",
              "       [ 1.        ,  1.59371405,  1.14605097],\n",
              "       [ 1.        ,  0.92005019,  1.53675017],\n",
              "       [ 1.        ,  1.25688212,  0.88558484],\n",
              "       [ 1.        ,  1.31302077,  1.53675017],\n",
              "       [ 1.        , -1.21321872, -1.06791114],\n",
              "       [ 1.        , -1.10094141, -1.1981442 ],\n",
              "       [ 1.        , -1.43777334, -1.1981442 ],\n",
              "       [ 1.        , -1.15708007, -0.93767807],\n",
              "       [ 1.        ,  0.47094094,  0.36465258],\n",
              "       [ 1.        , -1.10094141, -1.1981442 ],\n",
              "       [ 1.        , -1.26935738, -1.1981442 ],\n",
              "       [ 1.        ,  0.80777288,  1.01581791],\n",
              "       [ 1.        ,  0.5270796 ,  0.49488565],\n",
              "       [ 1.        , -1.15708007, -1.1981442 ],\n",
              "       [ 1.        , -1.21321872, -1.1981442 ],\n",
              "       [ 1.        , -1.15708007, -1.32837727],\n",
              "       [ 1.        ,  0.86391153,  1.01581791],\n",
              "       [ 1.        ,  0.5270796 ,  0.62511871],\n",
              "       [ 1.        ,  0.63935691,  0.49488565],\n",
              "       [ 1.        , -1.26935738, -0.93767807],\n",
              "       [ 1.        , -1.15708007, -1.1981442 ],\n",
              "       [ 1.        ,  0.07797035, -0.15627968],\n",
              "       [ 1.        ,  0.86391153,  0.49488565],\n",
              "       [ 1.        ,  1.08846615,  0.88558484],\n",
              "       [ 1.        ,  0.47094094,  0.36465258],\n",
              "       [ 1.        ,  1.42529809,  1.7972163 ],\n",
              "       [ 1.        ,  0.35866363,  0.23441952],\n",
              "       [ 1.        ,  1.70599136,  1.27628404],\n",
              "       [ 1.        ,  0.5270796 ,  0.49488565],\n",
              "       [ 1.        , -1.21321872, -1.1981442 ],\n",
              "       [ 1.        ,  1.76213002,  1.14605097],\n",
              "       [ 1.        ,  0.30252498, -0.15627968],\n",
              "       [ 1.        , -1.21321872, -1.1981442 ],\n",
              "       [ 1.        , -1.26935738, -1.06791114],\n",
              "       [ 1.        , -0.93252544, -0.93767807],\n",
              "       [ 1.        , -0.03430696, -0.15627968],\n",
              "       [ 1.        ,  0.75163422,  0.88558484],\n",
              "       [ 1.        , -0.93252544, -1.1981442 ],\n",
              "       [ 1.        , -1.10094141, -1.1981442 ],\n",
              "       [ 1.        , -1.04480275, -0.807445  ],\n",
              "       [ 1.        ,  0.35866363,  0.23441952],\n",
              "       [ 1.        , -1.15708007, -1.1981442 ],\n",
              "       [ 1.        ,  0.35866363,  0.10418645],\n",
              "       [ 1.        ,  1.76213002,  1.4065171 ],\n",
              "       [ 1.        , -1.21321872, -1.1981442 ],\n",
              "       [ 1.        ,  0.41480229,  0.23441952],\n",
              "       [ 1.        ,  0.80777288,  1.14605097],\n",
              "       [ 1.        , -1.21321872, -1.1981442 ],\n",
              "       [ 1.        ,  0.69549556,  0.88558484],\n",
              "       [ 1.        ,  0.86391153,  1.01581791],\n",
              "       [ 1.        ,  0.24638632, -0.15627968],\n",
              "       [ 1.        ,  0.5270796 ,  0.49488565],\n",
              "       [ 1.        ,  1.0323275 ,  1.53675017],\n",
              "       [ 1.        ,  0.24638632,  0.23441952],\n",
              "       [ 1.        , -1.04480275, -0.93767807],\n",
              "       [ 1.        , -0.14658427, -0.15627968],\n",
              "       [ 1.        ,  0.97618884,  1.01581791],\n",
              "       [ 1.        , -1.21321872, -1.1981442 ],\n",
              "       [ 1.        , -1.32549603, -1.1981442 ],\n",
              "       [ 1.        ,  0.13410901, -0.02604661],\n",
              "       [ 1.        ,  0.80777288,  0.75535178],\n",
              "       [ 1.        , -1.15708007, -1.1981442 ],\n",
              "       [ 1.        ,  0.86391153,  1.66698324],\n",
              "       [ 1.        , -1.15708007, -1.1981442 ],\n",
              "       [ 1.        , -1.10094141, -0.67721194],\n",
              "       [ 1.        ,  0.69549556,  0.88558484]])"
            ]
          },
          "metadata": {},
          "execution_count": 34
        }
      ]
    },
    {
      "cell_type": "markdown",
      "source": [
        "## Training"
      ],
      "metadata": {
        "id": "goxnavyXAdYF"
      }
    },
    {
      "cell_type": "markdown",
      "source": [
        "\n",
        "$\\sigma\\left(\\mathbf{s}(\\mathbf{x})\\right)_k = \\dfrac{\\exp\\left(s_k(\\mathbf{x})\\right)}{\\sum\\limits_{j=1}^{K}{\\exp\\left(s_j(\\mathbf{x})\\right)}}$"
      ],
      "metadata": {
        "id": "ry3v0ByKfxpU"
      }
    },
    {
      "cell_type": "code",
      "source": [
        "# define softmax\n",
        "def softmax(logits):\n",
        "    exps = np.exp(logits)\n",
        "    exp_sums = exps.sum(axis=1, keepdims=True) # row \n",
        "    return exps / exp_sums"
      ],
      "metadata": {
        "id": "qP-pMm1rLdnj"
      },
      "execution_count": null,
      "outputs": []
    },
    {
      "cell_type": "code",
      "source": [
        "n_inputs = X_train.shape[1]  # == 3 (2 features plus the bias term)\n",
        "n_outputs = len(np.unique(y_train, axis = 0))  # == 3 (there are 3 iris classes)"
      ],
      "metadata": {
        "id": "Mzr-KBH1ZEb_"
      },
      "execution_count": null,
      "outputs": []
    },
    {
      "cell_type": "code",
      "source": [
        "y_train.shape"
      ],
      "metadata": {
        "colab": {
          "base_uri": "https://localhost:8080/"
        },
        "id": "VIzeMB_Ghlmz",
        "outputId": "a358512f-8c21-449e-9c9f-16272afd5350"
      },
      "execution_count": null,
      "outputs": [
        {
          "output_type": "execute_result",
          "data": {
            "text/plain": [
              "(90, 3)"
            ]
          },
          "metadata": {},
          "execution_count": 37
        }
      ]
    },
    {
      "cell_type": "code",
      "source": [
        "n_inputs"
      ],
      "metadata": {
        "colab": {
          "base_uri": "https://localhost:8080/"
        },
        "id": "DD2fMZ1ggxR0",
        "outputId": "59655629-bf6b-4f5b-fa98-98f48134f5cd"
      },
      "execution_count": null,
      "outputs": [
        {
          "output_type": "execute_result",
          "data": {
            "text/plain": [
              "3"
            ]
          },
          "metadata": {},
          "execution_count": 38
        }
      ]
    },
    {
      "cell_type": "code",
      "source": [
        "n_outputs"
      ],
      "metadata": {
        "colab": {
          "base_uri": "https://localhost:8080/"
        },
        "id": "o098RA71gz7E",
        "outputId": "c56df466-5b62-4c7f-8532-890175ac78c2"
      },
      "execution_count": null,
      "outputs": [
        {
          "output_type": "execute_result",
          "data": {
            "text/plain": [
              "3"
            ]
          },
          "metadata": {},
          "execution_count": 39
        }
      ]
    },
    {
      "cell_type": "markdown",
      "source": [
        "So the equations we will need are the cost function:\n",
        "\n",
        "$J(\\mathbf{\\Theta}) =\n",
        "- \\dfrac{1}{m}\\sum\\limits_{i=1}^{m}\\sum\\limits_{k=1}^{K}{y_k^{(i)}\\log\\left(\\hat{p}_k^{(i)}\\right)}$\n",
        "\n",
        "And the equation for the gradients:\n",
        "\n",
        "$\\nabla_{\\mathbf{\\theta}^{(k)}} \\, J(\\mathbf{\\Theta}) = \\dfrac{1}{m} \\sum\\limits_{i=1}^{m}{ \\left ( \\hat{p}^{(i)}_k - y_k^{(i)} \\right ) \\mathbf{x}^{(i)}}$\n",
        "\n",
        "Note that $\\log\\left(\\hat{p}_k^{(i)}\\right)$ may not be computable if $\\hat{p}_k^{(i)} = 0$. So we will add a tiny value $\\epsilon$ to $\\log\\left(\\hat{p}_k^{(i)}\\right)$ to avoid getting `nan` values."
      ],
      "metadata": {
        "id": "m6RC2sFiZ5Rq"
      }
    },
    {
      "cell_type": "code",
      "source": [
        "eta = 0.5 # learning rate\n",
        "n_epochs = 15001\n",
        "m = len(X_train) # number of instances\n",
        "epsilon = 1e-5 \n",
        "best_loss = sys.maxsize\n",
        "\n",
        "np.random.seed(42)\n",
        "theta = np.random.randn(n_inputs, n_outputs) # randomly initialized model parameters\n",
        "# [0,1) arası random values\n",
        "\n",
        "train_loss = []\n",
        "val_loss = []\n",
        "\n",
        "for epoch in range(n_epochs):\n",
        "  logits = X_train @ theta # sum , (150,3) @ (3,3) --> (150,3)\n",
        "  y_proba = softmax(logits)\n",
        "\n",
        "  # calculate the training loss \n",
        "  xentropy_losses_train = -(y_train * np.log(y_proba + epsilon))\n",
        "  total_loss_train = xentropy_losses_train.sum(axis=1).mean()\n",
        "  train_loss.append(total_loss_train)\n",
        "\n",
        "  # calculate validation loss\n",
        "  y_proba_valid = softmax(X_valid @ theta)\n",
        "  xentropy_losses = -(y_valid * np.log(y_proba_valid + epsilon))\n",
        "  total_loss = xentropy_losses.sum(axis=1).mean()\n",
        "  val_loss.append(total_loss)\n",
        "\n",
        "  if epoch % 1000 == 0:\n",
        "        print(\"Epoch: \",epoch,\" - Loss: \" ,total_loss.round(4))\n",
        "  \n",
        "  # calculate gradients and update weigt\n",
        "  error = y_proba - y_train\n",
        "  gradients = 1 / m * X_train.T @ error\n",
        "  theta = theta - eta * gradients"
      ],
      "metadata": {
        "colab": {
          "base_uri": "https://localhost:8080/"
        },
        "id": "iLtObuQfBQuD",
        "outputId": "20220368-2717-4a30-b331-a26567630c22"
      },
      "execution_count": null,
      "outputs": [
        {
          "output_type": "stream",
          "name": "stdout",
          "text": [
            "Epoch:  0  - Loss:  3.7086\n",
            "Epoch:  1000  - Loss:  0.1452\n",
            "Epoch:  2000  - Loss:  0.1301\n",
            "Epoch:  3000  - Loss:  0.1201\n",
            "Epoch:  4000  - Loss:  0.1137\n",
            "Epoch:  5000  - Loss:  0.11\n",
            "Epoch:  6000  - Loss:  0.108\n",
            "Epoch:  7000  - Loss:  0.1071\n",
            "Epoch:  8000  - Loss:  0.1068\n",
            "Epoch:  9000  - Loss:  0.1068\n",
            "Epoch:  10000  - Loss:  0.1071\n",
            "Epoch:  11000  - Loss:  0.1075\n",
            "Epoch:  12000  - Loss:  0.108\n",
            "Epoch:  13000  - Loss:  0.1084\n",
            "Epoch:  14000  - Loss:  0.109\n",
            "Epoch:  15000  - Loss:  0.1095\n"
          ]
        }
      ]
    },
    {
      "cell_type": "code",
      "source": [
        "eta = 0.5 # learning rate\n",
        "n_epochs = 15001\n",
        "m = len(X_train) # number of instances\n",
        "epsilon = 1e-5 \n",
        "best_loss = sys.maxsize\n",
        "\n",
        "np.random.seed(42)\n",
        "theta = np.random.randn(n_inputs, n_outputs) # randomly initialized model parameters\n",
        "# [0,1) arası random values\n",
        "\n",
        "train_loss = []\n",
        "val_loss = []\n",
        "\n",
        "for epoch in range(n_epochs):\n",
        "  logits = X_train @ theta # sum , (150,3) @ (3,3) --> (150,3)\n",
        "  y_proba = softmax(logits)\n",
        "\n",
        "  # calculate the training loss \n",
        "  xentropy_losses_train = -(y_train * np.log(y_proba + epsilon))\n",
        "  total_loss_train = xentropy_losses_train.sum(axis=1).mean()\n",
        "  train_loss.append(total_loss_train)\n",
        "\n",
        "  # calculate validation loss\n",
        "  y_proba_valid = softmax(X_valid @ theta)\n",
        "  xentropy_losses = -(y_valid * np.log(y_proba_valid + epsilon))\n",
        "  total_loss = xentropy_losses.sum(axis=1).mean()\n",
        "  val_loss.append(total_loss)\n",
        "\n",
        "  if epoch % 1000 == 0:\n",
        "        print(\"Epoch: \",epoch,\" - Loss: \" ,total_loss.round(4))\n",
        " \n",
        "  # update best loss\n",
        "  if total_loss < best_loss:\n",
        "        best_loss = total_loss\n",
        "\n",
        "  # early stopping\n",
        "  else:\n",
        "        print(\"---\")\n",
        "        print(\"Loss of the previous Epoch is smaller, time to stop\")\n",
        "        print(\"Previous Epoch: \",epoch - 1, \" and its Loss: \", best_loss)\n",
        "        print(\"Epoch: \",epoch,\" - Loss: \" ,total_loss, \" --> Early Stopping\")\n",
        "        break\n",
        "  \n",
        "  # calculate gradients and update weigt\n",
        "  error = y_proba - y_train\n",
        "  gradients = 1 / m * X_train.T @ error\n",
        "  theta = theta - eta * gradients"
      ],
      "metadata": {
        "colab": {
          "base_uri": "https://localhost:8080/"
        },
        "id": "2pNvnsCaAdxR",
        "outputId": "dae57ff7-0bcc-43d1-9129-d02eecc642f1"
      },
      "execution_count": null,
      "outputs": [
        {
          "output_type": "stream",
          "name": "stdout",
          "text": [
            "Epoch:  0  - Loss:  3.7086\n",
            "Epoch:  1000  - Loss:  0.1452\n",
            "Epoch:  2000  - Loss:  0.1301\n",
            "Epoch:  3000  - Loss:  0.1201\n",
            "Epoch:  4000  - Loss:  0.1137\n",
            "Epoch:  5000  - Loss:  0.11\n",
            "Epoch:  6000  - Loss:  0.108\n",
            "Epoch:  7000  - Loss:  0.1071\n",
            "Epoch:  8000  - Loss:  0.1068\n",
            "---\n",
            "Loss of the previous Epoch is smaller, time to stop\n",
            "Previous Epoch:  8301  and its Loss:  0.10677762811061084\n",
            "Epoch:  8302  - Loss:  0.10677762836724909  --> Early Stopping\n"
          ]
        }
      ]
    },
    {
      "cell_type": "code",
      "source": [
        "theta"
      ],
      "metadata": {
        "colab": {
          "base_uri": "https://localhost:8080/"
        },
        "id": "x2JVPmIPjg4e",
        "outputId": "f17df593-e67a-494e-c273-502970897c69"
      },
      "execution_count": null,
      "outputs": [
        {
          "output_type": "execute_result",
          "data": {
            "text/plain": [
              "array([[ 0.61792877,  6.898904  , -6.51069438],\n",
              "       [-7.38909415, -1.58166658, 10.02550026],\n",
              "       [-5.93348223,  0.64543987,  7.16521552]])"
            ]
          },
          "metadata": {},
          "execution_count": 69
        }
      ]
    },
    {
      "cell_type": "code",
      "source": [
        "# Generate a sequence of integers to represent the epoch numbers\n",
        "epochs = range(0, 8303)\n",
        " \n",
        "# Plot and label the validation loss values\n",
        "plt.plot(epochs, val_loss, label='Validation Loss')\n",
        " \n",
        "# Add in a title and axes labels\n",
        "plt.title('Validation Loss')\n",
        "plt.xlabel('Epochs')\n",
        "plt.ylabel('Loss')\n",
        " \n",
        "# Display the plot\n",
        "plt.show()"
      ],
      "metadata": {
        "colab": {
          "base_uri": "https://localhost:8080/",
          "height": 472
        },
        "id": "w0N_lqEg_h8H",
        "outputId": "e4a0d6a9-6746-422b-a3ba-c2bd750559df"
      },
      "execution_count": null,
      "outputs": [
        {
          "output_type": "display_data",
          "data": {
            "text/plain": [
              "<Figure size 640x480 with 1 Axes>"
            ],
            "image/png": "[encoded data removed]"
          },
          "metadata": {}
        }
      ]
    },
    {
      "cell_type": "markdown",
      "source": [
        "## Accuracy"
      ],
      "metadata": {
        "id": "5DyGMOPGLxaG"
      }
    },
    {
      "cell_type": "code",
      "source": [
        "logits = X_valid @ theta\n",
        "y_proba = softmax(logits)\n",
        "y_predict = y_proba.argmax(axis=1)\n",
        "y_predict = to_categorical(y_predict)\n",
        "\n",
        "accuracy_score = (y_predict == y_valid).mean()\n",
        "accuracy_score"
      ],
      "metadata": {
        "colab": {
          "base_uri": "https://localhost:8080/"
        },
        "id": "HhMCvfs9Lzgj",
        "outputId": "12e75b06-eae0-4c82-b0ec-f92029275c2a"
      },
      "execution_count": null,
      "outputs": [
        {
          "output_type": "execute_result",
          "data": {
            "text/plain": [
              "0.9555555555555556"
            ]
          },
          "metadata": {},
          "execution_count": 56
        }
      ]
    },
    {
      "cell_type": "code",
      "source": [
        "y_proba"
      ],
      "metadata": {
        "colab": {
          "base_uri": "https://localhost:8080/"
        },
        "id": "7V9l0nMDj4DZ",
        "outputId": "08bdf21a-ad42-4bc2-e2ea-23da67b503bd"
      },
      "execution_count": null,
      "outputs": [
        {
          "output_type": "execute_result",
          "data": {
            "text/plain": [
              "array([[1.36499482e-02, 9.86350020e-01, 3.22605499e-08],\n",
              "       [1.87289778e-15, 2.62741774e-05, 9.99973726e-01],\n",
              "       [6.76038501e-08, 3.33232545e-01, 6.66767387e-01],\n",
              "       [2.09619864e-08, 9.50502561e-02, 9.04949723e-01],\n",
              "       [3.75149229e-17, 1.93899148e-06, 9.99998061e-01],\n",
              "       [9.57001979e-05, 9.99783528e-01, 1.20772122e-04],\n",
              "       [9.99824413e-01, 1.75586707e-04, 8.17485033e-20],\n",
              "       [9.99971966e-01, 2.80341617e-05, 7.90583312e-22],\n",
              "       [4.57825822e-07, 6.91490967e-01, 3.08508575e-01],\n",
              "       [5.04604817e-13, 2.59556113e-04, 9.99740444e-01],\n",
              "       [9.99756751e-01, 2.43249211e-04, 2.17285410e-19],\n",
              "       [9.99586487e-01, 4.13512678e-04, 4.50020468e-19],\n",
              "       [9.99873257e-01, 1.26742904e-04, 3.07553646e-20],\n",
              "       [7.44223043e-07, 8.11334871e-01, 1.88664384e-01],\n",
              "       [9.04149921e-16, 2.15658639e-05, 9.99978434e-01],\n",
              "       [9.99586487e-01, 4.13512678e-04, 4.50020468e-19],\n",
              "       [4.01021774e-13, 5.28206208e-04, 9.99471794e-01],\n",
              "       [3.28907001e-18, 6.80858515e-07, 9.99999319e-01],\n",
              "       [9.99873257e-01, 1.26742904e-04, 3.07553646e-20],\n",
              "       [4.03830852e-06, 9.73682972e-01, 2.63129897e-02],\n",
              "       [2.36157113e-06, 9.68122843e-01, 3.18747951e-02],\n",
              "       [3.81588180e-08, 3.92468144e-01, 6.07531818e-01],\n",
              "       [4.03830852e-06, 9.73682972e-01, 2.63129897e-02],\n",
              "       [9.34741382e-14, 3.55917820e-04, 9.99644082e-01],\n",
              "       [9.99663023e-01, 3.36976737e-04, 5.77523943e-19],\n",
              "       [1.06546066e-12, 1.01294011e-03, 9.98987060e-01],\n",
              "       [8.96539715e-06, 9.97567243e-01, 2.42379184e-03],\n",
              "       [4.11358921e-11, 8.64944656e-03, 9.91350553e-01],\n",
              "       [6.34584714e-03, 9.93653791e-01, 3.61472519e-07],\n",
              "       [5.62868758e-05, 9.99796571e-01, 1.47142007e-04]])"
            ]
          },
          "metadata": {},
          "execution_count": 57
        }
      ]
    },
    {
      "cell_type": "code",
      "source": [
        "y_predict"
      ],
      "metadata": {
        "colab": {
          "base_uri": "https://localhost:8080/"
        },
        "id": "kFrbGw-ij7vX",
        "outputId": "97f01e02-5db6-4464-bfa8-75bc6e27b25d"
      },
      "execution_count": null,
      "outputs": [
        {
          "output_type": "execute_result",
          "data": {
            "text/plain": [
              "array([[0, 1, 0],\n",
              "       [0, 0, 1],\n",
              "       [0, 0, 1],\n",
              "       [0, 0, 1],\n",
              "       [0, 0, 1],\n",
              "       [0, 1, 0],\n",
              "       [1, 0, 0],\n",
              "       [1, 0, 0],\n",
              "       [0, 1, 0],\n",
              "       [0, 0, 1],\n",
              "       [1, 0, 0],\n",
              "       [1, 0, 0],\n",
              "       [1, 0, 0],\n",
              "       [0, 1, 0],\n",
              "       [0, 0, 1],\n",
              "       [1, 0, 0],\n",
              "       [0, 0, 1],\n",
              "       [0, 0, 1],\n",
              "       [1, 0, 0],\n",
              "       [0, 1, 0],\n",
              "       [0, 1, 0],\n",
              "       [0, 0, 1],\n",
              "       [0, 1, 0],\n",
              "       [0, 0, 1],\n",
              "       [1, 0, 0],\n",
              "       [0, 0, 1],\n",
              "       [0, 1, 0],\n",
              "       [0, 0, 1],\n",
              "       [0, 1, 0],\n",
              "       [0, 1, 0]])"
            ]
          },
          "metadata": {},
          "execution_count": 58
        }
      ]
    },
    {
      "cell_type": "markdown",
      "source": [
        "## Test"
      ],
      "metadata": {
        "id": "6FQ4t0_0nT-y"
      }
    },
    {
      "cell_type": "code",
      "source": [
        "logits = X_test @ theta\n",
        "Y_proba = softmax(logits)\n",
        "y_predict = Y_proba.argmax(axis=1)\n",
        "y_predict = to_categorical(y_predict)\n",
        "\n",
        "accuracy_score = (y_predict == y_test).mean()\n",
        "accuracy_score"
      ],
      "metadata": {
        "colab": {
          "base_uri": "https://localhost:8080/"
        },
        "id": "q-peRkCsnVVm",
        "outputId": "d9468413-a432-4a63-c330-b13493ed76c5"
      },
      "execution_count": null,
      "outputs": [
        {
          "output_type": "execute_result",
          "data": {
            "text/plain": [
              "0.9777777777777777"
            ]
          },
          "metadata": {},
          "execution_count": 59
        }
      ]
    }
  ]
}